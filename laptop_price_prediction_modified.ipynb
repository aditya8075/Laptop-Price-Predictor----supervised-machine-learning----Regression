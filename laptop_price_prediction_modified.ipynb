{
  "cells": [
    {
      "cell_type": "markdown",
      "metadata": {
        "id": "view-in-github",
        "colab_type": "text"
      },
      "source": [
        "<a href=\"https://colab.research.google.com/github/aditya8075/Laptop-Price-Predictor----supervised-machine-learning----Regression/blob/main/laptop_price_prediction_modified.ipynb\" target=\"_parent\"><img src=\"https://colab.research.google.com/assets/colab-badge.svg\" alt=\"Open In Colab\"/></a>"
      ]
    },
    {
      "cell_type": "code",
      "execution_count": null,
      "metadata": {
        "id": "U-4Z7ZmKSqjp"
      },
      "outputs": [],
      "source": [
        "import pandas as pd\n",
        "import numpy as np \n",
        "import matplotlib.pyplot as plt\n",
        "import seaborn as sns\n",
        "%matplotlib inline"
      ]
    },
    {
      "cell_type": "code",
      "execution_count": null,
      "metadata": {
        "colab": {
          "base_uri": "https://localhost:8080/"
        },
        "id": "DwAhJkvbSspN",
        "outputId": "8cc8580e-853a-4a3a-a820-5f2842a6d8e7"
      },
      "outputs": [
        {
          "name": "stdout",
          "output_type": "stream",
          "text": [
            "Mounted at /content/drive\n"
          ]
        }
      ],
      "source": [
        "from google.colab import drive\n",
        "drive.mount('/content/drive')"
      ]
    },
    {
      "cell_type": "code",
      "execution_count": null,
      "metadata": {
        "id": "judQzY7eSxDu"
      },
      "outputs": [],
      "source": [
        "df=pd.read_csv('/content/drive/MyDrive/laptop_data.csv')"
      ]
    },
    {
      "cell_type": "code",
      "execution_count": null,
      "metadata": {
        "colab": {
          "base_uri": "https://localhost:8080/",
          "height": 206
        },
        "id": "WprkdMGMS0HK",
        "outputId": "e418e0ae-9f05-47fc-aa1a-3869ec7cd311"
      },
      "outputs": [
        {
          "data": {
            "text/html": [
              "\n",
              "  <div id=\"df-a118d72c-d1cb-4185-8892-3a43be0ae2d2\">\n",
              "    <div class=\"colab-df-container\">\n",
              "      <div>\n",
              "<style scoped>\n",
              "    .dataframe tbody tr th:only-of-type {\n",
              "        vertical-align: middle;\n",
              "    }\n",
              "\n",
              "    .dataframe tbody tr th {\n",
              "        vertical-align: top;\n",
              "    }\n",
              "\n",
              "    .dataframe thead th {\n",
              "        text-align: right;\n",
              "    }\n",
              "</style>\n",
              "<table border=\"1\" class=\"dataframe\">\n",
              "  <thead>\n",
              "    <tr style=\"text-align: right;\">\n",
              "      <th></th>\n",
              "      <th>Unnamed: 0</th>\n",
              "      <th>Company</th>\n",
              "      <th>TypeName</th>\n",
              "      <th>Inches</th>\n",
              "      <th>ScreenResolution</th>\n",
              "      <th>Cpu</th>\n",
              "      <th>Ram</th>\n",
              "      <th>Memory</th>\n",
              "      <th>Gpu</th>\n",
              "      <th>OpSys</th>\n",
              "      <th>Weight</th>\n",
              "      <th>Price</th>\n",
              "    </tr>\n",
              "  </thead>\n",
              "  <tbody>\n",
              "    <tr>\n",
              "      <th>0</th>\n",
              "      <td>0</td>\n",
              "      <td>Apple</td>\n",
              "      <td>Ultrabook</td>\n",
              "      <td>13.3</td>\n",
              "      <td>IPS Panel Retina Display 2560x1600</td>\n",
              "      <td>Intel Core i5 2.3GHz</td>\n",
              "      <td>8GB</td>\n",
              "      <td>128GB SSD</td>\n",
              "      <td>Intel Iris Plus Graphics 640</td>\n",
              "      <td>macOS</td>\n",
              "      <td>1.37kg</td>\n",
              "      <td>71378.6832</td>\n",
              "    </tr>\n",
              "    <tr>\n",
              "      <th>1</th>\n",
              "      <td>1</td>\n",
              "      <td>Apple</td>\n",
              "      <td>Ultrabook</td>\n",
              "      <td>13.3</td>\n",
              "      <td>1440x900</td>\n",
              "      <td>Intel Core i5 1.8GHz</td>\n",
              "      <td>8GB</td>\n",
              "      <td>128GB Flash Storage</td>\n",
              "      <td>Intel HD Graphics 6000</td>\n",
              "      <td>macOS</td>\n",
              "      <td>1.34kg</td>\n",
              "      <td>47895.5232</td>\n",
              "    </tr>\n",
              "    <tr>\n",
              "      <th>2</th>\n",
              "      <td>2</td>\n",
              "      <td>HP</td>\n",
              "      <td>Notebook</td>\n",
              "      <td>15.6</td>\n",
              "      <td>Full HD 1920x1080</td>\n",
              "      <td>Intel Core i5 7200U 2.5GHz</td>\n",
              "      <td>8GB</td>\n",
              "      <td>256GB SSD</td>\n",
              "      <td>Intel HD Graphics 620</td>\n",
              "      <td>No OS</td>\n",
              "      <td>1.86kg</td>\n",
              "      <td>30636.0000</td>\n",
              "    </tr>\n",
              "    <tr>\n",
              "      <th>3</th>\n",
              "      <td>3</td>\n",
              "      <td>Apple</td>\n",
              "      <td>Ultrabook</td>\n",
              "      <td>15.4</td>\n",
              "      <td>IPS Panel Retina Display 2880x1800</td>\n",
              "      <td>Intel Core i7 2.7GHz</td>\n",
              "      <td>16GB</td>\n",
              "      <td>512GB SSD</td>\n",
              "      <td>AMD Radeon Pro 455</td>\n",
              "      <td>macOS</td>\n",
              "      <td>1.83kg</td>\n",
              "      <td>135195.3360</td>\n",
              "    </tr>\n",
              "    <tr>\n",
              "      <th>4</th>\n",
              "      <td>4</td>\n",
              "      <td>Apple</td>\n",
              "      <td>Ultrabook</td>\n",
              "      <td>13.3</td>\n",
              "      <td>IPS Panel Retina Display 2560x1600</td>\n",
              "      <td>Intel Core i5 3.1GHz</td>\n",
              "      <td>8GB</td>\n",
              "      <td>256GB SSD</td>\n",
              "      <td>Intel Iris Plus Graphics 650</td>\n",
              "      <td>macOS</td>\n",
              "      <td>1.37kg</td>\n",
              "      <td>96095.8080</td>\n",
              "    </tr>\n",
              "  </tbody>\n",
              "</table>\n",
              "</div>\n",
              "      <button class=\"colab-df-convert\" onclick=\"convertToInteractive('df-a118d72c-d1cb-4185-8892-3a43be0ae2d2')\"\n",
              "              title=\"Convert this dataframe to an interactive table.\"\n",
              "              style=\"display:none;\">\n",
              "        \n",
              "  <svg xmlns=\"http://www.w3.org/2000/svg\" height=\"24px\"viewBox=\"0 0 24 24\"\n",
              "       width=\"24px\">\n",
              "    <path d=\"M0 0h24v24H0V0z\" fill=\"none\"/>\n",
              "    <path d=\"M18.56 5.44l.94 2.06.94-2.06 2.06-.94-2.06-.94-.94-2.06-.94 2.06-2.06.94zm-11 1L8.5 8.5l.94-2.06 2.06-.94-2.06-.94L8.5 2.5l-.94 2.06-2.06.94zm10 10l.94 2.06.94-2.06 2.06-.94-2.06-.94-.94-2.06-.94 2.06-2.06.94z\"/><path d=\"M17.41 7.96l-1.37-1.37c-.4-.4-.92-.59-1.43-.59-.52 0-1.04.2-1.43.59L10.3 9.45l-7.72 7.72c-.78.78-.78 2.05 0 2.83L4 21.41c.39.39.9.59 1.41.59.51 0 1.02-.2 1.41-.59l7.78-7.78 2.81-2.81c.8-.78.8-2.07 0-2.86zM5.41 20L4 18.59l7.72-7.72 1.47 1.35L5.41 20z\"/>\n",
              "  </svg>\n",
              "      </button>\n",
              "      \n",
              "  <style>\n",
              "    .colab-df-container {\n",
              "      display:flex;\n",
              "      flex-wrap:wrap;\n",
              "      gap: 12px;\n",
              "    }\n",
              "\n",
              "    .colab-df-convert {\n",
              "      background-color: #E8F0FE;\n",
              "      border: none;\n",
              "      border-radius: 50%;\n",
              "      cursor: pointer;\n",
              "      display: none;\n",
              "      fill: #1967D2;\n",
              "      height: 32px;\n",
              "      padding: 0 0 0 0;\n",
              "      width: 32px;\n",
              "    }\n",
              "\n",
              "    .colab-df-convert:hover {\n",
              "      background-color: #E2EBFA;\n",
              "      box-shadow: 0px 1px 2px rgba(60, 64, 67, 0.3), 0px 1px 3px 1px rgba(60, 64, 67, 0.15);\n",
              "      fill: #174EA6;\n",
              "    }\n",
              "\n",
              "    [theme=dark] .colab-df-convert {\n",
              "      background-color: #3B4455;\n",
              "      fill: #D2E3FC;\n",
              "    }\n",
              "\n",
              "    [theme=dark] .colab-df-convert:hover {\n",
              "      background-color: #434B5C;\n",
              "      box-shadow: 0px 1px 3px 1px rgba(0, 0, 0, 0.15);\n",
              "      filter: drop-shadow(0px 1px 2px rgba(0, 0, 0, 0.3));\n",
              "      fill: #FFFFFF;\n",
              "    }\n",
              "  </style>\n",
              "\n",
              "      <script>\n",
              "        const buttonEl =\n",
              "          document.querySelector('#df-a118d72c-d1cb-4185-8892-3a43be0ae2d2 button.colab-df-convert');\n",
              "        buttonEl.style.display =\n",
              "          google.colab.kernel.accessAllowed ? 'block' : 'none';\n",
              "\n",
              "        async function convertToInteractive(key) {\n",
              "          const element = document.querySelector('#df-a118d72c-d1cb-4185-8892-3a43be0ae2d2');\n",
              "          const dataTable =\n",
              "            await google.colab.kernel.invokeFunction('convertToInteractive',\n",
              "                                                     [key], {});\n",
              "          if (!dataTable) return;\n",
              "\n",
              "          const docLinkHtml = 'Like what you see? Visit the ' +\n",
              "            '<a target=\"_blank\" href=https://colab.research.google.com/notebooks/data_table.ipynb>data table notebook</a>'\n",
              "            + ' to learn more about interactive tables.';\n",
              "          element.innerHTML = '';\n",
              "          dataTable['output_type'] = 'display_data';\n",
              "          await google.colab.output.renderOutput(dataTable, element);\n",
              "          const docLink = document.createElement('div');\n",
              "          docLink.innerHTML = docLinkHtml;\n",
              "          element.appendChild(docLink);\n",
              "        }\n",
              "      </script>\n",
              "    </div>\n",
              "  </div>\n",
              "  "
            ],
            "text/plain": [
              "   Unnamed: 0 Company   TypeName  Inches                    ScreenResolution  \\\n",
              "0           0   Apple  Ultrabook    13.3  IPS Panel Retina Display 2560x1600   \n",
              "1           1   Apple  Ultrabook    13.3                            1440x900   \n",
              "2           2      HP   Notebook    15.6                   Full HD 1920x1080   \n",
              "3           3   Apple  Ultrabook    15.4  IPS Panel Retina Display 2880x1800   \n",
              "4           4   Apple  Ultrabook    13.3  IPS Panel Retina Display 2560x1600   \n",
              "\n",
              "                          Cpu   Ram               Memory  \\\n",
              "0        Intel Core i5 2.3GHz   8GB            128GB SSD   \n",
              "1        Intel Core i5 1.8GHz   8GB  128GB Flash Storage   \n",
              "2  Intel Core i5 7200U 2.5GHz   8GB            256GB SSD   \n",
              "3        Intel Core i7 2.7GHz  16GB            512GB SSD   \n",
              "4        Intel Core i5 3.1GHz   8GB            256GB SSD   \n",
              "\n",
              "                            Gpu  OpSys  Weight        Price  \n",
              "0  Intel Iris Plus Graphics 640  macOS  1.37kg   71378.6832  \n",
              "1        Intel HD Graphics 6000  macOS  1.34kg   47895.5232  \n",
              "2         Intel HD Graphics 620  No OS  1.86kg   30636.0000  \n",
              "3            AMD Radeon Pro 455  macOS  1.83kg  135195.3360  \n",
              "4  Intel Iris Plus Graphics 650  macOS  1.37kg   96095.8080  "
            ]
          },
          "execution_count": 6,
          "metadata": {},
          "output_type": "execute_result"
        }
      ],
      "source": [
        "df.head()"
      ]
    },
    {
      "cell_type": "code",
      "execution_count": null,
      "metadata": {
        "colab": {
          "base_uri": "https://localhost:8080/"
        },
        "id": "o6Z5aH5JS3cY",
        "outputId": "e14a6c60-c047-4f04-c219-74f039cbdf6d"
      },
      "outputs": [
        {
          "data": {
            "text/plain": [
              "(1303, 12)"
            ]
          },
          "execution_count": 7,
          "metadata": {},
          "output_type": "execute_result"
        }
      ],
      "source": [
        "df.shape"
      ]
    },
    {
      "cell_type": "code",
      "execution_count": null,
      "metadata": {
        "colab": {
          "base_uri": "https://localhost:8080/"
        },
        "id": "qbM_rAeoTg0w",
        "outputId": "9ab3927f-320e-4fd6-9f8d-d9c54383959f"
      },
      "outputs": [
        {
          "data": {
            "text/plain": [
              "Index(['Unnamed: 0', 'Company', 'TypeName', 'Inches', 'ScreenResolution',\n",
              "       'Cpu', 'Ram', 'Memory', 'Gpu', 'OpSys', 'Weight', 'Price'],\n",
              "      dtype='object')"
            ]
          },
          "execution_count": 8,
          "metadata": {},
          "output_type": "execute_result"
        }
      ],
      "source": [
        "df.columns"
      ]
    },
    {
      "cell_type": "code",
      "execution_count": null,
      "metadata": {
        "id": "1e6XSh-tTjt1"
      },
      "outputs": [],
      "source": [
        "df=df.drop(['Unnamed: 0'],axis=1)"
      ]
    },
    {
      "cell_type": "code",
      "execution_count": null,
      "metadata": {
        "colab": {
          "base_uri": "https://localhost:8080/"
        },
        "id": "NuMPtwp7TnAQ",
        "outputId": "41c18d26-4d0e-493a-c48a-9ec2ba5977f1"
      },
      "outputs": [
        {
          "data": {
            "text/plain": [
              "Company             0\n",
              "TypeName            0\n",
              "Inches              0\n",
              "ScreenResolution    0\n",
              "Cpu                 0\n",
              "Ram                 0\n",
              "Memory              0\n",
              "Gpu                 0\n",
              "OpSys               0\n",
              "Weight              0\n",
              "Price               0\n",
              "dtype: int64"
            ]
          },
          "execution_count": 10,
          "metadata": {},
          "output_type": "execute_result"
        }
      ],
      "source": [
        "df.isna().sum()"
      ]
    },
    {
      "cell_type": "code",
      "execution_count": null,
      "metadata": {
        "colab": {
          "base_uri": "https://localhost:8080/"
        },
        "id": "gf56h6knTpxD",
        "outputId": "0a3812fa-c597-45c1-e3fe-b7b857572d6f"
      },
      "outputs": [
        {
          "data": {
            "text/plain": [
              "29"
            ]
          },
          "execution_count": 11,
          "metadata": {},
          "output_type": "execute_result"
        }
      ],
      "source": [
        "#cheaking the duplicates values\n",
        "\n",
        "df.duplicated().sum()"
      ]
    },
    {
      "cell_type": "code",
      "execution_count": null,
      "metadata": {
        "colab": {
          "base_uri": "https://localhost:8080/"
        },
        "id": "WVR4KRg7TswB",
        "outputId": "958513dd-8f52-4aa9-d152-c1d4b0195222"
      },
      "outputs": [
        {
          "name": "stdout",
          "output_type": "stream",
          "text": [
            "<class 'pandas.core.frame.DataFrame'>\n",
            "RangeIndex: 1303 entries, 0 to 1302\n",
            "Data columns (total 11 columns):\n",
            " #   Column            Non-Null Count  Dtype  \n",
            "---  ------            --------------  -----  \n",
            " 0   Company           1303 non-null   object \n",
            " 1   TypeName          1303 non-null   object \n",
            " 2   Inches            1303 non-null   float64\n",
            " 3   ScreenResolution  1303 non-null   object \n",
            " 4   Cpu               1303 non-null   object \n",
            " 5   Ram               1303 non-null   object \n",
            " 6   Memory            1303 non-null   object \n",
            " 7   Gpu               1303 non-null   object \n",
            " 8   OpSys             1303 non-null   object \n",
            " 9   Weight            1303 non-null   object \n",
            " 10  Price             1303 non-null   float64\n",
            "dtypes: float64(2), object(9)\n",
            "memory usage: 112.1+ KB\n"
          ]
        }
      ],
      "source": [
        "df.info()"
      ]
    },
    {
      "cell_type": "code",
      "execution_count": null,
      "metadata": {
        "colab": {
          "base_uri": "https://localhost:8080/"
        },
        "id": "PlCV70TWTwU4",
        "outputId": "fb1c383c-79f7-4543-caf6-a61120a3bf03"
      },
      "outputs": [
        {
          "name": "stdout",
          "output_type": "stream",
          "text": [
            "Index(['Company', 'TypeName', 'ScreenResolution', 'Cpu', 'Ram', 'Memory',\n",
            "       'Gpu', 'OpSys', 'Weight'],\n",
            "      dtype='object')\n",
            "Index(['Inches', 'Price'], dtype='object')\n"
          ]
        }
      ],
      "source": [
        "#lets see the catagorical columns and Integers\n",
        "\n",
        "catvar=df.select_dtypes(include=['object']).columns\n",
        "numvar=df.select_dtypes(include=['int32','int64','float32','float64']).columns\n",
        "print(catvar)\n",
        "print(numvar)"
      ]
    },
    {
      "cell_type": "code",
      "execution_count": null,
      "metadata": {
        "colab": {
          "base_uri": "https://localhost:8080/"
        },
        "id": "ozYsOd7STy6A",
        "outputId": "4778758e-7519-49fe-cd42-109d2216e1fa"
      },
      "outputs": [
        {
          "name": "stdout",
          "output_type": "stream",
          "text": [
            " details of perticular column Company is :  ['Apple' 'HP' 'Acer' 'Asus' 'Dell' 'Lenovo' 'Chuwi' 'MSI' 'Microsoft'\n",
            " 'Toshiba' 'Huawei' 'Xiaomi' 'Vero' 'Razer' 'Mediacom' 'Samsung' 'Google'\n",
            " 'Fujitsu' 'LG']\n",
            "---------------------------------------------------------------------------\n",
            " details of perticular column TypeName is :  ['Ultrabook' 'Notebook' 'Netbook' 'Gaming' '2 in 1 Convertible'\n",
            " 'Workstation']\n",
            "---------------------------------------------------------------------------\n",
            " details of perticular column Inches is :  [13.3 15.6 15.4 14.  12.  11.6 17.3 10.1 13.5 12.5 13.  18.4 13.9 12.3\n",
            " 17.  15.  14.1 11.3]\n",
            "---------------------------------------------------------------------------\n",
            " details of perticular column ScreenResolution is :  ['IPS Panel Retina Display 2560x1600' '1440x900' 'Full HD 1920x1080'\n",
            " 'IPS Panel Retina Display 2880x1800' '1366x768'\n",
            " 'IPS Panel Full HD 1920x1080' 'IPS Panel Retina Display 2304x1440'\n",
            " 'IPS Panel Full HD / Touchscreen 1920x1080'\n",
            " 'Full HD / Touchscreen 1920x1080' 'Touchscreen / Quad HD+ 3200x1800'\n",
            " 'IPS Panel Touchscreen 1920x1200' 'Touchscreen 2256x1504'\n",
            " 'Quad HD+ / Touchscreen 3200x1800' 'IPS Panel 1366x768'\n",
            " 'IPS Panel 4K Ultra HD / Touchscreen 3840x2160'\n",
            " 'IPS Panel Full HD 2160x1440' '4K Ultra HD / Touchscreen 3840x2160'\n",
            " 'Touchscreen 2560x1440' '1600x900' 'IPS Panel 4K Ultra HD 3840x2160'\n",
            " '4K Ultra HD 3840x2160' 'Touchscreen 1366x768'\n",
            " 'IPS Panel Full HD 1366x768' 'IPS Panel 2560x1440'\n",
            " 'IPS Panel Full HD 2560x1440' 'IPS Panel Retina Display 2736x1824'\n",
            " 'Touchscreen 2400x1600' '2560x1440' 'IPS Panel Quad HD+ 2560x1440'\n",
            " 'IPS Panel Quad HD+ 3200x1800'\n",
            " 'IPS Panel Quad HD+ / Touchscreen 3200x1800'\n",
            " 'IPS Panel Touchscreen 1366x768' '1920x1080'\n",
            " 'IPS Panel Full HD 1920x1200'\n",
            " 'IPS Panel Touchscreen / 4K Ultra HD 3840x2160'\n",
            " 'IPS Panel Touchscreen 2560x1440' 'Touchscreen / Full HD 1920x1080'\n",
            " 'Quad HD+ 3200x1800' 'Touchscreen / 4K Ultra HD 3840x2160'\n",
            " 'IPS Panel Touchscreen 2400x1600']\n",
            "---------------------------------------------------------------------------\n",
            " details of perticular column Cpu is :  ['Intel Core i5 2.3GHz' 'Intel Core i5 1.8GHz'\n",
            " 'Intel Core i5 7200U 2.5GHz' 'Intel Core i7 2.7GHz'\n",
            " 'Intel Core i5 3.1GHz' 'AMD A9-Series 9420 3GHz' 'Intel Core i7 2.2GHz'\n",
            " 'Intel Core i7 8550U 1.8GHz' 'Intel Core i5 8250U 1.6GHz'\n",
            " 'Intel Core i3 6006U 2GHz' 'Intel Core i7 2.8GHz'\n",
            " 'Intel Core M m3 1.2GHz' 'Intel Core i7 7500U 2.7GHz'\n",
            " 'Intel Core i7 2.9GHz' 'Intel Core i3 7100U 2.4GHz'\n",
            " 'Intel Atom x5-Z8350 1.44GHz' 'Intel Core i5 7300HQ 2.5GHz'\n",
            " 'AMD E-Series E2-9000e 1.5GHz' 'Intel Core i5 1.6GHz'\n",
            " 'Intel Core i7 8650U 1.9GHz' 'Intel Atom x5-Z8300 1.44GHz'\n",
            " 'AMD E-Series E2-6110 1.5GHz' 'AMD A6-Series 9220 2.5GHz'\n",
            " 'Intel Celeron Dual Core N3350 1.1GHz' 'Intel Core i3 7130U 2.7GHz'\n",
            " 'Intel Core i7 7700HQ 2.8GHz' 'Intel Core i5 2.0GHz'\n",
            " 'AMD Ryzen 1700 3GHz' 'Intel Pentium Quad Core N4200 1.1GHz'\n",
            " 'Intel Atom x5-Z8550 1.44GHz' 'Intel Celeron Dual Core N3060 1.6GHz'\n",
            " 'Intel Core i5 1.3GHz' 'AMD FX 9830P 3GHz' 'Intel Core i7 7560U 2.4GHz'\n",
            " 'AMD E-Series 6110 1.5GHz' 'Intel Core i5 6200U 2.3GHz'\n",
            " 'Intel Core M 6Y75 1.2GHz' 'Intel Core i5 7500U 2.7GHz'\n",
            " 'Intel Core i3 6006U 2.2GHz' 'AMD A6-Series 9220 2.9GHz'\n",
            " 'Intel Core i7 6920HQ 2.9GHz' 'Intel Core i5 7Y54 1.2GHz'\n",
            " 'Intel Core i7 7820HK 2.9GHz' 'Intel Xeon E3-1505M V6 3GHz'\n",
            " 'Intel Core i7 6500U 2.5GHz' 'AMD E-Series 9000e 1.5GHz'\n",
            " 'AMD A10-Series A10-9620P 2.5GHz' 'AMD A6-Series A6-9220 2.5GHz'\n",
            " 'Intel Core i5 2.9GHz' 'Intel Core i7 6600U 2.6GHz'\n",
            " 'Intel Core i3 6006U 2.0GHz' 'Intel Celeron Dual Core 3205U 1.5GHz'\n",
            " 'Intel Core i7 7820HQ 2.9GHz' 'AMD A10-Series 9600P 2.4GHz'\n",
            " 'Intel Core i7 7600U 2.8GHz' 'AMD A8-Series 7410 2.2GHz'\n",
            " 'Intel Celeron Dual Core 3855U 1.6GHz'\n",
            " 'Intel Pentium Quad Core N3710 1.6GHz' 'AMD A12-Series 9720P 2.7GHz'\n",
            " 'Intel Core i5 7300U 2.6GHz' 'AMD A12-Series 9720P 3.6GHz'\n",
            " 'Intel Celeron Quad Core N3450 1.1GHz'\n",
            " 'Intel Celeron Dual Core N3060 1.60GHz' 'Intel Core i5 6440HQ 2.6GHz'\n",
            " 'Intel Core i7 6820HQ 2.7GHz' 'AMD Ryzen 1600 3.2GHz'\n",
            " 'Intel Core i7 7Y75 1.3GHz' 'Intel Core i5 7440HQ 2.8GHz'\n",
            " 'Intel Core i7 7660U 2.5GHz' 'Intel Core i7 7700HQ 2.7GHz'\n",
            " 'Intel Core M m3-7Y30 2.2GHz' 'Intel Core i5 7Y57 1.2GHz'\n",
            " 'Intel Core i7 6700HQ 2.6GHz' 'Intel Core i3 6100U 2.3GHz'\n",
            " 'AMD A10-Series 9620P 2.5GHz' 'AMD E-Series 7110 1.8GHz'\n",
            " 'Intel Celeron Dual Core N3350 2.0GHz' 'AMD A9-Series A9-9420 3GHz'\n",
            " 'Intel Core i7 6820HK 2.7GHz' 'Intel Core M 7Y30 1.0GHz'\n",
            " 'Intel Xeon E3-1535M v6 3.1GHz' 'Intel Celeron Quad Core N3160 1.6GHz'\n",
            " 'Intel Core i5 6300U 2.4GHz' 'Intel Core i3 6100U 2.1GHz'\n",
            " 'AMD E-Series E2-9000 2.2GHz' 'Intel Celeron Dual Core N3050 1.6GHz'\n",
            " 'Intel Core M M3-6Y30 0.9GHz' 'AMD A9-Series 9420 2.9GHz'\n",
            " 'Intel Core i5 6300HQ 2.3GHz' 'AMD A6-Series 7310 2GHz'\n",
            " 'Intel Atom Z8350 1.92GHz' 'Intel Xeon E3-1535M v5 2.9GHz'\n",
            " 'Intel Core i5 6260U 1.8GHz' 'Intel Pentium Dual Core N4200 1.1GHz'\n",
            " 'Intel Celeron Quad Core N3710 1.6GHz' 'Intel Core M 1.2GHz'\n",
            " 'AMD A12-Series 9700P 2.5GHz' 'Intel Core i7 7500U 2.5GHz'\n",
            " 'Intel Pentium Dual Core 4405U 2.1GHz' 'AMD A4-Series 7210 2.2GHz'\n",
            " 'Intel Core i7 6560U 2.2GHz' 'Intel Core M m7-6Y75 1.2GHz'\n",
            " 'AMD FX 8800P 2.1GHz' 'Intel Core M M7-6Y75 1.2GHz'\n",
            " 'Intel Core i5 7200U 2.50GHz' 'Intel Core i5 7200U 2.70GHz'\n",
            " 'Intel Atom X5-Z8350 1.44GHz' 'Intel Core i5 7200U 2.7GHz'\n",
            " 'Intel Core M 1.1GHz' 'Intel Pentium Dual Core 4405Y 1.5GHz'\n",
            " 'Intel Pentium Quad Core N3700 1.6GHz' 'Intel Core M 6Y54 1.1GHz'\n",
            " 'Intel Core i7 6500U 2.50GHz' 'Intel Celeron Dual Core N3350 2GHz'\n",
            " 'Samsung Cortex A72&A53 2.0GHz' 'AMD E-Series 9000 2.2GHz'\n",
            " 'Intel Core M 6Y30 0.9GHz' 'AMD A9-Series 9410 2.9GHz']\n",
            "---------------------------------------------------------------------------\n",
            " details of perticular column Ram is :  ['8GB' '16GB' '4GB' '2GB' '12GB' '6GB' '32GB' '24GB' '64GB']\n",
            "---------------------------------------------------------------------------\n",
            " details of perticular column Memory is :  ['128GB SSD' '128GB Flash Storage' '256GB SSD' '512GB SSD' '500GB HDD'\n",
            " '256GB Flash Storage' '1TB HDD' '32GB Flash Storage'\n",
            " '128GB SSD +  1TB HDD' '256GB SSD +  256GB SSD' '64GB Flash Storage'\n",
            " '256GB SSD +  1TB HDD' '256GB SSD +  2TB HDD' '32GB SSD' '2TB HDD'\n",
            " '64GB SSD' '1.0TB Hybrid' '512GB SSD +  1TB HDD' '1TB SSD'\n",
            " '256GB SSD +  500GB HDD' '128GB SSD +  2TB HDD' '512GB SSD +  512GB SSD'\n",
            " '16GB SSD' '16GB Flash Storage' '512GB SSD +  256GB SSD'\n",
            " '512GB SSD +  2TB HDD' '64GB Flash Storage +  1TB HDD' '180GB SSD'\n",
            " '1TB HDD +  1TB HDD' '32GB HDD' '1TB SSD +  1TB HDD'\n",
            " '512GB Flash Storage' '128GB HDD' '240GB SSD' '8GB SSD' '508GB Hybrid'\n",
            " '1.0TB HDD' '512GB SSD +  1.0TB Hybrid' '256GB SSD +  1.0TB Hybrid']\n",
            "---------------------------------------------------------------------------\n",
            " details of perticular column Gpu is :  ['Intel Iris Plus Graphics 640' 'Intel HD Graphics 6000'\n",
            " 'Intel HD Graphics 620' 'AMD Radeon Pro 455'\n",
            " 'Intel Iris Plus Graphics 650' 'AMD Radeon R5' 'Intel Iris Pro Graphics'\n",
            " 'Nvidia GeForce MX150' 'Intel UHD Graphics 620' 'Intel HD Graphics 520'\n",
            " 'AMD Radeon Pro 555' 'AMD Radeon R5 M430' 'Intel HD Graphics 615'\n",
            " 'AMD Radeon Pro 560' 'Nvidia GeForce 940MX' 'Intel HD Graphics 400'\n",
            " 'Nvidia GeForce GTX 1050' 'AMD Radeon R2' 'AMD Radeon 530'\n",
            " 'Nvidia GeForce 930MX' 'Intel HD Graphics' 'Intel HD Graphics 500'\n",
            " 'Nvidia GeForce 930MX ' 'Nvidia GeForce GTX 1060' 'Nvidia GeForce 150MX'\n",
            " 'Intel Iris Graphics 540' 'AMD Radeon RX 580' 'Nvidia GeForce 920MX'\n",
            " 'AMD Radeon R4 Graphics' 'AMD Radeon 520' 'Nvidia GeForce GTX 1070'\n",
            " 'Nvidia GeForce GTX 1050 Ti' 'Nvidia GeForce MX130' 'AMD R4 Graphics'\n",
            " 'Nvidia GeForce GTX 940MX' 'AMD Radeon RX 560' 'Nvidia GeForce 920M'\n",
            " 'AMD Radeon R7 M445' 'AMD Radeon RX 550' 'Nvidia GeForce GTX 1050M'\n",
            " 'Intel HD Graphics 515' 'AMD Radeon R5 M420' 'Intel HD Graphics 505'\n",
            " 'Nvidia GTX 980 SLI' 'AMD R17M-M1-70' 'Nvidia GeForce GTX 1080'\n",
            " 'Nvidia Quadro M1200' 'Nvidia GeForce 920MX ' 'Nvidia GeForce GTX 950M'\n",
            " 'AMD FirePro W4190M ' 'Nvidia GeForce GTX 980M' 'Intel Iris Graphics 550'\n",
            " 'Nvidia GeForce 930M' 'Intel HD Graphics 630' 'AMD Radeon R5 430'\n",
            " 'Nvidia GeForce GTX 940M' 'Intel HD Graphics 510' 'Intel HD Graphics 405'\n",
            " 'AMD Radeon RX 540' 'Nvidia GeForce GT 940MX' 'AMD FirePro W5130M'\n",
            " 'Nvidia Quadro M2200M' 'AMD Radeon R4' 'Nvidia Quadro M620'\n",
            " 'AMD Radeon R7 M460' 'Intel HD Graphics 530' 'Nvidia GeForce GTX 965M'\n",
            " 'Nvidia GeForce GTX1080' 'Nvidia GeForce GTX1050 Ti'\n",
            " 'Nvidia GeForce GTX 960M' 'AMD Radeon R2 Graphics' 'Nvidia Quadro M620M'\n",
            " 'Nvidia GeForce GTX 970M' 'Nvidia GeForce GTX 960<U+039C>'\n",
            " 'Intel Graphics 620' 'Nvidia GeForce GTX 960' 'AMD Radeon R5 520'\n",
            " 'AMD Radeon R7 M440' 'AMD Radeon R7' 'Nvidia Quadro M520M'\n",
            " 'Nvidia Quadro M2200' 'Nvidia Quadro M2000M' 'Intel HD Graphics 540'\n",
            " 'Nvidia Quadro M1000M' 'AMD Radeon 540' 'Nvidia GeForce GTX 1070M'\n",
            " 'Nvidia GeForce GTX1060' 'Intel HD Graphics 5300' 'AMD Radeon R5 M420X'\n",
            " 'AMD Radeon R7 Graphics' 'Nvidia GeForce 920' 'Nvidia GeForce 940M'\n",
            " 'Nvidia GeForce GTX 930MX' 'AMD Radeon R7 M465' 'AMD Radeon R3'\n",
            " 'Nvidia GeForce GTX 1050Ti' 'AMD Radeon R7 M365X' 'AMD Radeon R9 M385'\n",
            " 'Intel HD Graphics 620 ' 'Nvidia Quadro 3000M' 'Nvidia GeForce GTX 980 '\n",
            " 'AMD Radeon R5 M330' 'AMD FirePro W4190M' 'AMD FirePro W6150M'\n",
            " 'AMD Radeon R5 M315' 'Nvidia Quadro M500M' 'AMD Radeon R7 M360'\n",
            " 'Nvidia Quadro M3000M' 'Nvidia GeForce 960M' 'ARM Mali T860 MP4']\n",
            "---------------------------------------------------------------------------\n",
            " details of perticular column OpSys is :  ['macOS' 'No OS' 'Windows 10' 'Mac OS X' 'Linux' 'Android' 'Windows 10 S'\n",
            " 'Chrome OS' 'Windows 7']\n",
            "---------------------------------------------------------------------------\n",
            " details of perticular column Weight is :  ['1.37kg' '1.34kg' '1.86kg' '1.83kg' '2.1kg' '2.04kg' '1.3kg' '1.6kg'\n",
            " '2.2kg' '0.92kg' '1.22kg' '0.98kg' '2.5kg' '1.62kg' '1.91kg' '2.3kg'\n",
            " '1.35kg' '1.88kg' '1.89kg' '1.65kg' '2.71kg' '1.2kg' '1.44kg' '2.8kg'\n",
            " '2kg' '2.65kg' '2.77kg' '3.2kg' '0.69kg' '1.49kg' '2.4kg' '2.13kg'\n",
            " '2.43kg' '1.7kg' '1.4kg' '1.8kg' '1.9kg' '3kg' '1.252kg' '2.7kg' '2.02kg'\n",
            " '1.63kg' '1.96kg' '1.21kg' '2.45kg' '1.25kg' '1.5kg' '2.62kg' '1.38kg'\n",
            " '1.58kg' '1.85kg' '1.23kg' '1.26kg' '2.16kg' '2.36kg' '2.05kg' '1.32kg'\n",
            " '1.75kg' '0.97kg' '2.9kg' '2.56kg' '1.48kg' '1.74kg' '1.1kg' '1.56kg'\n",
            " '2.03kg' '1.05kg' '4.4kg' '1.90kg' '1.29kg' '2.0kg' '1.95kg' '2.06kg'\n",
            " '1.12kg' '1.42kg' '3.49kg' '3.35kg' '2.23kg' '4.42kg' '2.69kg' '2.37kg'\n",
            " '4.7kg' '3.6kg' '2.08kg' '4.3kg' '1.68kg' '1.41kg' '4.14kg' '2.18kg'\n",
            " '2.24kg' '2.67kg' '2.14kg' '1.36kg' '2.25kg' '2.15kg' '2.19kg' '2.54kg'\n",
            " '3.42kg' '1.28kg' '2.33kg' '1.45kg' '2.79kg' '1.84kg' '2.6kg' '2.26kg'\n",
            " '3.25kg' '1.59kg' '1.13kg' '1.78kg' '1.10kg' '1.15kg' '1.27kg' '1.43kg'\n",
            " '2.31kg' '1.16kg' '1.64kg' '2.17kg' '1.47kg' '3.78kg' '1.79kg' '0.91kg'\n",
            " '1.99kg' '4.33kg' '1.93kg' '1.87kg' '2.63kg' '3.4kg' '3.14kg' '1.94kg'\n",
            " '1.24kg' '4.6kg' '4.5kg' '2.73kg' '1.39kg' '2.29kg' '2.59kg' '2.94kg'\n",
            " '1.14kg' '3.8kg' '3.31kg' '1.09kg' '3.21kg' '1.19kg' '1.98kg' '1.17kg'\n",
            " '4.36kg' '1.71kg' '2.32kg' '4.2kg' '1.55kg' '0.81kg' '1.18kg' '2.72kg'\n",
            " '1.31kg' '0.920kg' '3.74kg' '1.76kg' '1.54kg' '2.83kg' '2.07kg' '2.38kg'\n",
            " '3.58kg' '1.08kg' '2.20kg' '2.75kg' '1.70kg' '2.99kg' '1.11kg' '2.09kg'\n",
            " '4kg' '3.0kg' '0.99kg' '3.52kg' '2.591kg' '2.21kg' '3.3kg' '2.191kg'\n",
            " '2.34kg' '4.0kg']\n",
            "---------------------------------------------------------------------------\n",
            " details of perticular column Price is :  [ 71378.6832  47895.5232  30636.     135195.336   96095.808   21312.\n",
            " 114017.6016  61735.536   79653.6     41025.6     20986.992   18381.0672\n",
            " 130001.6016  26581.392   67260.672   80908.344   39693.6    152274.24\n",
            "  26586.72    52161.12    10224.432   53226.72    13746.24    43636.32\n",
            "  35111.52    22305.1392  58554.72    42624.      69157.44    47738.88\n",
            "  13053.0672  10602.72    23389.92    99580.32    53173.44    13266.72\n",
            "  19553.76    26037.4032  46833.12    20725.92    79866.72    27864.9072\n",
            "  36336.96    75604.32    19660.32    69210.72    34045.92    24828.48\n",
            "  16996.32    44808.48    21231.5472  58767.84    20459.52    40908.384\n",
            "  31232.2032 130482.72    22111.2     31914.72    50136.48    36763.2\n",
            " 105654.24    23373.4032  12201.12    29250.72    50562.72    58021.92\n",
            "  50882.4     46353.6     58341.6     27652.32    45554.4     28238.4\n",
            "  52054.56    58403.4048  80452.8     45820.8     21258.72    21045.6\n",
            "  71874.72    37242.72    31914.1872  77202.72    87858.72    36709.92\n",
            "  63776.16    63669.6     55890.72    45128.16    31962.672   25840.8\n",
            "  30742.56    66546.72    38308.32    18594.72    34472.16    59620.32\n",
            "  71395.2     22105.872   63563.04    78854.4     67239.36    73473.12\n",
            "  74538.72    38468.16    86793.12    74538.1872  57755.52    60223.9824\n",
            "  30049.92    59567.04    25521.12   119427.12    33513.12    67718.88\n",
            "  24029.28    13799.52    43263.36    14811.3072  74378.88    49443.84\n",
            "  34045.3872  23922.72    47099.52    30476.16    31861.44    52640.64\n",
            "  13445.7408  49976.64    34898.4     59461.5456  46300.32    32074.56\n",
            " 107305.92    18328.32   108105.12    23816.16    66560.5728  47898.72\n",
            "  26533.44   100699.2     57648.96    32980.32    70063.2     21471.84\n",
            "  42890.4     38787.84    57489.12    18541.44    95850.72    19367.8128\n",
            "  56502.9072  45501.12    40173.12    16463.52    26053.92    49177.44\n",
            "  24455.52   149130.72    43316.64    98514.72    42251.04    63882.72\n",
            "  82530.72   127712.16    41505.12    52693.92    57808.8    150462.72\n",
            "  13852.8     53274.672   37189.44    44701.92    48697.92   324954.72\n",
            "  51095.52    55677.6     98301.6     26267.04    39533.76    93186.72\n",
            " 162770.4     74485.44   103842.72    31808.16    74964.96    49650.5664\n",
            "  31381.92    54931.68    61218.72    68145.12    36089.208   72620.64\n",
            "  42304.32   130873.7952  44328.96    45768.0528  40972.32    47472.48\n",
            "  67612.32    21258.1872  17582.4     45767.52    20779.2    207259.2\n",
            "  45074.88    61005.6     47365.92    52480.8     29783.52   159786.72\n",
            "  35964.     108691.2     24988.32    37402.56    23757.552   56423.52\n",
            " 133146.72    90522.72    60845.76    23656.32    35004.96    30103.2\n",
            "  42570.72    24881.76    54239.04    46886.4    104370.192   39164.5296\n",
            "  37992.3696  45234.72    22803.84    44169.12    30849.12    50669.28\n",
            "  58448.16    62817.12    35112.0528  63243.36    97449.12    39373.92\n",
            " 153705.3408  78215.04    27119.52   113060.16    34578.72    67399.2\n",
            "  19180.2672 105228.      55571.04   111834.72    14652.      44968.32\n",
            "  24503.472   52214.4     68837.76    58288.32    48058.56    15557.76\n",
            "  55938.672   71128.8    140605.92    50243.04    71075.52    67559.04\n",
            "  60952.32    14651.4672  60885.72    14646.672   38148.48    84129.12\n",
            "  60153.12    14865.12    85672.1088  19980.      35324.64   108020.9376\n",
            "  69477.12    75071.52    92615.0256  74751.84    51729.552   17155.6272\n",
            "  29696.6736  76030.56    50349.6     43103.52    93240.      22697.28\n",
            " 117162.72    46300.8528  26053.3872  29463.84    15238.08    63456.48\n",
            "  21498.48    88178.4     93181.392  121584.96    72940.32   113752.8\n",
            " 133679.52    55357.92    84768.48    36975.7872  41498.1936  65510.9568\n",
            " 144495.36   139860.      16303.68    81465.12    60978.96   119826.72\n",
            "  99793.44    93080.16    89510.4     21791.52    16221.096  102564.\n",
            " 103523.04    42038.4528  31909.392   79920.      28768.536   64755.4464\n",
            " 101178.72    61751.52    60867.072  106506.72    15930.72    14332.32\n",
            "  53812.8    130269.6     90309.6     18488.16   126912.96    39906.72\n",
            "  76137.12    23539.104  106187.04    54757.9872 137941.92    81731.52\n",
            "  71661.6    109010.88    34093.872   28984.32    23176.8    111355.2\n",
            "  16197.12    40439.52    98994.24    61485.12    67932.      98133.768\n",
            "  39427.2    128298.24    72673.92    89084.16    31254.048   38681.28\n",
            "  13261.392  124568.64    95797.44   103896.      53918.8272  71928.\n",
            "  47893.392   48538.08    18115.2     32979.7872  85194.72    14119.2\n",
            "  65214.72    32660.64    70489.44    44542.08    64961.1072  74589.336\n",
            "  13053.6     27783.9216 158135.04    80133.12    68184.0144  31168.8\n",
            "  73366.56   160520.3856  42486.0048  39207.1536  42517.44    37589.04\n",
            "  41824.8     24634.008   21152.16    92121.12    59513.2272 143802.72\n",
            "  28992.312   68198.4     11934.72    13586.4     30310.992   32921.712\n",
            "  33566.4    104695.2     52747.2     99153.5472  44222.4     36496.8\n",
            "  99367.2    141884.64   145401.12    39907.2528  53733.9456  81912.1392\n",
            "  15717.6    125154.72    79813.44    89137.44    32447.52    94305.6\n",
            "  32127.84    28185.12   107892.      78534.72    88977.6     93932.64\n",
            "  64948.32    35616.6144  17529.12    24775.2    122490.72   261018.72\n",
            "  46833.6528  23650.992   19127.52    62231.04    30316.32    74005.92\n",
            " 120831.5808  20193.12    59886.72    78055.2     41345.28    49656.96\n",
            "  12733.92    24935.04    34046.4528  96969.6    101232.      78801.12\n",
            "  48304.7136  93635.3376 127818.72    59087.52    27753.552  130536.\n",
            "  62284.32    23976.      14598.72    48964.32   138474.72    64628.64\n",
            "  84395.52    37775.52    77250.672   63499.104   19441.872   56689.92\n",
            "  60472.8     63722.88   167691.8736  65481.12    22324.32    28504.8\n",
            "  28717.92    79215.1056  67026.24    21951.36    99519.048   43580.376\n",
            "  55091.52    68944.32    26373.6     53168.112  109277.28   149916.6\n",
            "  32639.8608  29073.2976  16943.04   101657.7072 137995.2     51841.44\n",
            "  35644.32   100006.56    22857.12    33110.856   42357.6     98834.4\n",
            "  34898.9328  15877.44    76012.4448  45664.6896  63936.      89864.1792\n",
            "  44574.048  194972.832   71847.0144  26101.872   31409.6256 103096.8\n",
            "  34632.      51148.8    128884.32   111593.8944  21887.424   64308.96\n",
            "  35431.2     81784.8    175770.72    60031.1088 233845.92    25308.\n",
            "  58394.88    45282.672   83170.08   152859.7872  55837.44    99047.52\n",
            "  83063.52    25059.7152  62938.0656  54345.6     66280.32   126273.6\n",
            "  33886.08   154458.72    31003.632  191211.264  125208.      93985.92\n",
            " 100752.48    71341.92    10810.512  104961.6     62071.2    124142.4\n",
            "  43156.8    110017.872   39640.32    41558.4     89457.12   128671.2\n",
            "  51202.08    42081.0768  20512.8    133467.4656  40226.4     58075.2\n",
            "  99900.      72354.24    18914.4    292986.72    63190.08    87912.\n",
            " 147832.2864  17316.      31435.2    163723.5792  48484.8     38041.3872\n",
            "  99633.6     32767.2     54665.28   121318.56    46087.2    101391.84\n",
            "  41931.36   136343.52    45323.1648  68464.8     54185.76   119347.2\n",
            "  94731.84    56210.4     73952.64    39160.8     90043.2     49816.8\n",
            "  48618.      90576.      36486.144   24279.696   72988.272   15824.16\n",
            " 141138.72    78588.      49497.12    47952.      32713.92   107257.968\n",
            " 109170.72   104588.1072  79014.24    42037.92    64202.4    165168.\n",
            "  54291.7872  46939.68    59668.8048  36496.2672  69103.6272  97236.\n",
            "  38889.072   37725.4368  15392.592   58874.4     88924.32    29762.208\n",
            "  87325.92   146946.24    78438.816   94572.      77788.8     79333.3872\n",
            " 168045.12    41292.      93772.8     53759.52    95371.2     45101.52\n",
            "  24808.2336  43956.     167778.72    37029.6    104587.5744 149184.\n",
            "  62870.4    109218.672   53386.56    48751.2     42943.68    63349.92\n",
            " 101658.24    14418.6336  61272.      20246.4    111301.92    67132.8\n",
            "  29144.16    58607.4672  55904.5728  36443.52    81997.92    84715.2\n",
            " 100550.5488  64468.8     41025.0672  79387.2    118761.12    42410.3472\n",
            "  63159.7104  55754.3232  56476.8     86526.72    57542.4     65480.5872\n",
            "  91908.      56633.976   53839.9728  11231.424   75924.      55922.688\n",
            "  53280.     112065.9552  78268.32    82351.6992 122010.6672  15339.312\n",
            " 139593.6    120093.12    37570.392   96916.32    57009.6     52746.6672\n",
            " 102777.12    77682.24   211788.      42517.9728  70809.12    69264.\n",
            "  25679.8944  91294.7472  28771.2     50083.2    172627.2     34433.2656\n",
            "  39960.      54931.1472  20619.36    20965.1472  18434.3472  43601.688\n",
            "  34035.264   26640.      60480.792   62176.1616  11135.52    75289.968\n",
            "  80516.2032  46193.76    21205.44    40980.312  104908.32   146519.4672\n",
            "  54825.12   118601.28    69929.4672  10442.88    80612.64    27899.0064\n",
            " 100965.6    109244.2464  14811.84    40066.56    32820.48   210424.032\n",
            "  41771.52   115709.2416 130003.2     60888.384  122381.496   53807.472\n",
            " 124621.92    18061.92   119916.2304  25515.2592  79536.384   42010.7472\n",
            " 108744.48    94252.32    25414.0272  74059.2     36177.12    69530.4\n",
            " 114731.5536  87219.36    44275.68    47686.1328  17742.24    48431.52\n",
            "  36816.48    61964.64    70702.56    19607.04   114552.      14492.16\n",
            " 109165.392  142790.4    103842.1872   9270.72    67772.16    78647.1408\n",
            "  91288.3536  78694.56    27804.7008 186426.72    24988.8528  85141.44\n",
            "  25467.84   117119.5632  39267.36    31838.5296  19276.704   85248.\n",
            "  46620.     123876.      30529.44    96596.64    17262.72    57116.16\n",
            "  23655.7872  26107.2     47685.6     44382.7728  38841.12    15397.92\n",
            "  29303.4672  42943.1472  38378.6496  33992.64    40705.92  ]\n",
            "---------------------------------------------------------------------------\n"
          ]
        }
      ],
      "source": [
        "def uniquevals(col):\n",
        "  print(f' details of perticular column {col} is :  {df[col].unique()}')\n",
        "\n",
        "def valuecounts(col):\n",
        "  print(f'value counts of perticular column  {col} is : {df[col].value_counts()}')\n",
        "\n",
        "\n",
        "\n",
        "for col in df.columns:\n",
        "  uniquevals(col)\n",
        "  print('-'*75)"
      ]
    },
    {
      "cell_type": "code",
      "execution_count": null,
      "metadata": {
        "id": "1ALC97RCT1ye"
      },
      "outputs": [],
      "source": [
        "# so on observation we can see that if we remove 'GB' from Ram then I can make it as an integer same goes for memory "
      ]
    },
    {
      "cell_type": "markdown",
      "metadata": {
        "id": "mimEe9lrSwpo"
      },
      "source": [
        ""
      ]
    },
    {
      "cell_type": "code",
      "execution_count": null,
      "metadata": {
        "id": "AMA9M370T4rW"
      },
      "outputs": [],
      "source": [
        "df[\"Ram\"]=df[\"Ram\"].str.replace('GB','')\n",
        "df['Weight']=df['Weight'].str.replace('kg','')"
      ]
    },
    {
      "cell_type": "code",
      "execution_count": null,
      "metadata": {
        "id": "SUltKBnJT7Mc"
      },
      "outputs": [],
      "source": [
        "df['Weight']=df['Weight'].astype('float32')\n",
        "df[\"Ram\"]=df[\"Ram\"].astype('int32')"
      ]
    },
    {
      "cell_type": "code",
      "execution_count": null,
      "metadata": {
        "colab": {
          "base_uri": "https://localhost:8080/"
        },
        "id": "Xr7ymvh3T9ma",
        "outputId": "a13fe56e-a5df-477c-d169-465db93427e1"
      },
      "outputs": [
        {
          "name": "stdout",
          "output_type": "stream",
          "text": [
            "<class 'pandas.core.frame.DataFrame'>\n",
            "RangeIndex: 1303 entries, 0 to 1302\n",
            "Data columns (total 11 columns):\n",
            " #   Column            Non-Null Count  Dtype  \n",
            "---  ------            --------------  -----  \n",
            " 0   Company           1303 non-null   object \n",
            " 1   TypeName          1303 non-null   object \n",
            " 2   Inches            1303 non-null   float64\n",
            " 3   ScreenResolution  1303 non-null   object \n",
            " 4   Cpu               1303 non-null   object \n",
            " 5   Ram               1303 non-null   int32  \n",
            " 6   Memory            1303 non-null   object \n",
            " 7   Gpu               1303 non-null   object \n",
            " 8   OpSys             1303 non-null   object \n",
            " 9   Weight            1303 non-null   float32\n",
            " 10  Price             1303 non-null   float64\n",
            "dtypes: float32(1), float64(2), int32(1), object(7)\n",
            "memory usage: 101.9+ KB\n"
          ]
        }
      ],
      "source": [
        "df.info()"
      ]
    },
    {
      "cell_type": "code",
      "execution_count": null,
      "metadata": {
        "id": "QH5Vdx1nUAtv"
      },
      "outputs": [],
      "source": [
        ""
      ]
    },
    {
      "cell_type": "markdown",
      "metadata": {
        "id": "zgtbX0nRUDwM"
      },
      "source": [
        "\n",
        "EXPLORATORY DATA ANALYSIS"
      ]
    },
    {
      "cell_type": "code",
      "execution_count": null,
      "metadata": {
        "colab": {
          "base_uri": "https://localhost:8080/",
          "height": 362
        },
        "id": "1xryOlK7UFlK",
        "outputId": "8c991c2a-bb34-4f30-b253-b9a8e2271c41"
      },
      "outputs": [
        {
          "name": "stderr",
          "output_type": "stream",
          "text": [
            "/usr/local/lib/python3.7/dist-packages/seaborn/distributions.py:2619: FutureWarning: `distplot` is a deprecated function and will be removed in a future version. Please adapt your code to use either `displot` (a figure-level function with similar flexibility) or `histplot` (an axes-level function for histograms).\n",
            "  warnings.warn(msg, FutureWarning)\n"
          ]
        },
        {
          "data": {
            "text/plain": [
              "<matplotlib.axes._subplots.AxesSubplot at 0x7fe51eaf9910>"
            ]
          },
          "execution_count": 19,
          "metadata": {},
          "output_type": "execute_result"
        },
        {
          "data": {
            "image/png": "[encoded data removed]",
            "text/plain": [
              "<Figure size 432x288 with 1 Axes>"
            ]
          },
          "metadata": {},
          "output_type": "display_data"
        }
      ],
      "source": [
        "sns.distplot(df['Price'],color='red')"
      ]
    },
    {
      "cell_type": "code",
      "execution_count": null,
      "metadata": {
        "colab": {
          "base_uri": "https://localhost:8080/",
          "height": 1000
        },
        "id": "eywN6MWrUIcn",
        "outputId": "dd283f10-e244-4ead-819c-55f2375c8303"
      },
      "outputs": [
        {
          "name": "stderr",
          "output_type": "stream",
          "text": [
            "/usr/local/lib/python3.7/dist-packages/seaborn/_decorators.py:43: FutureWarning: Pass the following variable as a keyword arg: x. From version 0.12, the only valid positional argument will be `data`, and passing other arguments without an explicit keyword will result in an error or misinterpretation.\n",
            "  FutureWarning\n",
            "/usr/local/lib/python3.7/dist-packages/seaborn/_decorators.py:43: FutureWarning: Pass the following variable as a keyword arg: x. From version 0.12, the only valid positional argument will be `data`, and passing other arguments without an explicit keyword will result in an error or misinterpretation.\n",
            "  FutureWarning\n",
            "/usr/local/lib/python3.7/dist-packages/seaborn/_decorators.py:43: FutureWarning: Pass the following variable as a keyword arg: x. From version 0.12, the only valid positional argument will be `data`, and passing other arguments without an explicit keyword will result in an error or misinterpretation.\n",
            "  FutureWarning\n",
            "/usr/local/lib/python3.7/dist-packages/seaborn/_decorators.py:43: FutureWarning: Pass the following variable as a keyword arg: x. From version 0.12, the only valid positional argument will be `data`, and passing other arguments without an explicit keyword will result in an error or misinterpretation.\n",
            "  FutureWarning\n"
          ]
        },
        {
          "data": {
            "image/png": "[encoded data removed]",
            "text/plain": [
              "<Figure size 648x504 with 1 Axes>"
            ]
          },
          "metadata": {},
          "output_type": "display_data"
        },
        {
          "data": {
            "image/png": "[encoded data removed]",
            "text/plain": [
              "<Figure size 648x504 with 1 Axes>"
            ]
          },
          "metadata": {},
          "output_type": "display_data"
        },
        {
          "data": {
            "image/png": "[encoded data removed]",
            "text/plain": [
              "<Figure size 648x504 with 1 Axes>"
            ]
          },
          "metadata": {},
          "output_type": "display_data"
        },
        {
          "data": {
            "image/png": "[encoded data removed]",
            "text/plain": [
              "<Figure size 648x504 with 1 Axes>"
            ]
          },
          "metadata": {},
          "output_type": "display_data"
        }
      ],
      "source": [
        "def drawplot(col):\n",
        "   plt.figure(figsize=(9,7))\n",
        "   sns.countplot(df[col],palette='plasma')\n",
        "   plt.xticks(rotation='vertical')\n",
        "\n",
        "toview=['Company','TypeName','Ram','OpSys']\n",
        "for col in toview:\n",
        "    drawplot(col)"
      ]
    },
    {
      "cell_type": "code",
      "execution_count": null,
      "metadata": {
        "colab": {
          "base_uri": "https://localhost:8080/"
        },
        "id": "S_5hxv0GULAB",
        "outputId": "28378b11-20bf-4485-c71f-9dbf194c04d6"
      },
      "outputs": [
        {
          "data": {
            "text/plain": [
              "Index(['Company', 'TypeName', 'Inches', 'ScreenResolution', 'Cpu', 'Ram',\n",
              "       'Memory', 'Gpu', 'OpSys', 'Weight', 'Price'],\n",
              "      dtype='object')"
            ]
          },
          "execution_count": 21,
          "metadata": {},
          "output_type": "execute_result"
        }
      ],
      "source": [
        "df.columns"
      ]
    },
    {
      "cell_type": "code",
      "execution_count": null,
      "metadata": {
        "colab": {
          "base_uri": "https://localhost:8080/",
          "height": 1000
        },
        "id": "WcLID-K9UP9r",
        "outputId": "193b525b-e1f4-4589-a966-364882fd8c1e"
      },
      "outputs": [
        {
          "data": {
            "image/png": "[encoded data removed]",
            "text/plain": [
              "<Figure size 720x504 with 1 Axes>"
            ]
          },
          "metadata": {},
          "output_type": "display_data"
        },
        {
          "data": {
            "image/png": "[encoded data removed]",
            "text/plain": [
              "<Figure size 720x504 with 1 Axes>"
            ]
          },
          "metadata": {},
          "output_type": "display_data"
        },
        {
          "data": {
            "image/png": "[encoded data removed]",
            "text/plain": [
              "<Figure size 720x504 with 1 Axes>"
            ]
          },
          "metadata": {},
          "output_type": "display_data"
        },
        {
          "data": {
            "image/png": "[encoded data removed]",
            "text/plain": [
              "<Figure size 720x504 with 1 Axes>"
            ]
          },
          "metadata": {},
          "output_type": "display_data"
        },
        {
          "data": {
            "image/png": "[encoded data removed]",
            "text/plain": [
              "<Figure size 720x504 with 1 Axes>"
            ]
          },
          "metadata": {},
          "output_type": "display_data"
        }
      ],
      "source": [
        "def drawplot(col,price):\n",
        "    plt.figure(figsize=(10,7))\n",
        "    sns.barplot(x=df[col],y=df[price],palette='plasma')\n",
        "    plt.xticks(rotation='vertical')\n",
        "\n",
        "features=['Company', 'TypeName', 'Inches', 'ScreenResolution', 'Cpu', 'Ram',\n",
        "       'Memory', 'Gpu', 'OpSys', 'Weight']\n",
        "Lebel=[\"Price\"]\n",
        "for col  in features:\n",
        "  for price in Lebel: \n",
        "    drawplot(col,price)"
      ]
    },
    {
      "cell_type": "code",
      "execution_count": null,
      "metadata": {
        "id": "pcMIdx7_UTB8"
      },
      "outputs": [],
      "source": [
        "sns.scatterplot(x=df['Inches'],y=df['Price'])"
      ]
    },
    {
      "cell_type": "code",
      "execution_count": null,
      "metadata": {
        "id": "a_t7kXMSUWqR"
      },
      "outputs": [],
      "source": [
        "df.columns"
      ]
    },
    {
      "cell_type": "code",
      "execution_count": null,
      "metadata": {
        "id": "mJZLOttAUmw8"
      },
      "outputs": [],
      "source": [
        "df['ScreenResolution'].value_counts()"
      ]
    },
    {
      "cell_type": "code",
      "execution_count": null,
      "metadata": {
        "id": "_ecXKulgUpV4"
      },
      "outputs": [],
      "source": [
        "df['TouchScreen']=df[\"ScreenResolution\"].apply(lambda element : 1 if 'Touchscreen' in element else 0)"
      ]
    },
    {
      "cell_type": "code",
      "execution_count": null,
      "metadata": {
        "id": "j7GQOB-UUsIt"
      },
      "outputs": [],
      "source": [
        "df.head()"
      ]
    },
    {
      "cell_type": "code",
      "execution_count": null,
      "metadata": {
        "id": "p4OgQQrRUuXq"
      },
      "outputs": [],
      "source": [
        "df.tail()"
      ]
    },
    {
      "cell_type": "code",
      "execution_count": null,
      "metadata": {
        "id": "F3CgrSndUwrj"
      },
      "outputs": [],
      "source": [
        "sns.countplot(df['TouchScreen'])"
      ]
    },
    {
      "cell_type": "code",
      "execution_count": null,
      "metadata": {
        "id": "viOkyzfOU4DT"
      },
      "outputs": [],
      "source": [
        "sns.barplot(x=df['TouchScreen'],y=df['Price'])"
      ]
    },
    {
      "cell_type": "code",
      "execution_count": null,
      "metadata": {
        "id": "ReT1j7liU5KN"
      },
      "outputs": [],
      "source": [
        "df.columns"
      ]
    },
    {
      "cell_type": "code",
      "execution_count": null,
      "metadata": {
        "id": "G4xLEECQU7Xq"
      },
      "outputs": [],
      "source": [
        "df['IPS Panel']=df[\"ScreenResolution\"].apply(lambda element : 1 if 'IPS Panel' in element else 0)"
      ]
    },
    {
      "cell_type": "code",
      "execution_count": null,
      "metadata": {
        "id": "G3GCYwukU_8x"
      },
      "outputs": [],
      "source": [
        "df.sample(5)"
      ]
    },
    {
      "cell_type": "code",
      "execution_count": null,
      "metadata": {
        "id": "huxoEevqVBE4"
      },
      "outputs": [],
      "source": [
        "sns.countplot(df['IPS Panel'])"
      ]
    },
    {
      "cell_type": "code",
      "execution_count": null,
      "metadata": {
        "id": "a7DHxL1dVDdp"
      },
      "outputs": [],
      "source": [
        "sns.barplot(x=df['TouchScreen'],y=df['Price'])"
      ]
    },
    {
      "cell_type": "code",
      "execution_count": null,
      "metadata": {
        "id": "SY46jrrTVF-m"
      },
      "outputs": [],
      "source": [
        ""
      ]
    },
    {
      "cell_type": "markdown",
      "metadata": {
        "id": "lfQTARsBVIGv"
      },
      "source": [
        "EXTRACTING THE X RESOLUTION AND Y RESOLUTION"
      ]
    },
    {
      "cell_type": "code",
      "execution_count": null,
      "metadata": {
        "id": "DMT88tZBVJaT"
      },
      "outputs": [],
      "source": [
        "df.columns"
      ]
    },
    {
      "cell_type": "code",
      "execution_count": null,
      "metadata": {
        "id": "Lx4f1kznVMYE"
      },
      "outputs": [],
      "source": [
        "splitdf=df['ScreenResolution'].str.split('x',n=1,expand=True)"
      ]
    },
    {
      "cell_type": "code",
      "execution_count": null,
      "metadata": {
        "id": "4eq0ieTfVOwt"
      },
      "outputs": [],
      "source": [
        "splitdf.head()"
      ]
    },
    {
      "cell_type": "code",
      "execution_count": null,
      "metadata": {
        "id": "oz5exzL-VRp0"
      },
      "outputs": [],
      "source": [
        "df['X_res']=splitdf[0]\n",
        "df['Y_res']=splitdf[1]"
      ]
    },
    {
      "cell_type": "code",
      "execution_count": null,
      "metadata": {
        "id": "xP7D0XwRVYn9"
      },
      "outputs": [],
      "source": [
        "df.sample(5)"
      ]
    },
    {
      "cell_type": "code",
      "execution_count": null,
      "metadata": {
        "id": "0wasm76hVbPM"
      },
      "outputs": [],
      "source": [
        "df['X_res']=df['X_res'].str.replace(',','').str.findall(r'(\\d+\\.?\\d+)').apply(lambda x : x[0])"
      ]
    },
    {
      "cell_type": "code",
      "execution_count": null,
      "metadata": {
        "id": "SFpK4UOQVdqY"
      },
      "outputs": [],
      "source": [
        "df.sample(5)"
      ]
    },
    {
      "cell_type": "code",
      "execution_count": null,
      "metadata": {
        "id": "SNJuk1R-Vgcn"
      },
      "outputs": [],
      "source": [
        "df['X_res']=df['X_res'].astype('int')\n",
        "df['Y_res']=df['Y_res'].astype('int')"
      ]
    },
    {
      "cell_type": "code",
      "execution_count": null,
      "metadata": {
        "id": "8uH9_W9QVjAZ"
      },
      "outputs": [],
      "source": [
        "df.info()"
      ]
    },
    {
      "cell_type": "code",
      "execution_count": null,
      "metadata": {
        "id": "m3mobcgSVqPi"
      },
      "outputs": [],
      "source": [
        "plt.figure(figsize=(15,7))\n",
        "sns.heatmap(df.corr(),annot=True,cmap='plasma')"
      ]
    },
    {
      "cell_type": "code",
      "execution_count": null,
      "metadata": {
        "id": "c_R9gsQSVs8X"
      },
      "outputs": [],
      "source": [
        "df.corr()['Price']"
      ]
    },
    {
      "cell_type": "code",
      "execution_count": null,
      "metadata": {
        "id": "62hKNJCKVxT3"
      },
      "outputs": [],
      "source": [
        "df['PPI']=(((df['X_res']**2+df['Y_res']**2))**0.5/df['Inches']).astype('float')"
      ]
    },
    {
      "cell_type": "code",
      "execution_count": null,
      "metadata": {
        "id": "ERMHYmhGVzz7"
      },
      "outputs": [],
      "source": [
        "df.sample(5)"
      ]
    },
    {
      "cell_type": "code",
      "execution_count": null,
      "metadata": {
        "id": "Hxe0ObetV2Ew"
      },
      "outputs": [],
      "source": [
        "df.corr()['Price']"
      ]
    },
    {
      "cell_type": "code",
      "execution_count": null,
      "metadata": {
        "id": "bG_89LJfV4Ul"
      },
      "outputs": [],
      "source": [
        "df.columns"
      ]
    },
    {
      "cell_type": "code",
      "execution_count": null,
      "metadata": {
        "id": "yvoxieK_V6f-"
      },
      "outputs": [],
      "source": [
        "df.head()"
      ]
    },
    {
      "cell_type": "code",
      "execution_count": null,
      "metadata": {
        "id": "t8WFGqbLV_AZ"
      },
      "outputs": [],
      "source": [
        ""
      ]
    },
    {
      "cell_type": "markdown",
      "metadata": {
        "id": "6ekQmQxtWC1u"
      },
      "source": [
        "NOW WE WILL WORK ON CPU COLUMN"
      ]
    },
    {
      "cell_type": "code",
      "execution_count": null,
      "metadata": {
        "id": "chzR_SY8WFeE"
      },
      "outputs": [],
      "source": [
        "df['Cpu'].value_counts()"
      ]
    },
    {
      "cell_type": "code",
      "execution_count": null,
      "metadata": {
        "id": "YcF56TVKWIpu"
      },
      "outputs": [],
      "source": [
        "df['Cpu']"
      ]
    },
    {
      "cell_type": "code",
      "execution_count": null,
      "metadata": {
        "id": "qLWA2YhMWKtN"
      },
      "outputs": [],
      "source": [
        "text='Intel Core i5 2.3GHz'"
      ]
    },
    {
      "cell_type": "code",
      "execution_count": null,
      "metadata": {
        "id": "e_rbb7-HWM2n"
      },
      "outputs": [],
      "source": [
        "' '.join(text.split()[:3])"
      ]
    },
    {
      "cell_type": "code",
      "execution_count": null,
      "metadata": {
        "id": "dUYeyazrWO92"
      },
      "outputs": [],
      "source": [
        "df[\"CPU_name\"]=df['Cpu'].apply(lambda text : \" \".join(text.split()[:3]))"
      ]
    },
    {
      "cell_type": "code",
      "execution_count": null,
      "metadata": {
        "id": "CFeH_ydqWTbH"
      },
      "outputs": [],
      "source": [
        "def processsortype(text):\n",
        "    if text=='Intel Core i3' or text=='Intel Core i5' or text=='Intel Core i7':\n",
        "        return text\n",
        "\n",
        "\n",
        "    else:\n",
        "          if text.split()[0]=='Intel':\n",
        "            return 'Other Intel Processor'\n",
        "\n",
        "          else :\n",
        "            return 'AMD Processor'"
      ]
    },
    {
      "cell_type": "code",
      "execution_count": null,
      "metadata": {
        "id": "AqpB7TozWWWr"
      },
      "outputs": [],
      "source": [
        "df[\"CPU_name\"]=df[\"CPU_name\"].apply(lambda text : processsortype(text))\n",
        "df.sample(50)"
      ]
    },
    {
      "cell_type": "code",
      "execution_count": null,
      "metadata": {
        "id": "hZCWs2muWY7w"
      },
      "outputs": [],
      "source": [
        "sns.countplot(df['CPU_name'],palette='plasma')\n",
        "plt.xticks(rotation='vertical')"
      ]
    },
    {
      "cell_type": "code",
      "execution_count": null,
      "metadata": {
        "colab": {
          "background_save": true
        },
        "id": "6tj_TBj4XU6R",
        "outputId": "037e399c-59de-446f-c451-ac7c170a8eed"
      },
      "outputs": [
        {
          "name": "stderr",
          "output_type": "stream",
          "text": [
            "/usr/local/lib/python3.7/dist-packages/seaborn/_decorators.py:43: FutureWarning: Pass the following variables as keyword args: x, y. From version 0.12, the only valid positional argument will be `data`, and passing other arguments without an explicit keyword will result in an error or misinterpretation.\n",
            "  FutureWarning\n"
          ]
        },
        {
          "data": {
            "text/plain": [
              "(array([0, 1, 2, 3, 4]), <a list of 5 Text major ticklabel objects>)"
            ]
          },
          "execution_count": null,
          "metadata": {},
          "output_type": "execute_result"
        },
        {
          "data": {
            "image/png": "[encoded data removed]",
            "text/plain": [
              "<Figure size 432x288 with 1 Axes>"
            ]
          },
          "metadata": {},
          "output_type": "display_data"
        }
      ],
      "source": [
        "sns.barplot(df['CPU_name'],df['Price'])\n",
        "plt.xticks(rotation='vertical')"
      ]
    },
    {
      "cell_type": "code",
      "execution_count": null,
      "metadata": {
        "colab": {
          "background_save": true
        },
        "id": "T1Z-hLUGXp7R"
      },
      "outputs": [],
      "source": [
        "#droping the cpu column\n",
        "df.drop(columns='Cpu',inplace=True)"
      ]
    },
    {
      "cell_type": "code",
      "execution_count": null,
      "metadata": {
        "colab": {
          "background_save": true
        },
        "id": "OmEkVY_5YM0E",
        "outputId": "dafde2c8-1283-43ed-dc7f-4794b25fe5ff"
      },
      "outputs": [
        {
          "data": {
            "text/html": [
              "\n",
              "  <div id=\"df-def92f56-b221-42fd-8373-900cac9f1db8\">\n",
              "    <div class=\"colab-df-container\">\n",
              "      <div>\n",
              "<style scoped>\n",
              "    .dataframe tbody tr th:only-of-type {\n",
              "        vertical-align: middle;\n",
              "    }\n",
              "\n",
              "    .dataframe tbody tr th {\n",
              "        vertical-align: top;\n",
              "    }\n",
              "\n",
              "    .dataframe thead th {\n",
              "        text-align: right;\n",
              "    }\n",
              "</style>\n",
              "<table border=\"1\" class=\"dataframe\">\n",
              "  <thead>\n",
              "    <tr style=\"text-align: right;\">\n",
              "      <th></th>\n",
              "      <th>Company</th>\n",
              "      <th>TypeName</th>\n",
              "      <th>Inches</th>\n",
              "      <th>ScreenResolution</th>\n",
              "      <th>Ram</th>\n",
              "      <th>Memory</th>\n",
              "      <th>Gpu</th>\n",
              "      <th>OpSys</th>\n",
              "      <th>Weight</th>\n",
              "      <th>Price</th>\n",
              "      <th>TouchScreen</th>\n",
              "      <th>IPS Panel</th>\n",
              "      <th>X_res</th>\n",
              "      <th>Y_res</th>\n",
              "      <th>PPI</th>\n",
              "      <th>CPU_name</th>\n",
              "    </tr>\n",
              "  </thead>\n",
              "  <tbody>\n",
              "    <tr>\n",
              "      <th>0</th>\n",
              "      <td>Apple</td>\n",
              "      <td>Ultrabook</td>\n",
              "      <td>13.3</td>\n",
              "      <td>IPS Panel Retina Display 2560x1600</td>\n",
              "      <td>8</td>\n",
              "      <td>128GB SSD</td>\n",
              "      <td>Intel Iris Plus Graphics 640</td>\n",
              "      <td>macOS</td>\n",
              "      <td>1.37</td>\n",
              "      <td>71378.6832</td>\n",
              "      <td>0</td>\n",
              "      <td>1</td>\n",
              "      <td>2560</td>\n",
              "      <td>1600</td>\n",
              "      <td>226.983005</td>\n",
              "      <td>Intel Core i5</td>\n",
              "    </tr>\n",
              "    <tr>\n",
              "      <th>1</th>\n",
              "      <td>Apple</td>\n",
              "      <td>Ultrabook</td>\n",
              "      <td>13.3</td>\n",
              "      <td>1440x900</td>\n",
              "      <td>8</td>\n",
              "      <td>128GB Flash Storage</td>\n",
              "      <td>Intel HD Graphics 6000</td>\n",
              "      <td>macOS</td>\n",
              "      <td>1.34</td>\n",
              "      <td>47895.5232</td>\n",
              "      <td>0</td>\n",
              "      <td>0</td>\n",
              "      <td>1440</td>\n",
              "      <td>900</td>\n",
              "      <td>127.677940</td>\n",
              "      <td>Intel Core i5</td>\n",
              "    </tr>\n",
              "    <tr>\n",
              "      <th>2</th>\n",
              "      <td>HP</td>\n",
              "      <td>Notebook</td>\n",
              "      <td>15.6</td>\n",
              "      <td>Full HD 1920x1080</td>\n",
              "      <td>8</td>\n",
              "      <td>256GB SSD</td>\n",
              "      <td>Intel HD Graphics 620</td>\n",
              "      <td>No OS</td>\n",
              "      <td>1.86</td>\n",
              "      <td>30636.0000</td>\n",
              "      <td>0</td>\n",
              "      <td>0</td>\n",
              "      <td>1920</td>\n",
              "      <td>1080</td>\n",
              "      <td>141.211998</td>\n",
              "      <td>Intel Core i5</td>\n",
              "    </tr>\n",
              "    <tr>\n",
              "      <th>3</th>\n",
              "      <td>Apple</td>\n",
              "      <td>Ultrabook</td>\n",
              "      <td>15.4</td>\n",
              "      <td>IPS Panel Retina Display 2880x1800</td>\n",
              "      <td>16</td>\n",
              "      <td>512GB SSD</td>\n",
              "      <td>AMD Radeon Pro 455</td>\n",
              "      <td>macOS</td>\n",
              "      <td>1.83</td>\n",
              "      <td>135195.3360</td>\n",
              "      <td>0</td>\n",
              "      <td>1</td>\n",
              "      <td>2880</td>\n",
              "      <td>1800</td>\n",
              "      <td>220.534624</td>\n",
              "      <td>Intel Core i7</td>\n",
              "    </tr>\n",
              "    <tr>\n",
              "      <th>4</th>\n",
              "      <td>Apple</td>\n",
              "      <td>Ultrabook</td>\n",
              "      <td>13.3</td>\n",
              "      <td>IPS Panel Retina Display 2560x1600</td>\n",
              "      <td>8</td>\n",
              "      <td>256GB SSD</td>\n",
              "      <td>Intel Iris Plus Graphics 650</td>\n",
              "      <td>macOS</td>\n",
              "      <td>1.37</td>\n",
              "      <td>96095.8080</td>\n",
              "      <td>0</td>\n",
              "      <td>1</td>\n",
              "      <td>2560</td>\n",
              "      <td>1600</td>\n",
              "      <td>226.983005</td>\n",
              "      <td>Intel Core i5</td>\n",
              "    </tr>\n",
              "  </tbody>\n",
              "</table>\n",
              "</div>\n",
              "      <button class=\"colab-df-convert\" onclick=\"convertToInteractive('df-def92f56-b221-42fd-8373-900cac9f1db8')\"\n",
              "              title=\"Convert this dataframe to an interactive table.\"\n",
              "              style=\"display:none;\">\n",
              "        \n",
              "  <svg xmlns=\"http://www.w3.org/2000/svg\" height=\"24px\"viewBox=\"0 0 24 24\"\n",
              "       width=\"24px\">\n",
              "    <path d=\"M0 0h24v24H0V0z\" fill=\"none\"/>\n",
              "    <path d=\"M18.56 5.44l.94 2.06.94-2.06 2.06-.94-2.06-.94-.94-2.06-.94 2.06-2.06.94zm-11 1L8.5 8.5l.94-2.06 2.06-.94-2.06-.94L8.5 2.5l-.94 2.06-2.06.94zm10 10l.94 2.06.94-2.06 2.06-.94-2.06-.94-.94-2.06-.94 2.06-2.06.94z\"/><path d=\"M17.41 7.96l-1.37-1.37c-.4-.4-.92-.59-1.43-.59-.52 0-1.04.2-1.43.59L10.3 9.45l-7.72 7.72c-.78.78-.78 2.05 0 2.83L4 21.41c.39.39.9.59 1.41.59.51 0 1.02-.2 1.41-.59l7.78-7.78 2.81-2.81c.8-.78.8-2.07 0-2.86zM5.41 20L4 18.59l7.72-7.72 1.47 1.35L5.41 20z\"/>\n",
              "  </svg>\n",
              "      </button>\n",
              "      \n",
              "  <style>\n",
              "    .colab-df-container {\n",
              "      display:flex;\n",
              "      flex-wrap:wrap;\n",
              "      gap: 12px;\n",
              "    }\n",
              "\n",
              "    .colab-df-convert {\n",
              "      background-color: #E8F0FE;\n",
              "      border: none;\n",
              "      border-radius: 50%;\n",
              "      cursor: pointer;\n",
              "      display: none;\n",
              "      fill: #1967D2;\n",
              "      height: 32px;\n",
              "      padding: 0 0 0 0;\n",
              "      width: 32px;\n",
              "    }\n",
              "\n",
              "    .colab-df-convert:hover {\n",
              "      background-color: #E2EBFA;\n",
              "      box-shadow: 0px 1px 2px rgba(60, 64, 67, 0.3), 0px 1px 3px 1px rgba(60, 64, 67, 0.15);\n",
              "      fill: #174EA6;\n",
              "    }\n",
              "\n",
              "    [theme=dark] .colab-df-convert {\n",
              "      background-color: #3B4455;\n",
              "      fill: #D2E3FC;\n",
              "    }\n",
              "\n",
              "    [theme=dark] .colab-df-convert:hover {\n",
              "      background-color: #434B5C;\n",
              "      box-shadow: 0px 1px 3px 1px rgba(0, 0, 0, 0.15);\n",
              "      filter: drop-shadow(0px 1px 2px rgba(0, 0, 0, 0.3));\n",
              "      fill: #FFFFFF;\n",
              "    }\n",
              "  </style>\n",
              "\n",
              "      <script>\n",
              "        const buttonEl =\n",
              "          document.querySelector('#df-def92f56-b221-42fd-8373-900cac9f1db8 button.colab-df-convert');\n",
              "        buttonEl.style.display =\n",
              "          google.colab.kernel.accessAllowed ? 'block' : 'none';\n",
              "\n",
              "        async function convertToInteractive(key) {\n",
              "          const element = document.querySelector('#df-def92f56-b221-42fd-8373-900cac9f1db8');\n",
              "          const dataTable =\n",
              "            await google.colab.kernel.invokeFunction('convertToInteractive',\n",
              "                                                     [key], {});\n",
              "          if (!dataTable) return;\n",
              "\n",
              "          const docLinkHtml = 'Like what you see? Visit the ' +\n",
              "            '<a target=\"_blank\" href=https://colab.research.google.com/notebooks/data_table.ipynb>data table notebook</a>'\n",
              "            + ' to learn more about interactive tables.';\n",
              "          element.innerHTML = '';\n",
              "          dataTable['output_type'] = 'display_data';\n",
              "          await google.colab.output.renderOutput(dataTable, element);\n",
              "          const docLink = document.createElement('div');\n",
              "          docLink.innerHTML = docLinkHtml;\n",
              "          element.appendChild(docLink);\n",
              "        }\n",
              "      </script>\n",
              "    </div>\n",
              "  </div>\n",
              "  "
            ],
            "text/plain": [
              "  Company   TypeName  Inches                    ScreenResolution  Ram  \\\n",
              "0   Apple  Ultrabook    13.3  IPS Panel Retina Display 2560x1600    8   \n",
              "1   Apple  Ultrabook    13.3                            1440x900    8   \n",
              "2      HP   Notebook    15.6                   Full HD 1920x1080    8   \n",
              "3   Apple  Ultrabook    15.4  IPS Panel Retina Display 2880x1800   16   \n",
              "4   Apple  Ultrabook    13.3  IPS Panel Retina Display 2560x1600    8   \n",
              "\n",
              "                Memory                           Gpu  OpSys  Weight  \\\n",
              "0            128GB SSD  Intel Iris Plus Graphics 640  macOS    1.37   \n",
              "1  128GB Flash Storage        Intel HD Graphics 6000  macOS    1.34   \n",
              "2            256GB SSD         Intel HD Graphics 620  No OS    1.86   \n",
              "3            512GB SSD            AMD Radeon Pro 455  macOS    1.83   \n",
              "4            256GB SSD  Intel Iris Plus Graphics 650  macOS    1.37   \n",
              "\n",
              "         Price  TouchScreen  IPS Panel  X_res  Y_res         PPI  \\\n",
              "0   71378.6832            0          1   2560   1600  226.983005   \n",
              "1   47895.5232            0          0   1440    900  127.677940   \n",
              "2   30636.0000            0          0   1920   1080  141.211998   \n",
              "3  135195.3360            0          1   2880   1800  220.534624   \n",
              "4   96095.8080            0          1   2560   1600  226.983005   \n",
              "\n",
              "        CPU_name  \n",
              "0  Intel Core i5  \n",
              "1  Intel Core i5  \n",
              "2  Intel Core i5  \n",
              "3  Intel Core i7  \n",
              "4  Intel Core i5  "
            ]
          },
          "execution_count": null,
          "metadata": {},
          "output_type": "execute_result"
        }
      ],
      "source": [
        "df.head()"
      ]
    },
    {
      "cell_type": "code",
      "execution_count": null,
      "metadata": {
        "colab": {
          "background_save": true
        },
        "id": "LXLF14fMYO1c",
        "outputId": "802c25bd-b217-41a0-d0e6-defb90828e16"
      },
      "outputs": [
        {
          "name": "stderr",
          "output_type": "stream",
          "text": [
            "/usr/local/lib/python3.7/dist-packages/seaborn/_decorators.py:43: FutureWarning: Pass the following variable as a keyword arg: x. From version 0.12, the only valid positional argument will be `data`, and passing other arguments without an explicit keyword will result in an error or misinterpretation.\n",
            "  FutureWarning\n"
          ]
        },
        {
          "data": {
            "text/plain": [
              "<matplotlib.axes._subplots.AxesSubplot at 0x7fe51d6ec850>"
            ]
          },
          "execution_count": null,
          "metadata": {},
          "output_type": "execute_result"
        },
        {
          "data": {
            "image/png": "[encoded data removed]",
            "text/plain": [
              "<Figure size 432x288 with 1 Axes>"
            ]
          },
          "metadata": {},
          "output_type": "display_data"
        }
      ],
      "source": [
        "sns.countplot(df['Ram'])"
      ]
    },
    {
      "cell_type": "code",
      "execution_count": null,
      "metadata": {
        "id": "NDL3_1nje7Sj"
      },
      "outputs": [],
      "source": [
        "#Ram is having good relation with price\n",
        "sns.barplot(x=df['Ram'],y=df['Price'])"
      ]
    },
    {
      "cell_type": "code",
      "execution_count": null,
      "metadata": {
        "id": "x7SdQqGPfSm0"
      },
      "outputs": [],
      "source": [
        "#about the memory column\n",
        "df['Memory'].value_counts()"
      ]
    },
    {
      "cell_type": "code",
      "execution_count": null,
      "metadata": {
        "id": "4cJyZT8Cf6J-"
      },
      "outputs": [],
      "source": [
        "df['Memory']=df['Memory'].astype(str).replace('\\.0',' ',regex=True)\n",
        "df['Memory']=df['Memory'].str.replace('GB',' ')\n",
        "df['Memory']=df['Memory'].str.replace('TB','000')\n",
        "#split the word across the '+' charector\n",
        "newdf=df['Memory'].str.split('+',n=1,expand=True)\n",
        "\n",
        "\n"
      ]
    },
    {
      "cell_type": "code",
      "execution_count": null,
      "metadata": {
        "id": "rc0HFBwVhv_k"
      },
      "outputs": [],
      "source": [
        "newdf.sample(5)"
      ]
    },
    {
      "cell_type": "code",
      "execution_count": null,
      "metadata": {
        "id": "mP_4gBomjX7W"
      },
      "outputs": [],
      "source": [
        "df['first']=newdf[0]\n",
        "df['first'].str.strip()\n"
      ]
    },
    {
      "cell_type": "code",
      "execution_count": null,
      "metadata": {
        "id": "Kcet1miqkeZN"
      },
      "outputs": [],
      "source": [
        "df.head(10)"
      ]
    },
    {
      "cell_type": "code",
      "execution_count": null,
      "metadata": {
        "id": "UgMKUIThkfge"
      },
      "outputs": [],
      "source": [
        "def applychanges(values):\n",
        "     df['Layer1' + values]=df['first'].apply(lambda x : 1 if values in x else 0)\n",
        "\n",
        "listapply=['SSD','HDD','Hybrid','Flash Storage']\n",
        "for values in listapply:\n",
        "    applychanges(values)\n"
      ]
    },
    {
      "cell_type": "code",
      "execution_count": null,
      "metadata": {
        "id": "w0o6HD0goFMf"
      },
      "outputs": [],
      "source": [
        "df.head()"
      ]
    },
    {
      "cell_type": "code",
      "execution_count": null,
      "metadata": {
        "id": "8sxiGdgEoGeW"
      },
      "outputs": [],
      "source": [
        "df['first']=df['first'].str.replace(r'\\D','')\n",
        "df['first'].value_counts()"
      ]
    },
    {
      "cell_type": "code",
      "execution_count": null,
      "metadata": {
        "id": "czyCCL3Oprzg"
      },
      "outputs": [],
      "source": [
        "df['second']=newdf[1]\n",
        "df.head()\n"
      ]
    },
    {
      "cell_type": "code",
      "execution_count": null,
      "metadata": {
        "id": "OTuyt2yMr37C"
      },
      "outputs": [],
      "source": [
        "df"
      ]
    },
    {
      "cell_type": "code",
      "execution_count": null,
      "metadata": {
        "id": "qQasZXHUqD6Z"
      },
      "outputs": [],
      "source": [
        "def applychanges(values):\n",
        "     df['Layer2' + values]=df['second'].apply(lambda x : 1 if values in x else 0)\n",
        "\n",
        "listapply1=['SSD','HDD','Hybrid','Flash Storage']\n",
        "df['second']=df['second'].fillna('0')\n",
        "for values in listapply1:\n",
        "    applychanges(values)"
      ]
    },
    {
      "cell_type": "code",
      "execution_count": null,
      "metadata": {
        "id": "ZRMOedZFr0it"
      },
      "outputs": [],
      "source": [
        "df"
      ]
    },
    {
      "cell_type": "code",
      "execution_count": null,
      "metadata": {
        "id": "giCkhTeptGO6"
      },
      "outputs": [],
      "source": [
        "df['second']=df['second'].str.replace(r'\\D','')\n",
        "df['second'].value_counts()"
      ]
    },
    {
      "cell_type": "code",
      "execution_count": null,
      "metadata": {
        "id": "tu2F6dNQtyvH"
      },
      "outputs": [],
      "source": [
        "df.columns"
      ]
    },
    {
      "cell_type": "code",
      "execution_count": null,
      "metadata": {
        "id": "w0rfJk-F6wFj"
      },
      "outputs": [],
      "source": [
        "df.columns"
      ]
    },
    {
      "cell_type": "code",
      "execution_count": null,
      "metadata": {
        "id": "2uIZgVsT8KLE"
      },
      "outputs": [],
      "source": [
        "\n",
        "df['second']=df['second'].astype('int')\n",
        "df['first']=df['first'].astype('int')"
      ]
    },
    {
      "cell_type": "code",
      "execution_count": null,
      "metadata": {
        "id": "kVeZQMBAtN3E"
      },
      "outputs": [],
      "source": [
        "df['HDD']=(df['first']*df['Layer1HDD'] + df['second']*df['Layer2HDD'])\n",
        "df['SSD']=(df['first']*df['Layer1SSD'] + df['second']*df['Layer2SSD'])\n",
        "df['Hybrid']=(df['first']*df['Layer1Hybrid'] + df['second']*df['Layer2Hybrid'])\n",
        "df['Flash Storage']=(df['first']*df['Layer1Flash Storage'] + df['second']*df['Layer2Flash Storage'])"
      ]
    },
    {
      "cell_type": "code",
      "execution_count": null,
      "metadata": {
        "colab": {
          "background_save": true
        },
        "id": "q6Hxlb6W2xKx",
        "outputId": "e2fc7439-a748-413e-94bc-f6fc44fc7e62"
      },
      "outputs": [
        {
          "data": {
            "text/html": [
              "\n",
              "  <div id=\"df-b6b176c5-8df0-46f9-b27b-c5386f47c749\">\n",
              "    <div class=\"colab-df-container\">\n",
              "      <div>\n",
              "<style scoped>\n",
              "    .dataframe tbody tr th:only-of-type {\n",
              "        vertical-align: middle;\n",
              "    }\n",
              "\n",
              "    .dataframe tbody tr th {\n",
              "        vertical-align: top;\n",
              "    }\n",
              "\n",
              "    .dataframe thead th {\n",
              "        text-align: right;\n",
              "    }\n",
              "</style>\n",
              "<table border=\"1\" class=\"dataframe\">\n",
              "  <thead>\n",
              "    <tr style=\"text-align: right;\">\n",
              "      <th></th>\n",
              "      <th>Company</th>\n",
              "      <th>TypeName</th>\n",
              "      <th>Inches</th>\n",
              "      <th>ScreenResolution</th>\n",
              "      <th>Ram</th>\n",
              "      <th>Memory</th>\n",
              "      <th>Gpu</th>\n",
              "      <th>OpSys</th>\n",
              "      <th>Weight</th>\n",
              "      <th>Price</th>\n",
              "      <th>...</th>\n",
              "      <th>Layer1Flash Storage</th>\n",
              "      <th>second</th>\n",
              "      <th>Layer2SSD</th>\n",
              "      <th>Layer2HDD</th>\n",
              "      <th>Layer2Hybrid</th>\n",
              "      <th>Layer2Flash Storage</th>\n",
              "      <th>HDD</th>\n",
              "      <th>SSD</th>\n",
              "      <th>Hybrid</th>\n",
              "      <th>Flash Storage</th>\n",
              "    </tr>\n",
              "  </thead>\n",
              "  <tbody>\n",
              "    <tr>\n",
              "      <th>0</th>\n",
              "      <td>Apple</td>\n",
              "      <td>Ultrabook</td>\n",
              "      <td>13.3</td>\n",
              "      <td>IPS Panel Retina Display 2560x1600</td>\n",
              "      <td>8</td>\n",
              "      <td>128  SSD</td>\n",
              "      <td>Intel Iris Plus Graphics 640</td>\n",
              "      <td>macOS</td>\n",
              "      <td>1.37</td>\n",
              "      <td>71378.6832</td>\n",
              "      <td>...</td>\n",
              "      <td>0</td>\n",
              "      <td>0</td>\n",
              "      <td>0</td>\n",
              "      <td>0</td>\n",
              "      <td>0</td>\n",
              "      <td>0</td>\n",
              "      <td>0</td>\n",
              "      <td>128</td>\n",
              "      <td>0</td>\n",
              "      <td>0</td>\n",
              "    </tr>\n",
              "    <tr>\n",
              "      <th>1</th>\n",
              "      <td>Apple</td>\n",
              "      <td>Ultrabook</td>\n",
              "      <td>13.3</td>\n",
              "      <td>1440x900</td>\n",
              "      <td>8</td>\n",
              "      <td>128  Flash Storage</td>\n",
              "      <td>Intel HD Graphics 6000</td>\n",
              "      <td>macOS</td>\n",
              "      <td>1.34</td>\n",
              "      <td>47895.5232</td>\n",
              "      <td>...</td>\n",
              "      <td>1</td>\n",
              "      <td>0</td>\n",
              "      <td>0</td>\n",
              "      <td>0</td>\n",
              "      <td>0</td>\n",
              "      <td>0</td>\n",
              "      <td>0</td>\n",
              "      <td>0</td>\n",
              "      <td>0</td>\n",
              "      <td>128</td>\n",
              "    </tr>\n",
              "    <tr>\n",
              "      <th>2</th>\n",
              "      <td>HP</td>\n",
              "      <td>Notebook</td>\n",
              "      <td>15.6</td>\n",
              "      <td>Full HD 1920x1080</td>\n",
              "      <td>8</td>\n",
              "      <td>256  SSD</td>\n",
              "      <td>Intel HD Graphics 620</td>\n",
              "      <td>No OS</td>\n",
              "      <td>1.86</td>\n",
              "      <td>30636.0000</td>\n",
              "      <td>...</td>\n",
              "      <td>0</td>\n",
              "      <td>0</td>\n",
              "      <td>0</td>\n",
              "      <td>0</td>\n",
              "      <td>0</td>\n",
              "      <td>0</td>\n",
              "      <td>0</td>\n",
              "      <td>256</td>\n",
              "      <td>0</td>\n",
              "      <td>0</td>\n",
              "    </tr>\n",
              "    <tr>\n",
              "      <th>3</th>\n",
              "      <td>Apple</td>\n",
              "      <td>Ultrabook</td>\n",
              "      <td>15.4</td>\n",
              "      <td>IPS Panel Retina Display 2880x1800</td>\n",
              "      <td>16</td>\n",
              "      <td>512  SSD</td>\n",
              "      <td>AMD Radeon Pro 455</td>\n",
              "      <td>macOS</td>\n",
              "      <td>1.83</td>\n",
              "      <td>135195.3360</td>\n",
              "      <td>...</td>\n",
              "      <td>0</td>\n",
              "      <td>0</td>\n",
              "      <td>0</td>\n",
              "      <td>0</td>\n",
              "      <td>0</td>\n",
              "      <td>0</td>\n",
              "      <td>0</td>\n",
              "      <td>512</td>\n",
              "      <td>0</td>\n",
              "      <td>0</td>\n",
              "    </tr>\n",
              "    <tr>\n",
              "      <th>4</th>\n",
              "      <td>Apple</td>\n",
              "      <td>Ultrabook</td>\n",
              "      <td>13.3</td>\n",
              "      <td>IPS Panel Retina Display 2560x1600</td>\n",
              "      <td>8</td>\n",
              "      <td>256  SSD</td>\n",
              "      <td>Intel Iris Plus Graphics 650</td>\n",
              "      <td>macOS</td>\n",
              "      <td>1.37</td>\n",
              "      <td>96095.8080</td>\n",
              "      <td>...</td>\n",
              "      <td>0</td>\n",
              "      <td>0</td>\n",
              "      <td>0</td>\n",
              "      <td>0</td>\n",
              "      <td>0</td>\n",
              "      <td>0</td>\n",
              "      <td>0</td>\n",
              "      <td>256</td>\n",
              "      <td>0</td>\n",
              "      <td>0</td>\n",
              "    </tr>\n",
              "  </tbody>\n",
              "</table>\n",
              "<p>5 rows × 30 columns</p>\n",
              "</div>\n",
              "      <button class=\"colab-df-convert\" onclick=\"convertToInteractive('df-b6b176c5-8df0-46f9-b27b-c5386f47c749')\"\n",
              "              title=\"Convert this dataframe to an interactive table.\"\n",
              "              style=\"display:none;\">\n",
              "        \n",
              "  <svg xmlns=\"http://www.w3.org/2000/svg\" height=\"24px\"viewBox=\"0 0 24 24\"\n",
              "       width=\"24px\">\n",
              "    <path d=\"M0 0h24v24H0V0z\" fill=\"none\"/>\n",
              "    <path d=\"M18.56 5.44l.94 2.06.94-2.06 2.06-.94-2.06-.94-.94-2.06-.94 2.06-2.06.94zm-11 1L8.5 8.5l.94-2.06 2.06-.94-2.06-.94L8.5 2.5l-.94 2.06-2.06.94zm10 10l.94 2.06.94-2.06 2.06-.94-2.06-.94-.94-2.06-.94 2.06-2.06.94z\"/><path d=\"M17.41 7.96l-1.37-1.37c-.4-.4-.92-.59-1.43-.59-.52 0-1.04.2-1.43.59L10.3 9.45l-7.72 7.72c-.78.78-.78 2.05 0 2.83L4 21.41c.39.39.9.59 1.41.59.51 0 1.02-.2 1.41-.59l7.78-7.78 2.81-2.81c.8-.78.8-2.07 0-2.86zM5.41 20L4 18.59l7.72-7.72 1.47 1.35L5.41 20z\"/>\n",
              "  </svg>\n",
              "      </button>\n",
              "      \n",
              "  <style>\n",
              "    .colab-df-container {\n",
              "      display:flex;\n",
              "      flex-wrap:wrap;\n",
              "      gap: 12px;\n",
              "    }\n",
              "\n",
              "    .colab-df-convert {\n",
              "      background-color: #E8F0FE;\n",
              "      border: none;\n",
              "      border-radius: 50%;\n",
              "      cursor: pointer;\n",
              "      display: none;\n",
              "      fill: #1967D2;\n",
              "      height: 32px;\n",
              "      padding: 0 0 0 0;\n",
              "      width: 32px;\n",
              "    }\n",
              "\n",
              "    .colab-df-convert:hover {\n",
              "      background-color: #E2EBFA;\n",
              "      box-shadow: 0px 1px 2px rgba(60, 64, 67, 0.3), 0px 1px 3px 1px rgba(60, 64, 67, 0.15);\n",
              "      fill: #174EA6;\n",
              "    }\n",
              "\n",
              "    [theme=dark] .colab-df-convert {\n",
              "      background-color: #3B4455;\n",
              "      fill: #D2E3FC;\n",
              "    }\n",
              "\n",
              "    [theme=dark] .colab-df-convert:hover {\n",
              "      background-color: #434B5C;\n",
              "      box-shadow: 0px 1px 3px 1px rgba(0, 0, 0, 0.15);\n",
              "      filter: drop-shadow(0px 1px 2px rgba(0, 0, 0, 0.3));\n",
              "      fill: #FFFFFF;\n",
              "    }\n",
              "  </style>\n",
              "\n",
              "      <script>\n",
              "        const buttonEl =\n",
              "          document.querySelector('#df-b6b176c5-8df0-46f9-b27b-c5386f47c749 button.colab-df-convert');\n",
              "        buttonEl.style.display =\n",
              "          google.colab.kernel.accessAllowed ? 'block' : 'none';\n",
              "\n",
              "        async function convertToInteractive(key) {\n",
              "          const element = document.querySelector('#df-b6b176c5-8df0-46f9-b27b-c5386f47c749');\n",
              "          const dataTable =\n",
              "            await google.colab.kernel.invokeFunction('convertToInteractive',\n",
              "                                                     [key], {});\n",
              "          if (!dataTable) return;\n",
              "\n",
              "          const docLinkHtml = 'Like what you see? Visit the ' +\n",
              "            '<a target=\"_blank\" href=https://colab.research.google.com/notebooks/data_table.ipynb>data table notebook</a>'\n",
              "            + ' to learn more about interactive tables.';\n",
              "          element.innerHTML = '';\n",
              "          dataTable['output_type'] = 'display_data';\n",
              "          await google.colab.output.renderOutput(dataTable, element);\n",
              "          const docLink = document.createElement('div');\n",
              "          docLink.innerHTML = docLinkHtml;\n",
              "          element.appendChild(docLink);\n",
              "        }\n",
              "      </script>\n",
              "    </div>\n",
              "  </div>\n",
              "  "
            ],
            "text/plain": [
              "  Company   TypeName  Inches                    ScreenResolution  Ram  \\\n",
              "0   Apple  Ultrabook    13.3  IPS Panel Retina Display 2560x1600    8   \n",
              "1   Apple  Ultrabook    13.3                            1440x900    8   \n",
              "2      HP   Notebook    15.6                   Full HD 1920x1080    8   \n",
              "3   Apple  Ultrabook    15.4  IPS Panel Retina Display 2880x1800   16   \n",
              "4   Apple  Ultrabook    13.3  IPS Panel Retina Display 2560x1600    8   \n",
              "\n",
              "               Memory                           Gpu  OpSys  Weight  \\\n",
              "0            128  SSD  Intel Iris Plus Graphics 640  macOS    1.37   \n",
              "1  128  Flash Storage        Intel HD Graphics 6000  macOS    1.34   \n",
              "2            256  SSD         Intel HD Graphics 620  No OS    1.86   \n",
              "3            512  SSD            AMD Radeon Pro 455  macOS    1.83   \n",
              "4            256  SSD  Intel Iris Plus Graphics 650  macOS    1.37   \n",
              "\n",
              "         Price  ...  Layer1Flash Storage  second  Layer2SSD  Layer2HDD  \\\n",
              "0   71378.6832  ...                    0       0          0          0   \n",
              "1   47895.5232  ...                    1       0          0          0   \n",
              "2   30636.0000  ...                    0       0          0          0   \n",
              "3  135195.3360  ...                    0       0          0          0   \n",
              "4   96095.8080  ...                    0       0          0          0   \n",
              "\n",
              "   Layer2Hybrid Layer2Flash Storage  HDD  SSD  Hybrid  Flash Storage  \n",
              "0             0                   0    0  128       0              0  \n",
              "1             0                   0    0    0       0            128  \n",
              "2             0                   0    0  256       0              0  \n",
              "3             0                   0    0  512       0              0  \n",
              "4             0                   0    0  256       0              0  \n",
              "\n",
              "[5 rows x 30 columns]"
            ]
          },
          "execution_count": null,
          "metadata": {},
          "output_type": "execute_result"
        }
      ],
      "source": [
        "df.head()"
      ]
    },
    {
      "cell_type": "code",
      "execution_count": null,
      "metadata": {
        "colab": {
          "background_save": true
        },
        "id": "3LDqGqzy6oKI",
        "outputId": "6ad33174-ec1d-449d-fd6a-e57af02991eb"
      },
      "outputs": [
        {
          "data": {
            "text/plain": [
              "Index(['Company', 'TypeName', 'Inches', 'ScreenResolution', 'Ram', 'Memory',\n",
              "       'Gpu', 'OpSys', 'Weight', 'Price', 'TouchScreen', 'IPS Panel', 'X_res',\n",
              "       'Y_res', 'PPI', 'CPU_name', 'first', 'Layer1SSD', 'Layer1HDD',\n",
              "       'Layer1Hybrid', 'Layer1Flash Storage', 'second', 'Layer2SSD',\n",
              "       'Layer2HDD', 'Layer2Hybrid', 'Layer2Flash Storage', 'HDD', 'SSD',\n",
              "       'Hybrid', 'Flash Storage'],\n",
              "      dtype='object')"
            ]
          },
          "execution_count": null,
          "metadata": {},
          "output_type": "execute_result"
        }
      ],
      "source": [
        "df.columns"
      ]
    },
    {
      "cell_type": "code",
      "execution_count": null,
      "metadata": {
        "colab": {
          "background_save": true
        },
        "id": "lM6N9Kzb8igb"
      },
      "outputs": [],
      "source": [
        "df1=df.copy()"
      ]
    },
    {
      "cell_type": "code",
      "execution_count": null,
      "metadata": {
        "colab": {
          "background_save": true
        },
        "id": "9bYtoOKn8t6R",
        "outputId": "fd91921e-c7ad-4b45-acb3-637be6b9299d"
      },
      "outputs": [
        {
          "data": {
            "text/html": [
              "\n",
              "  <div id=\"df-897fc82f-e85e-407f-8aa4-725e7ca05d8f\">\n",
              "    <div class=\"colab-df-container\">\n",
              "      <div>\n",
              "<style scoped>\n",
              "    .dataframe tbody tr th:only-of-type {\n",
              "        vertical-align: middle;\n",
              "    }\n",
              "\n",
              "    .dataframe tbody tr th {\n",
              "        vertical-align: top;\n",
              "    }\n",
              "\n",
              "    .dataframe thead th {\n",
              "        text-align: right;\n",
              "    }\n",
              "</style>\n",
              "<table border=\"1\" class=\"dataframe\">\n",
              "  <thead>\n",
              "    <tr style=\"text-align: right;\">\n",
              "      <th></th>\n",
              "      <th>Company</th>\n",
              "      <th>TypeName</th>\n",
              "      <th>Inches</th>\n",
              "      <th>ScreenResolution</th>\n",
              "      <th>Ram</th>\n",
              "      <th>Memory</th>\n",
              "      <th>Gpu</th>\n",
              "      <th>OpSys</th>\n",
              "      <th>Weight</th>\n",
              "      <th>Price</th>\n",
              "      <th>...</th>\n",
              "      <th>Layer1Flash Storage</th>\n",
              "      <th>second</th>\n",
              "      <th>Layer2SSD</th>\n",
              "      <th>Layer2HDD</th>\n",
              "      <th>Layer2Hybrid</th>\n",
              "      <th>Layer2Flash Storage</th>\n",
              "      <th>HDD</th>\n",
              "      <th>SSD</th>\n",
              "      <th>Hybrid</th>\n",
              "      <th>Flash Storage</th>\n",
              "    </tr>\n",
              "  </thead>\n",
              "  <tbody>\n",
              "    <tr>\n",
              "      <th>0</th>\n",
              "      <td>Apple</td>\n",
              "      <td>Ultrabook</td>\n",
              "      <td>13.3</td>\n",
              "      <td>IPS Panel Retina Display 2560x1600</td>\n",
              "      <td>8</td>\n",
              "      <td>128  SSD</td>\n",
              "      <td>Intel Iris Plus Graphics 640</td>\n",
              "      <td>macOS</td>\n",
              "      <td>1.37</td>\n",
              "      <td>71378.6832</td>\n",
              "      <td>...</td>\n",
              "      <td>0</td>\n",
              "      <td>0</td>\n",
              "      <td>0</td>\n",
              "      <td>0</td>\n",
              "      <td>0</td>\n",
              "      <td>0</td>\n",
              "      <td>0</td>\n",
              "      <td>128</td>\n",
              "      <td>0</td>\n",
              "      <td>0</td>\n",
              "    </tr>\n",
              "    <tr>\n",
              "      <th>1</th>\n",
              "      <td>Apple</td>\n",
              "      <td>Ultrabook</td>\n",
              "      <td>13.3</td>\n",
              "      <td>1440x900</td>\n",
              "      <td>8</td>\n",
              "      <td>128  Flash Storage</td>\n",
              "      <td>Intel HD Graphics 6000</td>\n",
              "      <td>macOS</td>\n",
              "      <td>1.34</td>\n",
              "      <td>47895.5232</td>\n",
              "      <td>...</td>\n",
              "      <td>1</td>\n",
              "      <td>0</td>\n",
              "      <td>0</td>\n",
              "      <td>0</td>\n",
              "      <td>0</td>\n",
              "      <td>0</td>\n",
              "      <td>0</td>\n",
              "      <td>0</td>\n",
              "      <td>0</td>\n",
              "      <td>128</td>\n",
              "    </tr>\n",
              "    <tr>\n",
              "      <th>2</th>\n",
              "      <td>HP</td>\n",
              "      <td>Notebook</td>\n",
              "      <td>15.6</td>\n",
              "      <td>Full HD 1920x1080</td>\n",
              "      <td>8</td>\n",
              "      <td>256  SSD</td>\n",
              "      <td>Intel HD Graphics 620</td>\n",
              "      <td>No OS</td>\n",
              "      <td>1.86</td>\n",
              "      <td>30636.0000</td>\n",
              "      <td>...</td>\n",
              "      <td>0</td>\n",
              "      <td>0</td>\n",
              "      <td>0</td>\n",
              "      <td>0</td>\n",
              "      <td>0</td>\n",
              "      <td>0</td>\n",
              "      <td>0</td>\n",
              "      <td>256</td>\n",
              "      <td>0</td>\n",
              "      <td>0</td>\n",
              "    </tr>\n",
              "    <tr>\n",
              "      <th>3</th>\n",
              "      <td>Apple</td>\n",
              "      <td>Ultrabook</td>\n",
              "      <td>15.4</td>\n",
              "      <td>IPS Panel Retina Display 2880x1800</td>\n",
              "      <td>16</td>\n",
              "      <td>512  SSD</td>\n",
              "      <td>AMD Radeon Pro 455</td>\n",
              "      <td>macOS</td>\n",
              "      <td>1.83</td>\n",
              "      <td>135195.3360</td>\n",
              "      <td>...</td>\n",
              "      <td>0</td>\n",
              "      <td>0</td>\n",
              "      <td>0</td>\n",
              "      <td>0</td>\n",
              "      <td>0</td>\n",
              "      <td>0</td>\n",
              "      <td>0</td>\n",
              "      <td>512</td>\n",
              "      <td>0</td>\n",
              "      <td>0</td>\n",
              "    </tr>\n",
              "    <tr>\n",
              "      <th>4</th>\n",
              "      <td>Apple</td>\n",
              "      <td>Ultrabook</td>\n",
              "      <td>13.3</td>\n",
              "      <td>IPS Panel Retina Display 2560x1600</td>\n",
              "      <td>8</td>\n",
              "      <td>256  SSD</td>\n",
              "      <td>Intel Iris Plus Graphics 650</td>\n",
              "      <td>macOS</td>\n",
              "      <td>1.37</td>\n",
              "      <td>96095.8080</td>\n",
              "      <td>...</td>\n",
              "      <td>0</td>\n",
              "      <td>0</td>\n",
              "      <td>0</td>\n",
              "      <td>0</td>\n",
              "      <td>0</td>\n",
              "      <td>0</td>\n",
              "      <td>0</td>\n",
              "      <td>256</td>\n",
              "      <td>0</td>\n",
              "      <td>0</td>\n",
              "    </tr>\n",
              "    <tr>\n",
              "      <th>...</th>\n",
              "      <td>...</td>\n",
              "      <td>...</td>\n",
              "      <td>...</td>\n",
              "      <td>...</td>\n",
              "      <td>...</td>\n",
              "      <td>...</td>\n",
              "      <td>...</td>\n",
              "      <td>...</td>\n",
              "      <td>...</td>\n",
              "      <td>...</td>\n",
              "      <td>...</td>\n",
              "      <td>...</td>\n",
              "      <td>...</td>\n",
              "      <td>...</td>\n",
              "      <td>...</td>\n",
              "      <td>...</td>\n",
              "      <td>...</td>\n",
              "      <td>...</td>\n",
              "      <td>...</td>\n",
              "      <td>...</td>\n",
              "      <td>...</td>\n",
              "    </tr>\n",
              "    <tr>\n",
              "      <th>1298</th>\n",
              "      <td>Lenovo</td>\n",
              "      <td>2 in 1 Convertible</td>\n",
              "      <td>14.0</td>\n",
              "      <td>IPS Panel Full HD / Touchscreen 1920x1080</td>\n",
              "      <td>4</td>\n",
              "      <td>128  SSD</td>\n",
              "      <td>Intel HD Graphics 520</td>\n",
              "      <td>Windows 10</td>\n",
              "      <td>1.80</td>\n",
              "      <td>33992.6400</td>\n",
              "      <td>...</td>\n",
              "      <td>0</td>\n",
              "      <td>0</td>\n",
              "      <td>0</td>\n",
              "      <td>0</td>\n",
              "      <td>0</td>\n",
              "      <td>0</td>\n",
              "      <td>0</td>\n",
              "      <td>128</td>\n",
              "      <td>0</td>\n",
              "      <td>0</td>\n",
              "    </tr>\n",
              "    <tr>\n",
              "      <th>1299</th>\n",
              "      <td>Lenovo</td>\n",
              "      <td>2 in 1 Convertible</td>\n",
              "      <td>13.3</td>\n",
              "      <td>IPS Panel Quad HD+ / Touchscreen 3200x1800</td>\n",
              "      <td>16</td>\n",
              "      <td>512  SSD</td>\n",
              "      <td>Intel HD Graphics 520</td>\n",
              "      <td>Windows 10</td>\n",
              "      <td>1.30</td>\n",
              "      <td>79866.7200</td>\n",
              "      <td>...</td>\n",
              "      <td>0</td>\n",
              "      <td>0</td>\n",
              "      <td>0</td>\n",
              "      <td>0</td>\n",
              "      <td>0</td>\n",
              "      <td>0</td>\n",
              "      <td>0</td>\n",
              "      <td>512</td>\n",
              "      <td>0</td>\n",
              "      <td>0</td>\n",
              "    </tr>\n",
              "    <tr>\n",
              "      <th>1300</th>\n",
              "      <td>Lenovo</td>\n",
              "      <td>Notebook</td>\n",
              "      <td>14.0</td>\n",
              "      <td>1366x768</td>\n",
              "      <td>2</td>\n",
              "      <td>64  Flash Storage</td>\n",
              "      <td>Intel HD Graphics</td>\n",
              "      <td>Windows 10</td>\n",
              "      <td>1.50</td>\n",
              "      <td>12201.1200</td>\n",
              "      <td>...</td>\n",
              "      <td>1</td>\n",
              "      <td>0</td>\n",
              "      <td>0</td>\n",
              "      <td>0</td>\n",
              "      <td>0</td>\n",
              "      <td>0</td>\n",
              "      <td>0</td>\n",
              "      <td>0</td>\n",
              "      <td>0</td>\n",
              "      <td>64</td>\n",
              "    </tr>\n",
              "    <tr>\n",
              "      <th>1301</th>\n",
              "      <td>HP</td>\n",
              "      <td>Notebook</td>\n",
              "      <td>15.6</td>\n",
              "      <td>1366x768</td>\n",
              "      <td>6</td>\n",
              "      <td>1000 HDD</td>\n",
              "      <td>AMD Radeon R5 M330</td>\n",
              "      <td>Windows 10</td>\n",
              "      <td>2.19</td>\n",
              "      <td>40705.9200</td>\n",
              "      <td>...</td>\n",
              "      <td>0</td>\n",
              "      <td>0</td>\n",
              "      <td>0</td>\n",
              "      <td>0</td>\n",
              "      <td>0</td>\n",
              "      <td>0</td>\n",
              "      <td>1000</td>\n",
              "      <td>0</td>\n",
              "      <td>0</td>\n",
              "      <td>0</td>\n",
              "    </tr>\n",
              "    <tr>\n",
              "      <th>1302</th>\n",
              "      <td>Asus</td>\n",
              "      <td>Notebook</td>\n",
              "      <td>15.6</td>\n",
              "      <td>1366x768</td>\n",
              "      <td>4</td>\n",
              "      <td>500  HDD</td>\n",
              "      <td>Intel HD Graphics</td>\n",
              "      <td>Windows 10</td>\n",
              "      <td>2.20</td>\n",
              "      <td>19660.3200</td>\n",
              "      <td>...</td>\n",
              "      <td>0</td>\n",
              "      <td>0</td>\n",
              "      <td>0</td>\n",
              "      <td>0</td>\n",
              "      <td>0</td>\n",
              "      <td>0</td>\n",
              "      <td>500</td>\n",
              "      <td>0</td>\n",
              "      <td>0</td>\n",
              "      <td>0</td>\n",
              "    </tr>\n",
              "  </tbody>\n",
              "</table>\n",
              "<p>1303 rows × 30 columns</p>\n",
              "</div>\n",
              "      <button class=\"colab-df-convert\" onclick=\"convertToInteractive('df-897fc82f-e85e-407f-8aa4-725e7ca05d8f')\"\n",
              "              title=\"Convert this dataframe to an interactive table.\"\n",
              "              style=\"display:none;\">\n",
              "        \n",
              "  <svg xmlns=\"http://www.w3.org/2000/svg\" height=\"24px\"viewBox=\"0 0 24 24\"\n",
              "       width=\"24px\">\n",
              "    <path d=\"M0 0h24v24H0V0z\" fill=\"none\"/>\n",
              "    <path d=\"M18.56 5.44l.94 2.06.94-2.06 2.06-.94-2.06-.94-.94-2.06-.94 2.06-2.06.94zm-11 1L8.5 8.5l.94-2.06 2.06-.94-2.06-.94L8.5 2.5l-.94 2.06-2.06.94zm10 10l.94 2.06.94-2.06 2.06-.94-2.06-.94-.94-2.06-.94 2.06-2.06.94z\"/><path d=\"M17.41 7.96l-1.37-1.37c-.4-.4-.92-.59-1.43-.59-.52 0-1.04.2-1.43.59L10.3 9.45l-7.72 7.72c-.78.78-.78 2.05 0 2.83L4 21.41c.39.39.9.59 1.41.59.51 0 1.02-.2 1.41-.59l7.78-7.78 2.81-2.81c.8-.78.8-2.07 0-2.86zM5.41 20L4 18.59l7.72-7.72 1.47 1.35L5.41 20z\"/>\n",
              "  </svg>\n",
              "      </button>\n",
              "      \n",
              "  <style>\n",
              "    .colab-df-container {\n",
              "      display:flex;\n",
              "      flex-wrap:wrap;\n",
              "      gap: 12px;\n",
              "    }\n",
              "\n",
              "    .colab-df-convert {\n",
              "      background-color: #E8F0FE;\n",
              "      border: none;\n",
              "      border-radius: 50%;\n",
              "      cursor: pointer;\n",
              "      display: none;\n",
              "      fill: #1967D2;\n",
              "      height: 32px;\n",
              "      padding: 0 0 0 0;\n",
              "      width: 32px;\n",
              "    }\n",
              "\n",
              "    .colab-df-convert:hover {\n",
              "      background-color: #E2EBFA;\n",
              "      box-shadow: 0px 1px 2px rgba(60, 64, 67, 0.3), 0px 1px 3px 1px rgba(60, 64, 67, 0.15);\n",
              "      fill: #174EA6;\n",
              "    }\n",
              "\n",
              "    [theme=dark] .colab-df-convert {\n",
              "      background-color: #3B4455;\n",
              "      fill: #D2E3FC;\n",
              "    }\n",
              "\n",
              "    [theme=dark] .colab-df-convert:hover {\n",
              "      background-color: #434B5C;\n",
              "      box-shadow: 0px 1px 3px 1px rgba(0, 0, 0, 0.15);\n",
              "      filter: drop-shadow(0px 1px 2px rgba(0, 0, 0, 0.3));\n",
              "      fill: #FFFFFF;\n",
              "    }\n",
              "  </style>\n",
              "\n",
              "      <script>\n",
              "        const buttonEl =\n",
              "          document.querySelector('#df-897fc82f-e85e-407f-8aa4-725e7ca05d8f button.colab-df-convert');\n",
              "        buttonEl.style.display =\n",
              "          google.colab.kernel.accessAllowed ? 'block' : 'none';\n",
              "\n",
              "        async function convertToInteractive(key) {\n",
              "          const element = document.querySelector('#df-897fc82f-e85e-407f-8aa4-725e7ca05d8f');\n",
              "          const dataTable =\n",
              "            await google.colab.kernel.invokeFunction('convertToInteractive',\n",
              "                                                     [key], {});\n",
              "          if (!dataTable) return;\n",
              "\n",
              "          const docLinkHtml = 'Like what you see? Visit the ' +\n",
              "            '<a target=\"_blank\" href=https://colab.research.google.com/notebooks/data_table.ipynb>data table notebook</a>'\n",
              "            + ' to learn more about interactive tables.';\n",
              "          element.innerHTML = '';\n",
              "          dataTable['output_type'] = 'display_data';\n",
              "          await google.colab.output.renderOutput(dataTable, element);\n",
              "          const docLink = document.createElement('div');\n",
              "          docLink.innerHTML = docLinkHtml;\n",
              "          element.appendChild(docLink);\n",
              "        }\n",
              "      </script>\n",
              "    </div>\n",
              "  </div>\n",
              "  "
            ],
            "text/plain": [
              "     Company            TypeName  Inches  \\\n",
              "0      Apple           Ultrabook    13.3   \n",
              "1      Apple           Ultrabook    13.3   \n",
              "2         HP            Notebook    15.6   \n",
              "3      Apple           Ultrabook    15.4   \n",
              "4      Apple           Ultrabook    13.3   \n",
              "...      ...                 ...     ...   \n",
              "1298  Lenovo  2 in 1 Convertible    14.0   \n",
              "1299  Lenovo  2 in 1 Convertible    13.3   \n",
              "1300  Lenovo            Notebook    14.0   \n",
              "1301      HP            Notebook    15.6   \n",
              "1302    Asus            Notebook    15.6   \n",
              "\n",
              "                                ScreenResolution  Ram              Memory  \\\n",
              "0             IPS Panel Retina Display 2560x1600    8            128  SSD   \n",
              "1                                       1440x900    8  128  Flash Storage   \n",
              "2                              Full HD 1920x1080    8            256  SSD   \n",
              "3             IPS Panel Retina Display 2880x1800   16            512  SSD   \n",
              "4             IPS Panel Retina Display 2560x1600    8            256  SSD   \n",
              "...                                          ...  ...                 ...   \n",
              "1298   IPS Panel Full HD / Touchscreen 1920x1080    4            128  SSD   \n",
              "1299  IPS Panel Quad HD+ / Touchscreen 3200x1800   16            512  SSD   \n",
              "1300                                    1366x768    2   64  Flash Storage   \n",
              "1301                                    1366x768    6            1000 HDD   \n",
              "1302                                    1366x768    4            500  HDD   \n",
              "\n",
              "                               Gpu       OpSys  Weight        Price  ...  \\\n",
              "0     Intel Iris Plus Graphics 640       macOS    1.37   71378.6832  ...   \n",
              "1           Intel HD Graphics 6000       macOS    1.34   47895.5232  ...   \n",
              "2            Intel HD Graphics 620       No OS    1.86   30636.0000  ...   \n",
              "3               AMD Radeon Pro 455       macOS    1.83  135195.3360  ...   \n",
              "4     Intel Iris Plus Graphics 650       macOS    1.37   96095.8080  ...   \n",
              "...                            ...         ...     ...          ...  ...   \n",
              "1298         Intel HD Graphics 520  Windows 10    1.80   33992.6400  ...   \n",
              "1299         Intel HD Graphics 520  Windows 10    1.30   79866.7200  ...   \n",
              "1300             Intel HD Graphics  Windows 10    1.50   12201.1200  ...   \n",
              "1301            AMD Radeon R5 M330  Windows 10    2.19   40705.9200  ...   \n",
              "1302             Intel HD Graphics  Windows 10    2.20   19660.3200  ...   \n",
              "\n",
              "      Layer1Flash Storage  second  Layer2SSD  Layer2HDD  Layer2Hybrid  \\\n",
              "0                       0       0          0          0             0   \n",
              "1                       1       0          0          0             0   \n",
              "2                       0       0          0          0             0   \n",
              "3                       0       0          0          0             0   \n",
              "4                       0       0          0          0             0   \n",
              "...                   ...     ...        ...        ...           ...   \n",
              "1298                    0       0          0          0             0   \n",
              "1299                    0       0          0          0             0   \n",
              "1300                    1       0          0          0             0   \n",
              "1301                    0       0          0          0             0   \n",
              "1302                    0       0          0          0             0   \n",
              "\n",
              "     Layer2Flash Storage   HDD  SSD  Hybrid  Flash Storage  \n",
              "0                      0     0  128       0              0  \n",
              "1                      0     0    0       0            128  \n",
              "2                      0     0  256       0              0  \n",
              "3                      0     0  512       0              0  \n",
              "4                      0     0  256       0              0  \n",
              "...                  ...   ...  ...     ...            ...  \n",
              "1298                   0     0  128       0              0  \n",
              "1299                   0     0  512       0              0  \n",
              "1300                   0     0    0       0             64  \n",
              "1301                   0  1000    0       0              0  \n",
              "1302                   0   500    0       0              0  \n",
              "\n",
              "[1303 rows x 30 columns]"
            ]
          },
          "execution_count": null,
          "metadata": {},
          "output_type": "execute_result"
        }
      ],
      "source": [
        "df1"
      ]
    },
    {
      "cell_type": "code",
      "execution_count": null,
      "metadata": {
        "colab": {
          "background_save": true
        },
        "id": "aeocjWPT8yL7"
      },
      "outputs": [],
      "source": [
        "df1.drop(columns=['ScreenResolution','Layer1SSD', 'Layer1HDD',\n",
        "       'Layer1Hybrid', 'Layer1Flash Storage','second', 'Layer2SSD',\n",
        "       'Layer2HDD', 'Layer2Hybrid', 'Layer2Flash Storage'],inplace=True)"
      ]
    },
    {
      "cell_type": "code",
      "execution_count": null,
      "metadata": {
        "colab": {
          "background_save": true
        },
        "id": "KIKnCeO29Izn",
        "outputId": "569e8e3b-68e9-493d-9002-efd412c56402"
      },
      "outputs": [
        {
          "data": {
            "text/html": [
              "\n",
              "  <div id=\"df-1b80cde4-f1c7-41f7-a21f-eb0ada968869\">\n",
              "    <div class=\"colab-df-container\">\n",
              "      <div>\n",
              "<style scoped>\n",
              "    .dataframe tbody tr th:only-of-type {\n",
              "        vertical-align: middle;\n",
              "    }\n",
              "\n",
              "    .dataframe tbody tr th {\n",
              "        vertical-align: top;\n",
              "    }\n",
              "\n",
              "    .dataframe thead th {\n",
              "        text-align: right;\n",
              "    }\n",
              "</style>\n",
              "<table border=\"1\" class=\"dataframe\">\n",
              "  <thead>\n",
              "    <tr style=\"text-align: right;\">\n",
              "      <th></th>\n",
              "      <th>Company</th>\n",
              "      <th>TypeName</th>\n",
              "      <th>Inches</th>\n",
              "      <th>Ram</th>\n",
              "      <th>Memory</th>\n",
              "      <th>Gpu</th>\n",
              "      <th>OpSys</th>\n",
              "      <th>Weight</th>\n",
              "      <th>Price</th>\n",
              "      <th>TouchScreen</th>\n",
              "      <th>IPS Panel</th>\n",
              "      <th>X_res</th>\n",
              "      <th>Y_res</th>\n",
              "      <th>PPI</th>\n",
              "      <th>CPU_name</th>\n",
              "      <th>first</th>\n",
              "      <th>HDD</th>\n",
              "      <th>SSD</th>\n",
              "      <th>Hybrid</th>\n",
              "      <th>Flash Storage</th>\n",
              "    </tr>\n",
              "  </thead>\n",
              "  <tbody>\n",
              "    <tr>\n",
              "      <th>0</th>\n",
              "      <td>Apple</td>\n",
              "      <td>Ultrabook</td>\n",
              "      <td>13.3</td>\n",
              "      <td>8</td>\n",
              "      <td>128  SSD</td>\n",
              "      <td>Intel Iris Plus Graphics 640</td>\n",
              "      <td>macOS</td>\n",
              "      <td>1.37</td>\n",
              "      <td>71378.6832</td>\n",
              "      <td>0</td>\n",
              "      <td>1</td>\n",
              "      <td>2560</td>\n",
              "      <td>1600</td>\n",
              "      <td>226.983005</td>\n",
              "      <td>Intel Core i5</td>\n",
              "      <td>128</td>\n",
              "      <td>0</td>\n",
              "      <td>128</td>\n",
              "      <td>0</td>\n",
              "      <td>0</td>\n",
              "    </tr>\n",
              "    <tr>\n",
              "      <th>1</th>\n",
              "      <td>Apple</td>\n",
              "      <td>Ultrabook</td>\n",
              "      <td>13.3</td>\n",
              "      <td>8</td>\n",
              "      <td>128  Flash Storage</td>\n",
              "      <td>Intel HD Graphics 6000</td>\n",
              "      <td>macOS</td>\n",
              "      <td>1.34</td>\n",
              "      <td>47895.5232</td>\n",
              "      <td>0</td>\n",
              "      <td>0</td>\n",
              "      <td>1440</td>\n",
              "      <td>900</td>\n",
              "      <td>127.677940</td>\n",
              "      <td>Intel Core i5</td>\n",
              "      <td>128</td>\n",
              "      <td>0</td>\n",
              "      <td>0</td>\n",
              "      <td>0</td>\n",
              "      <td>128</td>\n",
              "    </tr>\n",
              "    <tr>\n",
              "      <th>2</th>\n",
              "      <td>HP</td>\n",
              "      <td>Notebook</td>\n",
              "      <td>15.6</td>\n",
              "      <td>8</td>\n",
              "      <td>256  SSD</td>\n",
              "      <td>Intel HD Graphics 620</td>\n",
              "      <td>No OS</td>\n",
              "      <td>1.86</td>\n",
              "      <td>30636.0000</td>\n",
              "      <td>0</td>\n",
              "      <td>0</td>\n",
              "      <td>1920</td>\n",
              "      <td>1080</td>\n",
              "      <td>141.211998</td>\n",
              "      <td>Intel Core i5</td>\n",
              "      <td>256</td>\n",
              "      <td>0</td>\n",
              "      <td>256</td>\n",
              "      <td>0</td>\n",
              "      <td>0</td>\n",
              "    </tr>\n",
              "    <tr>\n",
              "      <th>3</th>\n",
              "      <td>Apple</td>\n",
              "      <td>Ultrabook</td>\n",
              "      <td>15.4</td>\n",
              "      <td>16</td>\n",
              "      <td>512  SSD</td>\n",
              "      <td>AMD Radeon Pro 455</td>\n",
              "      <td>macOS</td>\n",
              "      <td>1.83</td>\n",
              "      <td>135195.3360</td>\n",
              "      <td>0</td>\n",
              "      <td>1</td>\n",
              "      <td>2880</td>\n",
              "      <td>1800</td>\n",
              "      <td>220.534624</td>\n",
              "      <td>Intel Core i7</td>\n",
              "      <td>512</td>\n",
              "      <td>0</td>\n",
              "      <td>512</td>\n",
              "      <td>0</td>\n",
              "      <td>0</td>\n",
              "    </tr>\n",
              "    <tr>\n",
              "      <th>4</th>\n",
              "      <td>Apple</td>\n",
              "      <td>Ultrabook</td>\n",
              "      <td>13.3</td>\n",
              "      <td>8</td>\n",
              "      <td>256  SSD</td>\n",
              "      <td>Intel Iris Plus Graphics 650</td>\n",
              "      <td>macOS</td>\n",
              "      <td>1.37</td>\n",
              "      <td>96095.8080</td>\n",
              "      <td>0</td>\n",
              "      <td>1</td>\n",
              "      <td>2560</td>\n",
              "      <td>1600</td>\n",
              "      <td>226.983005</td>\n",
              "      <td>Intel Core i5</td>\n",
              "      <td>256</td>\n",
              "      <td>0</td>\n",
              "      <td>256</td>\n",
              "      <td>0</td>\n",
              "      <td>0</td>\n",
              "    </tr>\n",
              "  </tbody>\n",
              "</table>\n",
              "</div>\n",
              "      <button class=\"colab-df-convert\" onclick=\"convertToInteractive('df-1b80cde4-f1c7-41f7-a21f-eb0ada968869')\"\n",
              "              title=\"Convert this dataframe to an interactive table.\"\n",
              "              style=\"display:none;\">\n",
              "        \n",
              "  <svg xmlns=\"http://www.w3.org/2000/svg\" height=\"24px\"viewBox=\"0 0 24 24\"\n",
              "       width=\"24px\">\n",
              "    <path d=\"M0 0h24v24H0V0z\" fill=\"none\"/>\n",
              "    <path d=\"M18.56 5.44l.94 2.06.94-2.06 2.06-.94-2.06-.94-.94-2.06-.94 2.06-2.06.94zm-11 1L8.5 8.5l.94-2.06 2.06-.94-2.06-.94L8.5 2.5l-.94 2.06-2.06.94zm10 10l.94 2.06.94-2.06 2.06-.94-2.06-.94-.94-2.06-.94 2.06-2.06.94z\"/><path d=\"M17.41 7.96l-1.37-1.37c-.4-.4-.92-.59-1.43-.59-.52 0-1.04.2-1.43.59L10.3 9.45l-7.72 7.72c-.78.78-.78 2.05 0 2.83L4 21.41c.39.39.9.59 1.41.59.51 0 1.02-.2 1.41-.59l7.78-7.78 2.81-2.81c.8-.78.8-2.07 0-2.86zM5.41 20L4 18.59l7.72-7.72 1.47 1.35L5.41 20z\"/>\n",
              "  </svg>\n",
              "      </button>\n",
              "      \n",
              "  <style>\n",
              "    .colab-df-container {\n",
              "      display:flex;\n",
              "      flex-wrap:wrap;\n",
              "      gap: 12px;\n",
              "    }\n",
              "\n",
              "    .colab-df-convert {\n",
              "      background-color: #E8F0FE;\n",
              "      border: none;\n",
              "      border-radius: 50%;\n",
              "      cursor: pointer;\n",
              "      display: none;\n",
              "      fill: #1967D2;\n",
              "      height: 32px;\n",
              "      padding: 0 0 0 0;\n",
              "      width: 32px;\n",
              "    }\n",
              "\n",
              "    .colab-df-convert:hover {\n",
              "      background-color: #E2EBFA;\n",
              "      box-shadow: 0px 1px 2px rgba(60, 64, 67, 0.3), 0px 1px 3px 1px rgba(60, 64, 67, 0.15);\n",
              "      fill: #174EA6;\n",
              "    }\n",
              "\n",
              "    [theme=dark] .colab-df-convert {\n",
              "      background-color: #3B4455;\n",
              "      fill: #D2E3FC;\n",
              "    }\n",
              "\n",
              "    [theme=dark] .colab-df-convert:hover {\n",
              "      background-color: #434B5C;\n",
              "      box-shadow: 0px 1px 3px 1px rgba(0, 0, 0, 0.15);\n",
              "      filter: drop-shadow(0px 1px 2px rgba(0, 0, 0, 0.3));\n",
              "      fill: #FFFFFF;\n",
              "    }\n",
              "  </style>\n",
              "\n",
              "      <script>\n",
              "        const buttonEl =\n",
              "          document.querySelector('#df-1b80cde4-f1c7-41f7-a21f-eb0ada968869 button.colab-df-convert');\n",
              "        buttonEl.style.display =\n",
              "          google.colab.kernel.accessAllowed ? 'block' : 'none';\n",
              "\n",
              "        async function convertToInteractive(key) {\n",
              "          const element = document.querySelector('#df-1b80cde4-f1c7-41f7-a21f-eb0ada968869');\n",
              "          const dataTable =\n",
              "            await google.colab.kernel.invokeFunction('convertToInteractive',\n",
              "                                                     [key], {});\n",
              "          if (!dataTable) return;\n",
              "\n",
              "          const docLinkHtml = 'Like what you see? Visit the ' +\n",
              "            '<a target=\"_blank\" href=https://colab.research.google.com/notebooks/data_table.ipynb>data table notebook</a>'\n",
              "            + ' to learn more about interactive tables.';\n",
              "          element.innerHTML = '';\n",
              "          dataTable['output_type'] = 'display_data';\n",
              "          await google.colab.output.renderOutput(dataTable, element);\n",
              "          const docLink = document.createElement('div');\n",
              "          docLink.innerHTML = docLinkHtml;\n",
              "          element.appendChild(docLink);\n",
              "        }\n",
              "      </script>\n",
              "    </div>\n",
              "  </div>\n",
              "  "
            ],
            "text/plain": [
              "  Company   TypeName  Inches  Ram              Memory  \\\n",
              "0   Apple  Ultrabook    13.3    8            128  SSD   \n",
              "1   Apple  Ultrabook    13.3    8  128  Flash Storage   \n",
              "2      HP   Notebook    15.6    8            256  SSD   \n",
              "3   Apple  Ultrabook    15.4   16            512  SSD   \n",
              "4   Apple  Ultrabook    13.3    8            256  SSD   \n",
              "\n",
              "                            Gpu  OpSys  Weight        Price  TouchScreen  \\\n",
              "0  Intel Iris Plus Graphics 640  macOS    1.37   71378.6832            0   \n",
              "1        Intel HD Graphics 6000  macOS    1.34   47895.5232            0   \n",
              "2         Intel HD Graphics 620  No OS    1.86   30636.0000            0   \n",
              "3            AMD Radeon Pro 455  macOS    1.83  135195.3360            0   \n",
              "4  Intel Iris Plus Graphics 650  macOS    1.37   96095.8080            0   \n",
              "\n",
              "   IPS Panel  X_res  Y_res         PPI       CPU_name  first  HDD  SSD  \\\n",
              "0          1   2560   1600  226.983005  Intel Core i5    128    0  128   \n",
              "1          0   1440    900  127.677940  Intel Core i5    128    0    0   \n",
              "2          0   1920   1080  141.211998  Intel Core i5    256    0  256   \n",
              "3          1   2880   1800  220.534624  Intel Core i7    512    0  512   \n",
              "4          1   2560   1600  226.983005  Intel Core i5    256    0  256   \n",
              "\n",
              "   Hybrid  Flash Storage  \n",
              "0       0              0  \n",
              "1       0            128  \n",
              "2       0              0  \n",
              "3       0              0  \n",
              "4       0              0  "
            ]
          },
          "execution_count": null,
          "metadata": {},
          "output_type": "execute_result"
        }
      ],
      "source": [
        "df1.head()"
      ]
    },
    {
      "cell_type": "code",
      "execution_count": null,
      "metadata": {
        "colab": {
          "background_save": true
        },
        "id": "tu3uZKEA9OxA"
      },
      "outputs": [],
      "source": [
        "df1.drop(columns=['Inches'],inplace=True)"
      ]
    },
    {
      "cell_type": "code",
      "execution_count": null,
      "metadata": {
        "colab": {
          "background_save": true
        },
        "id": "o1NDavCk-8Ra"
      },
      "outputs": [],
      "source": [
        "df=df1.copy()"
      ]
    },
    {
      "cell_type": "code",
      "execution_count": null,
      "metadata": {
        "colab": {
          "background_save": true
        },
        "id": "xgHqeHC__VvB",
        "outputId": "bb5cb364-d61a-44ef-fb77-565d4943a36b"
      },
      "outputs": [
        {
          "data": {
            "text/plain": [
              "Ram              0.743007\n",
              "Weight           0.210370\n",
              "Price            1.000000\n",
              "TouchScreen      0.191226\n",
              "IPS Panel        0.252208\n",
              "X_res            0.556529\n",
              "Y_res            0.552809\n",
              "PPI              0.473487\n",
              "first           -0.122365\n",
              "HDD             -0.096441\n",
              "SSD              0.670799\n",
              "Hybrid           0.007989\n",
              "Flash Storage   -0.040511\n",
              "Name: Price, dtype: float64"
            ]
          },
          "execution_count": null,
          "metadata": {},
          "output_type": "execute_result"
        }
      ],
      "source": [
        "df.corr()['Price']"
      ]
    },
    {
      "cell_type": "code",
      "execution_count": null,
      "metadata": {
        "colab": {
          "background_save": true
        },
        "id": "8dRnV_Cc_WkK"
      },
      "outputs": [],
      "source": [
        "df.drop(columns=['first'],inplace=True)"
      ]
    },
    {
      "cell_type": "code",
      "execution_count": null,
      "metadata": {
        "colab": {
          "background_save": true
        },
        "id": "4PsSBJyP_rhU",
        "outputId": "7dca1234-0253-4a49-be40-dd704160a47e"
      },
      "outputs": [
        {
          "data": {
            "text/html": [
              "\n",
              "  <div id=\"df-d65b6833-3472-44b3-8364-f80b80908632\">\n",
              "    <div class=\"colab-df-container\">\n",
              "      <div>\n",
              "<style scoped>\n",
              "    .dataframe tbody tr th:only-of-type {\n",
              "        vertical-align: middle;\n",
              "    }\n",
              "\n",
              "    .dataframe tbody tr th {\n",
              "        vertical-align: top;\n",
              "    }\n",
              "\n",
              "    .dataframe thead th {\n",
              "        text-align: right;\n",
              "    }\n",
              "</style>\n",
              "<table border=\"1\" class=\"dataframe\">\n",
              "  <thead>\n",
              "    <tr style=\"text-align: right;\">\n",
              "      <th></th>\n",
              "      <th>Company</th>\n",
              "      <th>TypeName</th>\n",
              "      <th>Ram</th>\n",
              "      <th>Memory</th>\n",
              "      <th>Gpu</th>\n",
              "      <th>OpSys</th>\n",
              "      <th>Weight</th>\n",
              "      <th>Price</th>\n",
              "      <th>TouchScreen</th>\n",
              "      <th>IPS Panel</th>\n",
              "      <th>X_res</th>\n",
              "      <th>Y_res</th>\n",
              "      <th>PPI</th>\n",
              "      <th>CPU_name</th>\n",
              "      <th>HDD</th>\n",
              "      <th>SSD</th>\n",
              "      <th>Hybrid</th>\n",
              "      <th>Flash Storage</th>\n",
              "    </tr>\n",
              "  </thead>\n",
              "  <tbody>\n",
              "    <tr>\n",
              "      <th>694</th>\n",
              "      <td>Toshiba</td>\n",
              "      <td>Notebook</td>\n",
              "      <td>8</td>\n",
              "      <td>256  SSD</td>\n",
              "      <td>Intel HD Graphics 620</td>\n",
              "      <td>Windows 10</td>\n",
              "      <td>1.50</td>\n",
              "      <td>51841.44</td>\n",
              "      <td>0</td>\n",
              "      <td>1</td>\n",
              "      <td>1920</td>\n",
              "      <td>1080</td>\n",
              "      <td>165.632118</td>\n",
              "      <td>Intel Core i5</td>\n",
              "      <td>0</td>\n",
              "      <td>256</td>\n",
              "      <td>0</td>\n",
              "      <td>0</td>\n",
              "    </tr>\n",
              "    <tr>\n",
              "      <th>429</th>\n",
              "      <td>Mediacom</td>\n",
              "      <td>2 in 1 Convertible</td>\n",
              "      <td>4</td>\n",
              "      <td>32  SSD</td>\n",
              "      <td>Intel HD Graphics 500</td>\n",
              "      <td>Windows 10</td>\n",
              "      <td>1.16</td>\n",
              "      <td>15930.72</td>\n",
              "      <td>1</td>\n",
              "      <td>1</td>\n",
              "      <td>1920</td>\n",
              "      <td>1080</td>\n",
              "      <td>189.905791</td>\n",
              "      <td>Other Intel Processor</td>\n",
              "      <td>0</td>\n",
              "      <td>32</td>\n",
              "      <td>0</td>\n",
              "      <td>0</td>\n",
              "    </tr>\n",
              "    <tr>\n",
              "      <th>164</th>\n",
              "      <td>Acer</td>\n",
              "      <td>Notebook</td>\n",
              "      <td>4</td>\n",
              "      <td>1000 HDD</td>\n",
              "      <td>Intel HD Graphics 500</td>\n",
              "      <td>Windows 10</td>\n",
              "      <td>2.10</td>\n",
              "      <td>18541.44</td>\n",
              "      <td>0</td>\n",
              "      <td>0</td>\n",
              "      <td>1366</td>\n",
              "      <td>768</td>\n",
              "      <td>100.454670</td>\n",
              "      <td>Other Intel Processor</td>\n",
              "      <td>1000</td>\n",
              "      <td>0</td>\n",
              "      <td>0</td>\n",
              "      <td>0</td>\n",
              "    </tr>\n",
              "    <tr>\n",
              "      <th>1044</th>\n",
              "      <td>HP</td>\n",
              "      <td>Notebook</td>\n",
              "      <td>4</td>\n",
              "      <td>500  HDD</td>\n",
              "      <td>Intel HD Graphics 520</td>\n",
              "      <td>Windows 10</td>\n",
              "      <td>1.54</td>\n",
              "      <td>53280.00</td>\n",
              "      <td>0</td>\n",
              "      <td>0</td>\n",
              "      <td>1920</td>\n",
              "      <td>1080</td>\n",
              "      <td>157.350512</td>\n",
              "      <td>Intel Core i5</td>\n",
              "      <td>500</td>\n",
              "      <td>0</td>\n",
              "      <td>0</td>\n",
              "      <td>0</td>\n",
              "    </tr>\n",
              "    <tr>\n",
              "      <th>398</th>\n",
              "      <td>Dell</td>\n",
              "      <td>Workstation</td>\n",
              "      <td>8</td>\n",
              "      <td>256  SSD</td>\n",
              "      <td>Nvidia Quadro M1200</td>\n",
              "      <td>Windows 10</td>\n",
              "      <td>1.78</td>\n",
              "      <td>144495.36</td>\n",
              "      <td>1</td>\n",
              "      <td>0</td>\n",
              "      <td>3840</td>\n",
              "      <td>2160</td>\n",
              "      <td>282.423996</td>\n",
              "      <td>Intel Core i7</td>\n",
              "      <td>0</td>\n",
              "      <td>256</td>\n",
              "      <td>0</td>\n",
              "      <td>0</td>\n",
              "    </tr>\n",
              "  </tbody>\n",
              "</table>\n",
              "</div>\n",
              "      <button class=\"colab-df-convert\" onclick=\"convertToInteractive('df-d65b6833-3472-44b3-8364-f80b80908632')\"\n",
              "              title=\"Convert this dataframe to an interactive table.\"\n",
              "              style=\"display:none;\">\n",
              "        \n",
              "  <svg xmlns=\"http://www.w3.org/2000/svg\" height=\"24px\"viewBox=\"0 0 24 24\"\n",
              "       width=\"24px\">\n",
              "    <path d=\"M0 0h24v24H0V0z\" fill=\"none\"/>\n",
              "    <path d=\"M18.56 5.44l.94 2.06.94-2.06 2.06-.94-2.06-.94-.94-2.06-.94 2.06-2.06.94zm-11 1L8.5 8.5l.94-2.06 2.06-.94-2.06-.94L8.5 2.5l-.94 2.06-2.06.94zm10 10l.94 2.06.94-2.06 2.06-.94-2.06-.94-.94-2.06-.94 2.06-2.06.94z\"/><path d=\"M17.41 7.96l-1.37-1.37c-.4-.4-.92-.59-1.43-.59-.52 0-1.04.2-1.43.59L10.3 9.45l-7.72 7.72c-.78.78-.78 2.05 0 2.83L4 21.41c.39.39.9.59 1.41.59.51 0 1.02-.2 1.41-.59l7.78-7.78 2.81-2.81c.8-.78.8-2.07 0-2.86zM5.41 20L4 18.59l7.72-7.72 1.47 1.35L5.41 20z\"/>\n",
              "  </svg>\n",
              "      </button>\n",
              "      \n",
              "  <style>\n",
              "    .colab-df-container {\n",
              "      display:flex;\n",
              "      flex-wrap:wrap;\n",
              "      gap: 12px;\n",
              "    }\n",
              "\n",
              "    .colab-df-convert {\n",
              "      background-color: #E8F0FE;\n",
              "      border: none;\n",
              "      border-radius: 50%;\n",
              "      cursor: pointer;\n",
              "      display: none;\n",
              "      fill: #1967D2;\n",
              "      height: 32px;\n",
              "      padding: 0 0 0 0;\n",
              "      width: 32px;\n",
              "    }\n",
              "\n",
              "    .colab-df-convert:hover {\n",
              "      background-color: #E2EBFA;\n",
              "      box-shadow: 0px 1px 2px rgba(60, 64, 67, 0.3), 0px 1px 3px 1px rgba(60, 64, 67, 0.15);\n",
              "      fill: #174EA6;\n",
              "    }\n",
              "\n",
              "    [theme=dark] .colab-df-convert {\n",
              "      background-color: #3B4455;\n",
              "      fill: #D2E3FC;\n",
              "    }\n",
              "\n",
              "    [theme=dark] .colab-df-convert:hover {\n",
              "      background-color: #434B5C;\n",
              "      box-shadow: 0px 1px 3px 1px rgba(0, 0, 0, 0.15);\n",
              "      filter: drop-shadow(0px 1px 2px rgba(0, 0, 0, 0.3));\n",
              "      fill: #FFFFFF;\n",
              "    }\n",
              "  </style>\n",
              "\n",
              "      <script>\n",
              "        const buttonEl =\n",
              "          document.querySelector('#df-d65b6833-3472-44b3-8364-f80b80908632 button.colab-df-convert');\n",
              "        buttonEl.style.display =\n",
              "          google.colab.kernel.accessAllowed ? 'block' : 'none';\n",
              "\n",
              "        async function convertToInteractive(key) {\n",
              "          const element = document.querySelector('#df-d65b6833-3472-44b3-8364-f80b80908632');\n",
              "          const dataTable =\n",
              "            await google.colab.kernel.invokeFunction('convertToInteractive',\n",
              "                                                     [key], {});\n",
              "          if (!dataTable) return;\n",
              "\n",
              "          const docLinkHtml = 'Like what you see? Visit the ' +\n",
              "            '<a target=\"_blank\" href=https://colab.research.google.com/notebooks/data_table.ipynb>data table notebook</a>'\n",
              "            + ' to learn more about interactive tables.';\n",
              "          element.innerHTML = '';\n",
              "          dataTable['output_type'] = 'display_data';\n",
              "          await google.colab.output.renderOutput(dataTable, element);\n",
              "          const docLink = document.createElement('div');\n",
              "          docLink.innerHTML = docLinkHtml;\n",
              "          element.appendChild(docLink);\n",
              "        }\n",
              "      </script>\n",
              "    </div>\n",
              "  </div>\n",
              "  "
            ],
            "text/plain": [
              "       Company            TypeName  Ram    Memory                    Gpu  \\\n",
              "694    Toshiba            Notebook    8  256  SSD  Intel HD Graphics 620   \n",
              "429   Mediacom  2 in 1 Convertible    4   32  SSD  Intel HD Graphics 500   \n",
              "164       Acer            Notebook    4  1000 HDD  Intel HD Graphics 500   \n",
              "1044        HP            Notebook    4  500  HDD  Intel HD Graphics 520   \n",
              "398       Dell         Workstation    8  256  SSD    Nvidia Quadro M1200   \n",
              "\n",
              "           OpSys  Weight      Price  TouchScreen  IPS Panel  X_res  Y_res  \\\n",
              "694   Windows 10    1.50   51841.44            0          1   1920   1080   \n",
              "429   Windows 10    1.16   15930.72            1          1   1920   1080   \n",
              "164   Windows 10    2.10   18541.44            0          0   1366    768   \n",
              "1044  Windows 10    1.54   53280.00            0          0   1920   1080   \n",
              "398   Windows 10    1.78  144495.36            1          0   3840   2160   \n",
              "\n",
              "             PPI               CPU_name   HDD  SSD  Hybrid  Flash Storage  \n",
              "694   165.632118          Intel Core i5     0  256       0              0  \n",
              "429   189.905791  Other Intel Processor     0   32       0              0  \n",
              "164   100.454670  Other Intel Processor  1000    0       0              0  \n",
              "1044  157.350512          Intel Core i5   500    0       0              0  \n",
              "398   282.423996          Intel Core i7     0  256       0              0  "
            ]
          },
          "execution_count": null,
          "metadata": {},
          "output_type": "execute_result"
        }
      ],
      "source": [
        "df.sample(5)"
      ]
    },
    {
      "cell_type": "code",
      "execution_count": null,
      "metadata": {
        "colab": {
          "background_save": true
        },
        "id": "WzXiSJsgd_VG"
      },
      "outputs": [],
      "source": [
        "df.drop(columns=['Memory'],inplace=True)"
      ]
    },
    {
      "cell_type": "code",
      "execution_count": null,
      "metadata": {
        "colab": {
          "background_save": true
        },
        "id": "7jynCuTler5G",
        "outputId": "8f1d04ae-1a98-4857-ab2b-fdfeba57e90e"
      },
      "outputs": [
        {
          "data": {
            "text/plain": [
              "Ram              0.743007\n",
              "Weight           0.210370\n",
              "Price            1.000000\n",
              "TouchScreen      0.191226\n",
              "IPS Panel        0.252208\n",
              "X_res            0.556529\n",
              "Y_res            0.552809\n",
              "PPI              0.473487\n",
              "HDD             -0.096441\n",
              "SSD              0.670799\n",
              "Hybrid           0.007989\n",
              "Flash Storage   -0.040511\n",
              "Name: Price, dtype: float64"
            ]
          },
          "execution_count": null,
          "metadata": {},
          "output_type": "execute_result"
        }
      ],
      "source": [
        "df.corr()['Price']"
      ]
    },
    {
      "cell_type": "code",
      "execution_count": null,
      "metadata": {
        "colab": {
          "background_save": true
        },
        "id": "7J6MF4T6evpe",
        "outputId": "11f77b4f-2dda-421c-dd52-08cdc3c6bc7a"
      },
      "outputs": [
        {
          "data": {
            "text/plain": [
              "Index(['Company', 'TypeName', 'Ram', 'Gpu', 'OpSys', 'Weight', 'Price',\n",
              "       'TouchScreen', 'IPS Panel', 'X_res', 'Y_res', 'PPI', 'CPU_name', 'HDD',\n",
              "       'SSD', 'Hybrid', 'Flash Storage'],\n",
              "      dtype='object')"
            ]
          },
          "execution_count": null,
          "metadata": {},
          "output_type": "execute_result"
        }
      ],
      "source": [
        "df.columns"
      ]
    },
    {
      "cell_type": "code",
      "execution_count": null,
      "metadata": {
        "colab": {
          "background_save": true
        },
        "id": "ZKdVSNQofZXN"
      },
      "outputs": [],
      "source": [
        "df.drop(columns=['Hybrid','Flash Storage'],inplace=True)"
      ]
    },
    {
      "cell_type": "code",
      "execution_count": null,
      "metadata": {
        "colab": {
          "background_save": true
        },
        "id": "A1k2-8VDfl6Q",
        "outputId": "1ce4f7a5-f8a1-4618-8d25-0825a43a0a74"
      },
      "outputs": [
        {
          "data": {
            "text/plain": [
              "Intel HD Graphics 620      281\n",
              "Intel HD Graphics 520      185\n",
              "Intel UHD Graphics 620      68\n",
              "Nvidia GeForce GTX 1050     66\n",
              "Nvidia GeForce GTX 1060     48\n",
              "                          ... \n",
              "AMD Radeon R5 520            1\n",
              "AMD Radeon R7                1\n",
              "Intel HD Graphics 540        1\n",
              "AMD Radeon 540               1\n",
              "ARM Mali T860 MP4            1\n",
              "Name: Gpu, Length: 110, dtype: int64"
            ]
          },
          "execution_count": null,
          "metadata": {},
          "output_type": "execute_result"
        }
      ],
      "source": [
        "df['Gpu'].value_counts()"
      ]
    },
    {
      "cell_type": "code",
      "execution_count": null,
      "metadata": {
        "colab": {
          "background_save": true
        },
        "id": "DetORX3Wfud1"
      },
      "outputs": [],
      "source": [
        "a=df['Gpu'][0]"
      ]
    },
    {
      "cell_type": "code",
      "execution_count": null,
      "metadata": {
        "colab": {
          "background_save": true
        },
        "id": "HmhFODlMgG3d",
        "outputId": "f200caf9-a07f-4a51-d54a-4bfe75b9cace"
      },
      "outputs": [
        {
          "data": {
            "application/vnd.google.colaboratory.intrinsic+json": {
              "type": "string"
            },
            "text/plain": [
              "'Intel Iris Plus Graphics 640'"
            ]
          },
          "execution_count": null,
          "metadata": {},
          "output_type": "execute_result"
        }
      ],
      "source": [
        "a"
      ]
    },
    {
      "cell_type": "code",
      "execution_count": null,
      "metadata": {
        "colab": {
          "background_save": true
        },
        "id": "6LJTl10EgGBl",
        "outputId": "2ef32809-a670-4718-8bb3-a10e49a98476"
      },
      "outputs": [
        {
          "name": "stdout",
          "output_type": "stream",
          "text": [
            "Intel\n"
          ]
        }
      ],
      "source": [
        "print(a.split()[0])"
      ]
    },
    {
      "cell_type": "code",
      "execution_count": null,
      "metadata": {
        "colab": {
          "background_save": true
        },
        "id": "YGwjO4AxgPuI"
      },
      "outputs": [],
      "source": [
        "df['Gpu Brand']=df['Gpu'].apply(lambda x : x.split()[0])"
      ]
    },
    {
      "cell_type": "code",
      "execution_count": null,
      "metadata": {
        "colab": {
          "background_save": true
        },
        "id": "0r09dcJogns0",
        "outputId": "9171690c-778f-4a96-96a9-7c0bed468b3a"
      },
      "outputs": [
        {
          "data": {
            "text/html": [
              "\n",
              "  <div id=\"df-b47a5383-ae6a-4cd5-82ca-2f8e03c49d33\">\n",
              "    <div class=\"colab-df-container\">\n",
              "      <div>\n",
              "<style scoped>\n",
              "    .dataframe tbody tr th:only-of-type {\n",
              "        vertical-align: middle;\n",
              "    }\n",
              "\n",
              "    .dataframe tbody tr th {\n",
              "        vertical-align: top;\n",
              "    }\n",
              "\n",
              "    .dataframe thead th {\n",
              "        text-align: right;\n",
              "    }\n",
              "</style>\n",
              "<table border=\"1\" class=\"dataframe\">\n",
              "  <thead>\n",
              "    <tr style=\"text-align: right;\">\n",
              "      <th></th>\n",
              "      <th>Company</th>\n",
              "      <th>TypeName</th>\n",
              "      <th>Ram</th>\n",
              "      <th>Gpu</th>\n",
              "      <th>OpSys</th>\n",
              "      <th>Weight</th>\n",
              "      <th>Price</th>\n",
              "      <th>TouchScreen</th>\n",
              "      <th>IPS Panel</th>\n",
              "      <th>X_res</th>\n",
              "      <th>Y_res</th>\n",
              "      <th>PPI</th>\n",
              "      <th>CPU_name</th>\n",
              "      <th>HDD</th>\n",
              "      <th>SSD</th>\n",
              "      <th>Gpu Brand</th>\n",
              "    </tr>\n",
              "  </thead>\n",
              "  <tbody>\n",
              "    <tr>\n",
              "      <th>1230</th>\n",
              "      <td>Lenovo</td>\n",
              "      <td>Netbook</td>\n",
              "      <td>16</td>\n",
              "      <td>Intel HD Graphics 520</td>\n",
              "      <td>Windows 10</td>\n",
              "      <td>1.30</td>\n",
              "      <td>87912.0000</td>\n",
              "      <td>1</td>\n",
              "      <td>1</td>\n",
              "      <td>1920</td>\n",
              "      <td>1080</td>\n",
              "      <td>176.232574</td>\n",
              "      <td>Intel Core i7</td>\n",
              "      <td>0</td>\n",
              "      <td>512</td>\n",
              "      <td>Intel</td>\n",
              "    </tr>\n",
              "    <tr>\n",
              "      <th>270</th>\n",
              "      <td>Apple</td>\n",
              "      <td>Ultrabook</td>\n",
              "      <td>8</td>\n",
              "      <td>Intel Iris Graphics 550</td>\n",
              "      <td>macOS</td>\n",
              "      <td>1.37</td>\n",
              "      <td>104370.1920</td>\n",
              "      <td>0</td>\n",
              "      <td>1</td>\n",
              "      <td>2560</td>\n",
              "      <td>1600</td>\n",
              "      <td>226.983005</td>\n",
              "      <td>Intel Core i5</td>\n",
              "      <td>0</td>\n",
              "      <td>512</td>\n",
              "      <td>Intel</td>\n",
              "    </tr>\n",
              "    <tr>\n",
              "      <th>591</th>\n",
              "      <td>Lenovo</td>\n",
              "      <td>Notebook</td>\n",
              "      <td>12</td>\n",
              "      <td>AMD Radeon 530</td>\n",
              "      <td>Windows 10</td>\n",
              "      <td>2.20</td>\n",
              "      <td>50562.7200</td>\n",
              "      <td>0</td>\n",
              "      <td>0</td>\n",
              "      <td>1920</td>\n",
              "      <td>1080</td>\n",
              "      <td>141.211998</td>\n",
              "      <td>AMD Processor</td>\n",
              "      <td>0</td>\n",
              "      <td>512</td>\n",
              "      <td>AMD</td>\n",
              "    </tr>\n",
              "    <tr>\n",
              "      <th>893</th>\n",
              "      <td>Lenovo</td>\n",
              "      <td>Ultrabook</td>\n",
              "      <td>8</td>\n",
              "      <td>Intel HD Graphics 620</td>\n",
              "      <td>Windows 10</td>\n",
              "      <td>1.32</td>\n",
              "      <td>95850.7200</td>\n",
              "      <td>0</td>\n",
              "      <td>1</td>\n",
              "      <td>1920</td>\n",
              "      <td>1080</td>\n",
              "      <td>157.350512</td>\n",
              "      <td>Intel Core i5</td>\n",
              "      <td>0</td>\n",
              "      <td>256</td>\n",
              "      <td>Intel</td>\n",
              "    </tr>\n",
              "    <tr>\n",
              "      <th>1212</th>\n",
              "      <td>MSI</td>\n",
              "      <td>Gaming</td>\n",
              "      <td>16</td>\n",
              "      <td>Nvidia GeForce GTX 1060</td>\n",
              "      <td>Windows 10</td>\n",
              "      <td>2.43</td>\n",
              "      <td>103842.1872</td>\n",
              "      <td>0</td>\n",
              "      <td>1</td>\n",
              "      <td>1920</td>\n",
              "      <td>1080</td>\n",
              "      <td>127.335675</td>\n",
              "      <td>Intel Core i7</td>\n",
              "      <td>1000</td>\n",
              "      <td>256</td>\n",
              "      <td>Nvidia</td>\n",
              "    </tr>\n",
              "  </tbody>\n",
              "</table>\n",
              "</div>\n",
              "      <button class=\"colab-df-convert\" onclick=\"convertToInteractive('df-b47a5383-ae6a-4cd5-82ca-2f8e03c49d33')\"\n",
              "              title=\"Convert this dataframe to an interactive table.\"\n",
              "              style=\"display:none;\">\n",
              "        \n",
              "  <svg xmlns=\"http://www.w3.org/2000/svg\" height=\"24px\"viewBox=\"0 0 24 24\"\n",
              "       width=\"24px\">\n",
              "    <path d=\"M0 0h24v24H0V0z\" fill=\"none\"/>\n",
              "    <path d=\"M18.56 5.44l.94 2.06.94-2.06 2.06-.94-2.06-.94-.94-2.06-.94 2.06-2.06.94zm-11 1L8.5 8.5l.94-2.06 2.06-.94-2.06-.94L8.5 2.5l-.94 2.06-2.06.94zm10 10l.94 2.06.94-2.06 2.06-.94-2.06-.94-.94-2.06-.94 2.06-2.06.94z\"/><path d=\"M17.41 7.96l-1.37-1.37c-.4-.4-.92-.59-1.43-.59-.52 0-1.04.2-1.43.59L10.3 9.45l-7.72 7.72c-.78.78-.78 2.05 0 2.83L4 21.41c.39.39.9.59 1.41.59.51 0 1.02-.2 1.41-.59l7.78-7.78 2.81-2.81c.8-.78.8-2.07 0-2.86zM5.41 20L4 18.59l7.72-7.72 1.47 1.35L5.41 20z\"/>\n",
              "  </svg>\n",
              "      </button>\n",
              "      \n",
              "  <style>\n",
              "    .colab-df-container {\n",
              "      display:flex;\n",
              "      flex-wrap:wrap;\n",
              "      gap: 12px;\n",
              "    }\n",
              "\n",
              "    .colab-df-convert {\n",
              "      background-color: #E8F0FE;\n",
              "      border: none;\n",
              "      border-radius: 50%;\n",
              "      cursor: pointer;\n",
              "      display: none;\n",
              "      fill: #1967D2;\n",
              "      height: 32px;\n",
              "      padding: 0 0 0 0;\n",
              "      width: 32px;\n",
              "    }\n",
              "\n",
              "    .colab-df-convert:hover {\n",
              "      background-color: #E2EBFA;\n",
              "      box-shadow: 0px 1px 2px rgba(60, 64, 67, 0.3), 0px 1px 3px 1px rgba(60, 64, 67, 0.15);\n",
              "      fill: #174EA6;\n",
              "    }\n",
              "\n",
              "    [theme=dark] .colab-df-convert {\n",
              "      background-color: #3B4455;\n",
              "      fill: #D2E3FC;\n",
              "    }\n",
              "\n",
              "    [theme=dark] .colab-df-convert:hover {\n",
              "      background-color: #434B5C;\n",
              "      box-shadow: 0px 1px 3px 1px rgba(0, 0, 0, 0.15);\n",
              "      filter: drop-shadow(0px 1px 2px rgba(0, 0, 0, 0.3));\n",
              "      fill: #FFFFFF;\n",
              "    }\n",
              "  </style>\n",
              "\n",
              "      <script>\n",
              "        const buttonEl =\n",
              "          document.querySelector('#df-b47a5383-ae6a-4cd5-82ca-2f8e03c49d33 button.colab-df-convert');\n",
              "        buttonEl.style.display =\n",
              "          google.colab.kernel.accessAllowed ? 'block' : 'none';\n",
              "\n",
              "        async function convertToInteractive(key) {\n",
              "          const element = document.querySelector('#df-b47a5383-ae6a-4cd5-82ca-2f8e03c49d33');\n",
              "          const dataTable =\n",
              "            await google.colab.kernel.invokeFunction('convertToInteractive',\n",
              "                                                     [key], {});\n",
              "          if (!dataTable) return;\n",
              "\n",
              "          const docLinkHtml = 'Like what you see? Visit the ' +\n",
              "            '<a target=\"_blank\" href=https://colab.research.google.com/notebooks/data_table.ipynb>data table notebook</a>'\n",
              "            + ' to learn more about interactive tables.';\n",
              "          element.innerHTML = '';\n",
              "          dataTable['output_type'] = 'display_data';\n",
              "          await google.colab.output.renderOutput(dataTable, element);\n",
              "          const docLink = document.createElement('div');\n",
              "          docLink.innerHTML = docLinkHtml;\n",
              "          element.appendChild(docLink);\n",
              "        }\n",
              "      </script>\n",
              "    </div>\n",
              "  </div>\n",
              "  "
            ],
            "text/plain": [
              "     Company   TypeName  Ram                      Gpu       OpSys  Weight  \\\n",
              "1230  Lenovo    Netbook   16    Intel HD Graphics 520  Windows 10    1.30   \n",
              "270    Apple  Ultrabook    8  Intel Iris Graphics 550       macOS    1.37   \n",
              "591   Lenovo   Notebook   12           AMD Radeon 530  Windows 10    2.20   \n",
              "893   Lenovo  Ultrabook    8    Intel HD Graphics 620  Windows 10    1.32   \n",
              "1212     MSI     Gaming   16  Nvidia GeForce GTX 1060  Windows 10    2.43   \n",
              "\n",
              "            Price  TouchScreen  IPS Panel  X_res  Y_res         PPI  \\\n",
              "1230   87912.0000            1          1   1920   1080  176.232574   \n",
              "270   104370.1920            0          1   2560   1600  226.983005   \n",
              "591    50562.7200            0          0   1920   1080  141.211998   \n",
              "893    95850.7200            0          1   1920   1080  157.350512   \n",
              "1212  103842.1872            0          1   1920   1080  127.335675   \n",
              "\n",
              "           CPU_name   HDD  SSD Gpu Brand  \n",
              "1230  Intel Core i7     0  512     Intel  \n",
              "270   Intel Core i5     0  512     Intel  \n",
              "591   AMD Processor     0  512       AMD  \n",
              "893   Intel Core i5     0  256     Intel  \n",
              "1212  Intel Core i7  1000  256    Nvidia  "
            ]
          },
          "execution_count": null,
          "metadata": {},
          "output_type": "execute_result"
        }
      ],
      "source": [
        "df.sample(5)"
      ]
    },
    {
      "cell_type": "code",
      "execution_count": null,
      "metadata": {
        "colab": {
          "background_save": true
        },
        "id": "eFk6rRA3gpyo",
        "outputId": "2de32851-b4ef-4cc0-ee9b-aa763215af53"
      },
      "outputs": [
        {
          "name": "stderr",
          "output_type": "stream",
          "text": [
            "/usr/local/lib/python3.7/dist-packages/seaborn/_decorators.py:43: FutureWarning: Pass the following variable as a keyword arg: x. From version 0.12, the only valid positional argument will be `data`, and passing other arguments without an explicit keyword will result in an error or misinterpretation.\n",
            "  FutureWarning\n"
          ]
        },
        {
          "data": {
            "text/plain": [
              "<matplotlib.axes._subplots.AxesSubplot at 0x7fe51d733b90>"
            ]
          },
          "execution_count": null,
          "metadata": {},
          "output_type": "execute_result"
        },
        {
          "data": {
            "image/png": "[encoded data removed]",
            "text/plain": [
              "<Figure size 432x288 with 1 Axes>"
            ]
          },
          "metadata": {},
          "output_type": "display_data"
        }
      ],
      "source": [
        "sns.countplot(df['Gpu Brand'],palette='plasma')"
      ]
    },
    {
      "cell_type": "code",
      "execution_count": null,
      "metadata": {
        "colab": {
          "background_save": true
        },
        "id": "ufPVtXzIg1zY"
      },
      "outputs": [],
      "source": [
        "df=df[df['Gpu Brand'] != 'ARM']"
      ]
    },
    {
      "cell_type": "code",
      "execution_count": null,
      "metadata": {
        "colab": {
          "background_save": true
        },
        "id": "etqHiapHiHhQ"
      },
      "outputs": [],
      "source": [
        ""
      ]
    },
    {
      "cell_type": "code",
      "execution_count": null,
      "metadata": {
        "colab": {
          "background_save": true
        },
        "id": "_rX0LiYVhlRT",
        "outputId": "7d349f6d-1dcf-423a-9420-629c47baa260"
      },
      "outputs": [
        {
          "data": {
            "text/plain": [
              "<matplotlib.axes._subplots.AxesSubplot at 0x7fe51e3d2b50>"
            ]
          },
          "execution_count": null,
          "metadata": {},
          "output_type": "execute_result"
        },
        {
          "data": {
            "image/png": "[encoded data removed]",
            "text/plain": [
              "<Figure size 576x432 with 1 Axes>"
            ]
          },
          "metadata": {},
          "output_type": "display_data"
        }
      ],
      "source": [
        "plt.figure(figsize=(8,6))\n",
        "sns.barplot(x=df['Gpu Brand'],y=df['Price'],estimator=np.median)"
      ]
    },
    {
      "cell_type": "code",
      "execution_count": null,
      "metadata": {
        "colab": {
          "background_save": true
        },
        "id": "HaA8S0bVi15_",
        "outputId": "b073c682-187e-4a2a-eaf9-7632574d2c3c"
      },
      "outputs": [
        {
          "data": {
            "text/plain": [
              "Index(['Company', 'TypeName', 'Ram', 'Gpu', 'OpSys', 'Weight', 'Price',\n",
              "       'TouchScreen', 'IPS Panel', 'X_res', 'Y_res', 'PPI', 'CPU_name', 'HDD',\n",
              "       'SSD', 'Gpu Brand'],\n",
              "      dtype='object')"
            ]
          },
          "execution_count": null,
          "metadata": {},
          "output_type": "execute_result"
        }
      ],
      "source": [
        "df.columns"
      ]
    },
    {
      "cell_type": "code",
      "execution_count": null,
      "metadata": {
        "colab": {
          "background_save": true
        },
        "id": "7LWe74jrh2Sv"
      },
      "outputs": [],
      "source": [
        "df.drop(['Gpu'],inplace=True,axis=1)"
      ]
    },
    {
      "cell_type": "code",
      "execution_count": null,
      "metadata": {
        "colab": {
          "background_save": true
        },
        "id": "mMlrCeONiwMI",
        "outputId": "8c134c2b-5dec-4710-e6a3-5ac093eceaba"
      },
      "outputs": [
        {
          "data": {
            "text/html": [
              "\n",
              "  <div id=\"df-100f642b-1612-4591-943e-c93c0295605b\">\n",
              "    <div class=\"colab-df-container\">\n",
              "      <div>\n",
              "<style scoped>\n",
              "    .dataframe tbody tr th:only-of-type {\n",
              "        vertical-align: middle;\n",
              "    }\n",
              "\n",
              "    .dataframe tbody tr th {\n",
              "        vertical-align: top;\n",
              "    }\n",
              "\n",
              "    .dataframe thead th {\n",
              "        text-align: right;\n",
              "    }\n",
              "</style>\n",
              "<table border=\"1\" class=\"dataframe\">\n",
              "  <thead>\n",
              "    <tr style=\"text-align: right;\">\n",
              "      <th></th>\n",
              "      <th>Company</th>\n",
              "      <th>TypeName</th>\n",
              "      <th>Ram</th>\n",
              "      <th>OpSys</th>\n",
              "      <th>Weight</th>\n",
              "      <th>Price</th>\n",
              "      <th>TouchScreen</th>\n",
              "      <th>IPS Panel</th>\n",
              "      <th>X_res</th>\n",
              "      <th>Y_res</th>\n",
              "      <th>PPI</th>\n",
              "      <th>CPU_name</th>\n",
              "      <th>HDD</th>\n",
              "      <th>SSD</th>\n",
              "      <th>Gpu Brand</th>\n",
              "    </tr>\n",
              "  </thead>\n",
              "  <tbody>\n",
              "    <tr>\n",
              "      <th>948</th>\n",
              "      <td>Dell</td>\n",
              "      <td>Notebook</td>\n",
              "      <td>4</td>\n",
              "      <td>Windows 10</td>\n",
              "      <td>2.36</td>\n",
              "      <td>35111.52</td>\n",
              "      <td>0</td>\n",
              "      <td>0</td>\n",
              "      <td>1600</td>\n",
              "      <td>900</td>\n",
              "      <td>106.113062</td>\n",
              "      <td>Intel Core i3</td>\n",
              "      <td>1000</td>\n",
              "      <td>0</td>\n",
              "      <td>AMD</td>\n",
              "    </tr>\n",
              "    <tr>\n",
              "      <th>675</th>\n",
              "      <td>MSI</td>\n",
              "      <td>Gaming</td>\n",
              "      <td>16</td>\n",
              "      <td>Windows 10</td>\n",
              "      <td>2.40</td>\n",
              "      <td>68944.32</td>\n",
              "      <td>0</td>\n",
              "      <td>0</td>\n",
              "      <td>1920</td>\n",
              "      <td>1080</td>\n",
              "      <td>141.211998</td>\n",
              "      <td>Intel Core i7</td>\n",
              "      <td>1000</td>\n",
              "      <td>256</td>\n",
              "      <td>Nvidia</td>\n",
              "    </tr>\n",
              "    <tr>\n",
              "      <th>989</th>\n",
              "      <td>Dell</td>\n",
              "      <td>Notebook</td>\n",
              "      <td>8</td>\n",
              "      <td>Windows 10</td>\n",
              "      <td>1.60</td>\n",
              "      <td>59620.32</td>\n",
              "      <td>0</td>\n",
              "      <td>0</td>\n",
              "      <td>1920</td>\n",
              "      <td>1080</td>\n",
              "      <td>157.350512</td>\n",
              "      <td>Intel Core i5</td>\n",
              "      <td>0</td>\n",
              "      <td>128</td>\n",
              "      <td>Intel</td>\n",
              "    </tr>\n",
              "    <tr>\n",
              "      <th>385</th>\n",
              "      <td>Lenovo</td>\n",
              "      <td>Ultrabook</td>\n",
              "      <td>8</td>\n",
              "      <td>Windows 10</td>\n",
              "      <td>1.13</td>\n",
              "      <td>121584.96</td>\n",
              "      <td>0</td>\n",
              "      <td>1</td>\n",
              "      <td>2560</td>\n",
              "      <td>1440</td>\n",
              "      <td>209.800683</td>\n",
              "      <td>Intel Core i7</td>\n",
              "      <td>0</td>\n",
              "      <td>512</td>\n",
              "      <td>Intel</td>\n",
              "    </tr>\n",
              "    <tr>\n",
              "      <th>623</th>\n",
              "      <td>Fujitsu</td>\n",
              "      <td>Notebook</td>\n",
              "      <td>8</td>\n",
              "      <td>Windows 10</td>\n",
              "      <td>2.20</td>\n",
              "      <td>42570.72</td>\n",
              "      <td>0</td>\n",
              "      <td>0</td>\n",
              "      <td>1366</td>\n",
              "      <td>768</td>\n",
              "      <td>100.454670</td>\n",
              "      <td>Intel Core i5</td>\n",
              "      <td>0</td>\n",
              "      <td>256</td>\n",
              "      <td>Intel</td>\n",
              "    </tr>\n",
              "  </tbody>\n",
              "</table>\n",
              "</div>\n",
              "      <button class=\"colab-df-convert\" onclick=\"convertToInteractive('df-100f642b-1612-4591-943e-c93c0295605b')\"\n",
              "              title=\"Convert this dataframe to an interactive table.\"\n",
              "              style=\"display:none;\">\n",
              "        \n",
              "  <svg xmlns=\"http://www.w3.org/2000/svg\" height=\"24px\"viewBox=\"0 0 24 24\"\n",
              "       width=\"24px\">\n",
              "    <path d=\"M0 0h24v24H0V0z\" fill=\"none\"/>\n",
              "    <path d=\"M18.56 5.44l.94 2.06.94-2.06 2.06-.94-2.06-.94-.94-2.06-.94 2.06-2.06.94zm-11 1L8.5 8.5l.94-2.06 2.06-.94-2.06-.94L8.5 2.5l-.94 2.06-2.06.94zm10 10l.94 2.06.94-2.06 2.06-.94-2.06-.94-.94-2.06-.94 2.06-2.06.94z\"/><path d=\"M17.41 7.96l-1.37-1.37c-.4-.4-.92-.59-1.43-.59-.52 0-1.04.2-1.43.59L10.3 9.45l-7.72 7.72c-.78.78-.78 2.05 0 2.83L4 21.41c.39.39.9.59 1.41.59.51 0 1.02-.2 1.41-.59l7.78-7.78 2.81-2.81c.8-.78.8-2.07 0-2.86zM5.41 20L4 18.59l7.72-7.72 1.47 1.35L5.41 20z\"/>\n",
              "  </svg>\n",
              "      </button>\n",
              "      \n",
              "  <style>\n",
              "    .colab-df-container {\n",
              "      display:flex;\n",
              "      flex-wrap:wrap;\n",
              "      gap: 12px;\n",
              "    }\n",
              "\n",
              "    .colab-df-convert {\n",
              "      background-color: #E8F0FE;\n",
              "      border: none;\n",
              "      border-radius: 50%;\n",
              "      cursor: pointer;\n",
              "      display: none;\n",
              "      fill: #1967D2;\n",
              "      height: 32px;\n",
              "      padding: 0 0 0 0;\n",
              "      width: 32px;\n",
              "    }\n",
              "\n",
              "    .colab-df-convert:hover {\n",
              "      background-color: #E2EBFA;\n",
              "      box-shadow: 0px 1px 2px rgba(60, 64, 67, 0.3), 0px 1px 3px 1px rgba(60, 64, 67, 0.15);\n",
              "      fill: #174EA6;\n",
              "    }\n",
              "\n",
              "    [theme=dark] .colab-df-convert {\n",
              "      background-color: #3B4455;\n",
              "      fill: #D2E3FC;\n",
              "    }\n",
              "\n",
              "    [theme=dark] .colab-df-convert:hover {\n",
              "      background-color: #434B5C;\n",
              "      box-shadow: 0px 1px 3px 1px rgba(0, 0, 0, 0.15);\n",
              "      filter: drop-shadow(0px 1px 2px rgba(0, 0, 0, 0.3));\n",
              "      fill: #FFFFFF;\n",
              "    }\n",
              "  </style>\n",
              "\n",
              "      <script>\n",
              "        const buttonEl =\n",
              "          document.querySelector('#df-100f642b-1612-4591-943e-c93c0295605b button.colab-df-convert');\n",
              "        buttonEl.style.display =\n",
              "          google.colab.kernel.accessAllowed ? 'block' : 'none';\n",
              "\n",
              "        async function convertToInteractive(key) {\n",
              "          const element = document.querySelector('#df-100f642b-1612-4591-943e-c93c0295605b');\n",
              "          const dataTable =\n",
              "            await google.colab.kernel.invokeFunction('convertToInteractive',\n",
              "                                                     [key], {});\n",
              "          if (!dataTable) return;\n",
              "\n",
              "          const docLinkHtml = 'Like what you see? Visit the ' +\n",
              "            '<a target=\"_blank\" href=https://colab.research.google.com/notebooks/data_table.ipynb>data table notebook</a>'\n",
              "            + ' to learn more about interactive tables.';\n",
              "          element.innerHTML = '';\n",
              "          dataTable['output_type'] = 'display_data';\n",
              "          await google.colab.output.renderOutput(dataTable, element);\n",
              "          const docLink = document.createElement('div');\n",
              "          docLink.innerHTML = docLinkHtml;\n",
              "          element.appendChild(docLink);\n",
              "        }\n",
              "      </script>\n",
              "    </div>\n",
              "  </div>\n",
              "  "
            ],
            "text/plain": [
              "     Company   TypeName  Ram       OpSys  Weight      Price  TouchScreen  \\\n",
              "948     Dell   Notebook    4  Windows 10    2.36   35111.52            0   \n",
              "675      MSI     Gaming   16  Windows 10    2.40   68944.32            0   \n",
              "989     Dell   Notebook    8  Windows 10    1.60   59620.32            0   \n",
              "385   Lenovo  Ultrabook    8  Windows 10    1.13  121584.96            0   \n",
              "623  Fujitsu   Notebook    8  Windows 10    2.20   42570.72            0   \n",
              "\n",
              "     IPS Panel  X_res  Y_res         PPI       CPU_name   HDD  SSD Gpu Brand  \n",
              "948          0   1600    900  106.113062  Intel Core i3  1000    0       AMD  \n",
              "675          0   1920   1080  141.211998  Intel Core i7  1000  256    Nvidia  \n",
              "989          0   1920   1080  157.350512  Intel Core i5     0  128     Intel  \n",
              "385          1   2560   1440  209.800683  Intel Core i7     0  512     Intel  \n",
              "623          0   1366    768  100.454670  Intel Core i5     0  256     Intel  "
            ]
          },
          "execution_count": null,
          "metadata": {},
          "output_type": "execute_result"
        }
      ],
      "source": [
        "df.sample(5)"
      ]
    },
    {
      "cell_type": "code",
      "execution_count": null,
      "metadata": {
        "colab": {
          "background_save": true
        },
        "id": "C4XVCHxti9V7",
        "outputId": "1e87489a-21a3-4561-90a6-031087f8ab75"
      },
      "outputs": [
        {
          "data": {
            "text/plain": [
              "Windows 10      1072\n",
              "No OS             66\n",
              "Linux             62\n",
              "Windows 7         45\n",
              "Chrome OS         26\n",
              "macOS             13\n",
              "Mac OS X           8\n",
              "Windows 10 S       8\n",
              "Android            2\n",
              "Name: OpSys, dtype: int64"
            ]
          },
          "execution_count": null,
          "metadata": {},
          "output_type": "execute_result"
        }
      ],
      "source": [
        "df['OpSys'].value_counts()"
      ]
    },
    {
      "cell_type": "code",
      "execution_count": null,
      "metadata": {
        "colab": {
          "background_save": true
        },
        "id": "F-_OlDoDjiq6",
        "outputId": "6a53850a-731c-478e-8f72-eba8452c7172"
      },
      "outputs": [
        {
          "data": {
            "text/plain": [
              "(array([0, 1, 2, 3, 4, 5, 6, 7, 8]),\n",
              " <a list of 9 Text major ticklabel objects>)"
            ]
          },
          "execution_count": null,
          "metadata": {},
          "output_type": "execute_result"
        },
        {
          "data": {
            "image/png": "[encoded data removed]",
            "text/plain": [
              "<Figure size 432x288 with 1 Axes>"
            ]
          },
          "metadata": {},
          "output_type": "display_data"
        }
      ],
      "source": [
        "sns.barplot(x=df['OpSys'],y=df['Price'])\n",
        "plt.xticks(rotation='vertical')"
      ]
    },
    {
      "cell_type": "code",
      "execution_count": null,
      "metadata": {
        "colab": {
          "background_save": true
        },
        "id": "5E-8LK_uj_Tv",
        "outputId": "de393747-8cb6-467a-c5b7-cfb93dbac2b5"
      },
      "outputs": [
        {
          "data": {
            "text/plain": [
              "array(['macOS', 'No OS', 'Windows 10', 'Mac OS X', 'Linux', 'Android',\n",
              "       'Windows 10 S', 'Chrome OS', 'Windows 7'], dtype=object)"
            ]
          },
          "execution_count": null,
          "metadata": {},
          "output_type": "execute_result"
        }
      ],
      "source": [
        "df['OpSys'].unique()"
      ]
    },
    {
      "cell_type": "code",
      "execution_count": null,
      "metadata": {
        "colab": {
          "background_save": true
        },
        "id": "vM7uXUHakl84"
      },
      "outputs": [],
      "source": [
        "def setcatagory(text):\n",
        "    \n",
        "    if text =='Windows 10' or text =='Windows 7' or text == 'Windows 10 S':\n",
        "        return 'Windows'\n",
        "\n",
        "     \n",
        "    elif text=='macOS'or text=='Mac OS X':\n",
        "       \n",
        "        return 'Mac OS'\n",
        "\n",
        "    else:\n",
        "        return 'Others'\n",
        "\n",
        "\n",
        "df['OpSys']=df['OpSys'].apply(lambda x : setcatagory(x))"
      ]
    },
    {
      "cell_type": "code",
      "execution_count": null,
      "metadata": {
        "colab": {
          "background_save": true
        },
        "id": "StGOMeVrl1r3",
        "outputId": "a5ab23ae-2932-4c76-81df-2229529ef1d7"
      },
      "outputs": [
        {
          "data": {
            "text/html": [
              "\n",
              "  <div id=\"df-c28861bd-ef05-4e79-bcd4-f1604d5ec86c\">\n",
              "    <div class=\"colab-df-container\">\n",
              "      <div>\n",
              "<style scoped>\n",
              "    .dataframe tbody tr th:only-of-type {\n",
              "        vertical-align: middle;\n",
              "    }\n",
              "\n",
              "    .dataframe tbody tr th {\n",
              "        vertical-align: top;\n",
              "    }\n",
              "\n",
              "    .dataframe thead th {\n",
              "        text-align: right;\n",
              "    }\n",
              "</style>\n",
              "<table border=\"1\" class=\"dataframe\">\n",
              "  <thead>\n",
              "    <tr style=\"text-align: right;\">\n",
              "      <th></th>\n",
              "      <th>Company</th>\n",
              "      <th>TypeName</th>\n",
              "      <th>Ram</th>\n",
              "      <th>OpSys</th>\n",
              "      <th>Weight</th>\n",
              "      <th>Price</th>\n",
              "      <th>TouchScreen</th>\n",
              "      <th>IPS Panel</th>\n",
              "      <th>X_res</th>\n",
              "      <th>Y_res</th>\n",
              "      <th>PPI</th>\n",
              "      <th>CPU_name</th>\n",
              "      <th>HDD</th>\n",
              "      <th>SSD</th>\n",
              "      <th>Gpu Brand</th>\n",
              "    </tr>\n",
              "  </thead>\n",
              "  <tbody>\n",
              "    <tr>\n",
              "      <th>0</th>\n",
              "      <td>Apple</td>\n",
              "      <td>Ultrabook</td>\n",
              "      <td>8</td>\n",
              "      <td>Mac OS</td>\n",
              "      <td>1.37</td>\n",
              "      <td>71378.6832</td>\n",
              "      <td>0</td>\n",
              "      <td>1</td>\n",
              "      <td>2560</td>\n",
              "      <td>1600</td>\n",
              "      <td>226.983005</td>\n",
              "      <td>Intel Core i5</td>\n",
              "      <td>0</td>\n",
              "      <td>128</td>\n",
              "      <td>Intel</td>\n",
              "    </tr>\n",
              "    <tr>\n",
              "      <th>1</th>\n",
              "      <td>Apple</td>\n",
              "      <td>Ultrabook</td>\n",
              "      <td>8</td>\n",
              "      <td>Mac OS</td>\n",
              "      <td>1.34</td>\n",
              "      <td>47895.5232</td>\n",
              "      <td>0</td>\n",
              "      <td>0</td>\n",
              "      <td>1440</td>\n",
              "      <td>900</td>\n",
              "      <td>127.677940</td>\n",
              "      <td>Intel Core i5</td>\n",
              "      <td>0</td>\n",
              "      <td>0</td>\n",
              "      <td>Intel</td>\n",
              "    </tr>\n",
              "    <tr>\n",
              "      <th>2</th>\n",
              "      <td>HP</td>\n",
              "      <td>Notebook</td>\n",
              "      <td>8</td>\n",
              "      <td>Others</td>\n",
              "      <td>1.86</td>\n",
              "      <td>30636.0000</td>\n",
              "      <td>0</td>\n",
              "      <td>0</td>\n",
              "      <td>1920</td>\n",
              "      <td>1080</td>\n",
              "      <td>141.211998</td>\n",
              "      <td>Intel Core i5</td>\n",
              "      <td>0</td>\n",
              "      <td>256</td>\n",
              "      <td>Intel</td>\n",
              "    </tr>\n",
              "    <tr>\n",
              "      <th>3</th>\n",
              "      <td>Apple</td>\n",
              "      <td>Ultrabook</td>\n",
              "      <td>16</td>\n",
              "      <td>Mac OS</td>\n",
              "      <td>1.83</td>\n",
              "      <td>135195.3360</td>\n",
              "      <td>0</td>\n",
              "      <td>1</td>\n",
              "      <td>2880</td>\n",
              "      <td>1800</td>\n",
              "      <td>220.534624</td>\n",
              "      <td>Intel Core i7</td>\n",
              "      <td>0</td>\n",
              "      <td>512</td>\n",
              "      <td>AMD</td>\n",
              "    </tr>\n",
              "    <tr>\n",
              "      <th>4</th>\n",
              "      <td>Apple</td>\n",
              "      <td>Ultrabook</td>\n",
              "      <td>8</td>\n",
              "      <td>Mac OS</td>\n",
              "      <td>1.37</td>\n",
              "      <td>96095.8080</td>\n",
              "      <td>0</td>\n",
              "      <td>1</td>\n",
              "      <td>2560</td>\n",
              "      <td>1600</td>\n",
              "      <td>226.983005</td>\n",
              "      <td>Intel Core i5</td>\n",
              "      <td>0</td>\n",
              "      <td>256</td>\n",
              "      <td>Intel</td>\n",
              "    </tr>\n",
              "  </tbody>\n",
              "</table>\n",
              "</div>\n",
              "      <button class=\"colab-df-convert\" onclick=\"convertToInteractive('df-c28861bd-ef05-4e79-bcd4-f1604d5ec86c')\"\n",
              "              title=\"Convert this dataframe to an interactive table.\"\n",
              "              style=\"display:none;\">\n",
              "        \n",
              "  <svg xmlns=\"http://www.w3.org/2000/svg\" height=\"24px\"viewBox=\"0 0 24 24\"\n",
              "       width=\"24px\">\n",
              "    <path d=\"M0 0h24v24H0V0z\" fill=\"none\"/>\n",
              "    <path d=\"M18.56 5.44l.94 2.06.94-2.06 2.06-.94-2.06-.94-.94-2.06-.94 2.06-2.06.94zm-11 1L8.5 8.5l.94-2.06 2.06-.94-2.06-.94L8.5 2.5l-.94 2.06-2.06.94zm10 10l.94 2.06.94-2.06 2.06-.94-2.06-.94-.94-2.06-.94 2.06-2.06.94z\"/><path d=\"M17.41 7.96l-1.37-1.37c-.4-.4-.92-.59-1.43-.59-.52 0-1.04.2-1.43.59L10.3 9.45l-7.72 7.72c-.78.78-.78 2.05 0 2.83L4 21.41c.39.39.9.59 1.41.59.51 0 1.02-.2 1.41-.59l7.78-7.78 2.81-2.81c.8-.78.8-2.07 0-2.86zM5.41 20L4 18.59l7.72-7.72 1.47 1.35L5.41 20z\"/>\n",
              "  </svg>\n",
              "      </button>\n",
              "      \n",
              "  <style>\n",
              "    .colab-df-container {\n",
              "      display:flex;\n",
              "      flex-wrap:wrap;\n",
              "      gap: 12px;\n",
              "    }\n",
              "\n",
              "    .colab-df-convert {\n",
              "      background-color: #E8F0FE;\n",
              "      border: none;\n",
              "      border-radius: 50%;\n",
              "      cursor: pointer;\n",
              "      display: none;\n",
              "      fill: #1967D2;\n",
              "      height: 32px;\n",
              "      padding: 0 0 0 0;\n",
              "      width: 32px;\n",
              "    }\n",
              "\n",
              "    .colab-df-convert:hover {\n",
              "      background-color: #E2EBFA;\n",
              "      box-shadow: 0px 1px 2px rgba(60, 64, 67, 0.3), 0px 1px 3px 1px rgba(60, 64, 67, 0.15);\n",
              "      fill: #174EA6;\n",
              "    }\n",
              "\n",
              "    [theme=dark] .colab-df-convert {\n",
              "      background-color: #3B4455;\n",
              "      fill: #D2E3FC;\n",
              "    }\n",
              "\n",
              "    [theme=dark] .colab-df-convert:hover {\n",
              "      background-color: #434B5C;\n",
              "      box-shadow: 0px 1px 3px 1px rgba(0, 0, 0, 0.15);\n",
              "      filter: drop-shadow(0px 1px 2px rgba(0, 0, 0, 0.3));\n",
              "      fill: #FFFFFF;\n",
              "    }\n",
              "  </style>\n",
              "\n",
              "      <script>\n",
              "        const buttonEl =\n",
              "          document.querySelector('#df-c28861bd-ef05-4e79-bcd4-f1604d5ec86c button.colab-df-convert');\n",
              "        buttonEl.style.display =\n",
              "          google.colab.kernel.accessAllowed ? 'block' : 'none';\n",
              "\n",
              "        async function convertToInteractive(key) {\n",
              "          const element = document.querySelector('#df-c28861bd-ef05-4e79-bcd4-f1604d5ec86c');\n",
              "          const dataTable =\n",
              "            await google.colab.kernel.invokeFunction('convertToInteractive',\n",
              "                                                     [key], {});\n",
              "          if (!dataTable) return;\n",
              "\n",
              "          const docLinkHtml = 'Like what you see? Visit the ' +\n",
              "            '<a target=\"_blank\" href=https://colab.research.google.com/notebooks/data_table.ipynb>data table notebook</a>'\n",
              "            + ' to learn more about interactive tables.';\n",
              "          element.innerHTML = '';\n",
              "          dataTable['output_type'] = 'display_data';\n",
              "          await google.colab.output.renderOutput(dataTable, element);\n",
              "          const docLink = document.createElement('div');\n",
              "          docLink.innerHTML = docLinkHtml;\n",
              "          element.appendChild(docLink);\n",
              "        }\n",
              "      </script>\n",
              "    </div>\n",
              "  </div>\n",
              "  "
            ],
            "text/plain": [
              "  Company   TypeName  Ram   OpSys  Weight        Price  TouchScreen  \\\n",
              "0   Apple  Ultrabook    8  Mac OS    1.37   71378.6832            0   \n",
              "1   Apple  Ultrabook    8  Mac OS    1.34   47895.5232            0   \n",
              "2      HP   Notebook    8  Others    1.86   30636.0000            0   \n",
              "3   Apple  Ultrabook   16  Mac OS    1.83  135195.3360            0   \n",
              "4   Apple  Ultrabook    8  Mac OS    1.37   96095.8080            0   \n",
              "\n",
              "   IPS Panel  X_res  Y_res         PPI       CPU_name  HDD  SSD Gpu Brand  \n",
              "0          1   2560   1600  226.983005  Intel Core i5    0  128     Intel  \n",
              "1          0   1440    900  127.677940  Intel Core i5    0    0     Intel  \n",
              "2          0   1920   1080  141.211998  Intel Core i5    0  256     Intel  \n",
              "3          1   2880   1800  220.534624  Intel Core i7    0  512       AMD  \n",
              "4          1   2560   1600  226.983005  Intel Core i5    0  256     Intel  "
            ]
          },
          "execution_count": null,
          "metadata": {},
          "output_type": "execute_result"
        }
      ],
      "source": [
        "df.head()"
      ]
    },
    {
      "cell_type": "code",
      "execution_count": null,
      "metadata": {
        "colab": {
          "background_save": true
        },
        "id": "3_0quIoTnffl",
        "outputId": "3361c2e2-64a4-480f-9e48-83f197a7b989"
      },
      "outputs": [
        {
          "name": "stderr",
          "output_type": "stream",
          "text": [
            "/usr/local/lib/python3.7/dist-packages/seaborn/_decorators.py:43: FutureWarning: Pass the following variable as a keyword arg: x. From version 0.12, the only valid positional argument will be `data`, and passing other arguments without an explicit keyword will result in an error or misinterpretation.\n",
            "  FutureWarning\n"
          ]
        },
        {
          "data": {
            "text/plain": [
              "<matplotlib.axes._subplots.AxesSubplot at 0x7fe51e3cd3d0>"
            ]
          },
          "execution_count": null,
          "metadata": {},
          "output_type": "execute_result"
        },
        {
          "data": {
            "image/png": "[encoded data removed]",
            "text/plain": [
              "<Figure size 432x288 with 1 Axes>"
            ]
          },
          "metadata": {},
          "output_type": "display_data"
        }
      ],
      "source": [
        "sns.countplot(df['OpSys'],palette='plasma')"
      ]
    },
    {
      "cell_type": "code",
      "execution_count": null,
      "metadata": {
        "colab": {
          "background_save": true
        },
        "id": "8AVAVoZhoCia",
        "outputId": "afe669a0-f596-4473-978a-138d26c1923c"
      },
      "outputs": [
        {
          "data": {
            "text/plain": [
              "(array([0, 1, 2]), <a list of 3 Text major ticklabel objects>)"
            ]
          },
          "execution_count": null,
          "metadata": {},
          "output_type": "execute_result"
        },
        {
          "data": {
            "image/png": "[encoded data removed]",
            "text/plain": [
              "<Figure size 432x288 with 1 Axes>"
            ]
          },
          "metadata": {},
          "output_type": "display_data"
        }
      ],
      "source": [
        "sns.barplot(x=df['OpSys'],y=df['Price'])\n",
        "plt.xticks(rotation='vertical')"
      ]
    },
    {
      "cell_type": "markdown",
      "metadata": {
        "id": "PLz4mWUTopMr"
      },
      "source": [
        "WEIGHT ANALYSIS"
      ]
    },
    {
      "cell_type": "code",
      "execution_count": null,
      "metadata": {
        "id": "0KF12RKgohVm"
      },
      "outputs": [],
      "source": [
        "sns.distplot(df['Weight'])"
      ]
    },
    {
      "cell_type": "code",
      "execution_count": null,
      "metadata": {
        "id": "yV8i2S_go8Sa"
      },
      "outputs": [],
      "source": [
        "sns.scatterplot(x=df['Weight'],y=df['Price'])"
      ]
    },
    {
      "cell_type": "markdown",
      "metadata": {
        "id": "9_ERqCgBpVK8"
      },
      "source": [
        "PRICE ANALYSIS"
      ]
    },
    {
      "cell_type": "code",
      "execution_count": null,
      "metadata": {
        "id": "kqVvcwuYpEzr"
      },
      "outputs": [],
      "source": [
        "sns.distplot(df['Price'])"
      ]
    },
    {
      "cell_type": "code",
      "execution_count": null,
      "metadata": {
        "id": "d7BPE9EWp5yi"
      },
      "outputs": [],
      "source": [
        "sns.distplot(np.log(df['Price']))"
      ]
    },
    {
      "cell_type": "code",
      "execution_count": null,
      "metadata": {
        "id": "kHn_eV2kqGri"
      },
      "outputs": [],
      "source": [
        "df.corr()['Price']"
      ]
    },
    {
      "cell_type": "code",
      "execution_count": null,
      "metadata": {
        "id": "5wzWZByVqR5m"
      },
      "outputs": [],
      "source": [
        "plt.figure(figsize=(8,5))\n",
        "sns.heatmap(df.corr(),annot=True,cmap='plasma')"
      ]
    },
    {
      "cell_type": "code",
      "execution_count": null,
      "metadata": {
        "id": "JmNQqRT3qwG_"
      },
      "outputs": [],
      "source": [
        "df.drop(['X_res','Y_res'],axis=1,inplace=True)"
      ]
    },
    {
      "cell_type": "code",
      "execution_count": null,
      "metadata": {
        "id": "PYP5vGGQ8jqH"
      },
      "outputs": [],
      "source": [
        "df.head()"
      ]
    },
    {
      "cell_type": "markdown",
      "metadata": {
        "id": "VvAQ2qHjrxxA"
      },
      "source": [
        "MODEL BUILDING"
      ]
    },
    {
      "cell_type": "markdown",
      "metadata": {
        "id": "giXnlzrJ7oaS"
      },
      "source": [
        ""
      ]
    },
    {
      "cell_type": "code",
      "execution_count": null,
      "metadata": {
        "id": "1RvpcoEK2CAX"
      },
      "outputs": [],
      "source": [
        "from sklearn.model_selection import train_test_split\n",
        "from sklearn.preprocessing import MinMaxScaler,StandardScaler\n",
        "from sklearn.pipeline import Pipeline\n",
        "from sklearn.compose import ColumnTransformer\n",
        "from sklearn.preprocessing import LabelEncoder,OneHotEncoder\n",
        "from sklearn import metrics\n",
        "from sklearn.model_selection import RandomizedSearchCV\n",
        "from sklearn.linear_model import LinearRegression,Lasso,Ridge\n",
        "from sklearn.tree import DecisionTreeRegressor\n",
        "from sklearn.ensemble import RandomForestRegressor,GradientBoostingRegressor\n",
        "from xgboost import XGBRegressor\n",
        "from sklearn.svm import SVR\n",
        "from sklearn.neighbors import KNeighborsRegressor\n",
        "from sklearn import tree\n",
        "\n"
      ]
    },
    {
      "cell_type": "code",
      "execution_count": null,
      "metadata": {
        "id": "6qYZmuSy5Oc3"
      },
      "outputs": [],
      "source": [
        "test=np.log(df['Price'])\n",
        "train=df.drop(['Price'],axis=1)"
      ]
    },
    {
      "cell_type": "code",
      "execution_count": null,
      "metadata": {
        "id": "sjrWHth--z5Z"
      },
      "outputs": [],
      "source": [
        "X_train,X_test,y_train,y_test=train_test_split(train,test,test_size=0.15,random_state=2)\n",
        "\n",
        "X_train.shape,X_test.shape\n",
        "\n",
        "\n"
      ]
    },
    {
      "cell_type": "code",
      "execution_count": null,
      "metadata": {
        "id": "KgEDSDsECoNc"
      },
      "outputs": [],
      "source": [
        "mapper={i:value for i,value in enumerate(X_train.columns)}"
      ]
    },
    {
      "cell_type": "code",
      "execution_count": null,
      "metadata": {
        "id": "_cKaHjmZEFk1"
      },
      "outputs": [],
      "source": [
        "mapper"
      ]
    },
    {
      "cell_type": "markdown",
      "metadata": {
        "id": "Mvak7LRWEV8d"
      },
      "source": [
        "LINEAR REGRESSION"
      ]
    },
    {
      "cell_type": "code",
      "execution_count": null,
      "metadata": {
        "id": "2q3zDUdYEGaO"
      },
      "outputs": [],
      "source": [
        "step1=ColumnTransformer(transformers=[('col_tnf',OneHotEncoder(sparse=False,drop='first'),[0,1,3,8,11])],remainder='passthrough')\n",
        "\n",
        "step2=LinearRegression()\n",
        "\n",
        "pipe=Pipeline([('step1',step1),('step2',step2)])\n",
        "\n",
        "\n",
        "pipe.fit(X_train,y_train)\n",
        "\n",
        "y_pred=pipe.predict(X_test)\n",
        "\n",
        "\n",
        "print('R2 score',metrics.r2_score(y_test,y_pred))\n",
        "print('MAE',metrics.mean_absolute_error(y_test,y_pred))"
      ]
    },
    {
      "cell_type": "markdown",
      "metadata": {
        "id": "8Xtmz9buQy4R"
      },
      "source": [
        "Ridge Regression"
      ]
    },
    {
      "cell_type": "code",
      "execution_count": null,
      "metadata": {
        "id": "dPTcVbEKQxev"
      },
      "outputs": [],
      "source": [
        "step1=ColumnTransformer(transformers=[('col_tnf',OneHotEncoder(sparse=False,drop='first'),[0,1,3,8,11])],remainder='passthrough')\n",
        "\n",
        "step2=Ridge(alpha=5)\n",
        "\n",
        "pipe=Pipeline([('step1',step1),('step2',step2)])\n",
        "\n",
        "\n",
        "pipe.fit(X_train,y_train)\n",
        "\n",
        "y_pred=pipe.predict(X_test)\n",
        "\n",
        "\n",
        "print('R2 score',metrics.r2_score(y_test,y_pred))\n",
        "print('MAE',metrics.mean_absolute_error(y_test,y_pred))"
      ]
    },
    {
      "cell_type": "markdown",
      "metadata": {
        "id": "k-kCbp8MSUpj"
      },
      "source": [
        "Lasso Regression"
      ]
    },
    {
      "cell_type": "code",
      "execution_count": null,
      "metadata": {
        "id": "9_JbIW25R5-a"
      },
      "outputs": [],
      "source": [
        "step1=ColumnTransformer(transformers=[('col_tnf',OneHotEncoder(sparse=False,drop='first'),[0,1,3,8,11])],remainder='passthrough')\n",
        "\n",
        "step2=Lasso(alpha=0.001)\n",
        "\n",
        "pipe=Pipeline([('step1',step1),('step2',step2)])\n",
        "\n",
        "\n",
        "pipe.fit(X_train,y_train)\n",
        "\n",
        "y_pred=pipe.predict(X_test)\n",
        "\n",
        "\n",
        "print('R2 score',metrics.r2_score(y_test,y_pred))\n",
        "print('MAE',metrics.mean_absolute_error(y_test,y_pred))"
      ]
    },
    {
      "cell_type": "markdown",
      "metadata": {
        "id": "uGMYpa-fVHME"
      },
      "source": [
        "DECISION TREE"
      ]
    },
    {
      "cell_type": "code",
      "execution_count": null,
      "metadata": {
        "id": "0weIGsVISaYS"
      },
      "outputs": [],
      "source": [
        "step1=ColumnTransformer(transformers=[('col_tnf',OneHotEncoder(sparse=False,drop='first'),[0,1,3,8,11])],remainder='passthrough')\n",
        "\n",
        "step2=DecisionTreeRegressor(max_depth=8)\n",
        "\n",
        "pipe=Pipeline([('step1',step1),('step2',step2)])\n",
        "\n",
        "\n",
        "pipe.fit(X_train,y_train)\n",
        "\n",
        "y_pred=pipe.predict(X_test)\n",
        "\n",
        "\n",
        "print('R2 score',metrics.r2_score(y_test,y_pred))\n",
        "print('MAE',metrics.mean_absolute_error(y_test,y_pred))"
      ]
    },
    {
      "cell_type": "markdown",
      "metadata": {
        "id": "QNAQGeLXVV71"
      },
      "source": [
        "RANDOM FOREST"
      ]
    },
    {
      "cell_type": "code",
      "execution_count": null,
      "metadata": {
        "id": "OaWyrzi1VXJz"
      },
      "outputs": [],
      "source": [
        "step1=ColumnTransformer(transformers=[('col_tnf',OneHotEncoder(sparse=False,drop='first'),[0,1,3,8,11])],remainder='passthrough')\n",
        "\n",
        "step2=RandomForestRegressor(n_estimators=100,random_state=3,max_samples=0.5,max_features=0.75,max_depth=15)\n",
        "\n",
        "pipe=Pipeline([('step1',step1),('step2',step2)])\n",
        "\n",
        "\n",
        "pipe.fit(X_train,y_train)\n",
        "\n",
        "y_pred=pipe.predict(X_test)\n",
        "\n",
        "\n",
        "print('R2 score',metrics.r2_score(y_test,y_pred))\n",
        "print('MAE',metrics.mean_absolute_error(y_test,y_pred))"
      ]
    },
    {
      "cell_type": "code",
      "execution_count": null,
      "metadata": {
        "id": "_9Y3NMwlVyJ2"
      },
      "outputs": [],
      "source": [
        "import pickle\n",
        "pickle.dump(df,open('df.pkl','wb'))\n",
        "pickle.dump(pipe,open('pipe.pkl','wb'))"
      ]
    },
    {
      "cell_type": "code",
      "execution_count": null,
      "metadata": {
        "id": "6t0A0Yuyk3Gm"
      },
      "outputs": [],
      "source": [
        "train.head()"
      ]
    },
    {
      "cell_type": "markdown",
      "metadata": {
        "id": "UoAbpoD-5LwA"
      },
      "source": [
        "HYPERPARAMETER TUNING FOR RANDOM FOREST"
      ]
    },
    {
      "cell_type": "code",
      "execution_count": null,
      "metadata": {
        "id": "hhdpx3svk1sM"
      },
      "outputs": [],
      "source": [
        "indexlist=[0,1,3,8,11]\n",
        "transformlist=[]\n",
        "for key , value in mapper.item():\n",
        "       if key in indexlist:\n",
        "         transformlist.append(value)\n",
        "\n",
        "transformlist"
      ]
    },
    {
      "cell_type": "code",
      "execution_count": null,
      "metadata": {
        "id": "i_nswToF53B1"
      },
      "outputs": [],
      "source": [
        ""
      ]
    }
  ],
  "metadata": {
    "colab": {
      "collapsed_sections": [],
      "name": "laptop price prediction modified.ipynb",
      "provenance": [],
      "authorship_tag": "ABX9TyO0PD8WHT0oZ+LbYF8edUYI",
      "include_colab_link": true
    },
    "kernelspec": {
      "display_name": "Python 3",
      "name": "python3"
    },
    "language_info": {
      "name": "python"
    }
  },
  "nbformat": 4,
  "nbformat_minor": 0
}